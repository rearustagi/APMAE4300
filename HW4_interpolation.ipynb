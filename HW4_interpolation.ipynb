{
 "cells": [
  {
   "cell_type": "markdown",
   "metadata": {},
   "source": [
    "Before you turn this problem in, make sure everything runs as expected. First, **restart the kernel** (in the menubar, select Kernel$\\rightarrow$Restart) and then **run all cells** (in the menubar, select Cell$\\rightarrow$Run All).\n",
    "\n",
    "Make sure you fill in any place that says `YOUR CODE HERE` or \"YOUR ANSWER HERE\", as well as your name and collaborators below:"
   ]
  },
  {
   "cell_type": "code",
   "execution_count": 1,
   "metadata": {},
   "outputs": [],
   "source": [
    "NAME = \"Rea Rustagi\"\n",
    "COLLABORATORS = \"\""
   ]
  },
  {
   "cell_type": "markdown",
   "metadata": {},
   "source": [
    "---"
   ]
  },
  {
   "cell_type": "code",
   "execution_count": 2,
   "metadata": {},
   "outputs": [],
   "source": [
    "%matplotlib inline\n",
    "import numpy\n",
    "import matplotlib.pyplot as plt"
   ]
  },
  {
   "cell_type": "markdown",
   "metadata": {
    "deletable": false,
    "editable": false,
    "nbgrader": {
     "cell_type": "markdown",
     "checksum": "935818b1cc5498fcab64162ff74a4e0a",
     "grade": false,
     "grade_id": "cell-6537906896021329",
     "locked": true,
     "schema_version": 3,
     "solution": false
    }
   },
   "source": [
    "Before you turn this problem in, make sure everything runs as expected. First, restart the kernel (in the menubar, select Kernel $\\rightarrow$ Restart) and then run all cells (in the menubar, select Cell $\\rightarrow$ Run All).\n",
    "\n",
    "Make sure you fill in any place that says YOUR CODE HERE or \"YOUR ANSWER HERE\", as well as your name and collaborators below:"
   ]
  },
  {
   "cell_type": "markdown",
   "metadata": {
    "deletable": false,
    "editable": false,
    "nbgrader": {
     "cell_type": "markdown",
     "checksum": "796ac0c847a6649ab075fecefaf9ad32",
     "grade": false,
     "grade_id": "cell-5502088417300118",
     "locked": true,
     "schema_version": 3,
     "solution": false
    }
   },
   "source": [
    "# HW 4:  Interpolation and applications"
   ]
  },
  {
   "cell_type": "markdown",
   "metadata": {
    "deletable": false,
    "editable": false,
    "nbgrader": {
     "cell_type": "markdown",
     "checksum": "09aa3e7992cd994495709007184999f6",
     "grade": false,
     "grade_id": "cell-82472618555790",
     "locked": true,
     "schema_version": 3,
     "solution": false
    }
   },
   "source": [
    "## Question 1\n",
    "\n",
    "Consider data at three points $(x_0, y_0) = (0, 0)$, $(x_1, y_1) = (1, 2)$, and $(x_2, y_2) = (2, 2)$."
   ]
  },
  {
   "cell_type": "markdown",
   "metadata": {
    "deletable": false,
    "editable": false,
    "nbgrader": {
     "cell_type": "markdown",
     "checksum": "8b0af663801123168dff0f87da1a15e3",
     "grade": false,
     "grade_id": "cell-8265701073131704",
     "locked": true,
     "schema_version": 3,
     "solution": false
    }
   },
   "source": [
    "**(a)** Analytically find coefficients of the interpolating  polynomial $P_2(x)$ that passes through these three points in the following bases\n",
    "1. Monomial: $P(x) = p_0 + p_1 x + p_2 x^2$\n",
    "1. Lagrange: $P(x) = \\sum^2_{k=0} y_k \\ell_k(x)$\n",
    "1. Newton: $P(x) = \\sum^2_{k=0} a_k n_k(x)$ \n",
    "\n",
    "and show that, independent of basis it's always the same polynomial.\n",
    "\n",
    "**Note:** we didn't discuss the Newton polynomial basis in class but they are \n",
    " are defined by\n",
    "\\begin{align}\n",
    "    n_0 &= 1\\\\\n",
    "    n_j(x) &= \\prod^{j-1}_{i=0} (x - x_i)\\quad\\mathrm{for}\\quad j>0 \\\\\n",
    "\\end{align}\n",
    "\n",
    "you will only need the first three\n",
    "\\begin{align}\n",
    "    n_0(x) &= 1\\\\\n",
    "    n_1(x) &= (x-x_0) \\\\\n",
    "    n_2(x) &= (x - x_0)(x-x_1)\\\\\n",
    "\\end{align}\n",
    "\n"
   ]
  },
  {
   "cell_type": "markdown",
   "metadata": {
    "deletable": false,
    "nbgrader": {
     "cell_type": "markdown",
     "checksum": "1d78e35e505af28c6f038b1a93ce639b",
     "grade": true,
     "grade_id": "cell-3823725410153810",
     "locked": false,
     "points": 12,
     "schema_version": 3,
     "solution": true
    }
   },
   "source": [
    "1. Monomial:\n",
    "\n",
    "We have 3 equations:\n",
    "\n",
    "$$\\mathcal{P}(0) = p_0 + p_1*0 + p_2*0^2 = 0$$\n",
    "\n",
    "$$\\mathcal{P}(1) = p_0 + p_1*1 + p_2*1^2 = 2$$\n",
    "\n",
    "$$\\mathcal{P}(2) = p_0 + p_1*2 + p_2*2^2 = 2$$\n",
    "\n",
    "We rewrite as a *Vandermonde* matrix:\n",
    "\n",
    "$$\n",
    "V = \\begin{bmatrix} \n",
    "     1 & 0 & 0 \\\\\n",
    "     1 & 1 & 1 \\\\\n",
    "     1 & 2 & 4 \\\\\n",
    "\\end{bmatrix}\n",
    "$$\n",
    "\n",
    "We can now write the system of linear equations as $V \\mathbf{p} = \\mathbf{y}$:\n",
    "\n",
    "$$\n",
    "V = \\begin{bmatrix} \n",
    "     1 & 0 & 0 \\\\\n",
    "     1 & 1 & 1 \\\\\n",
    "     1 & 2 & 4 \\\\\n",
    "\\end{bmatrix} \\begin{bmatrix} p_0 \\\\ p_1 \\\\ p_2 \\end{bmatrix} = \\begin{bmatrix} 0 \\\\ 2 \\\\ 2 \\end{bmatrix}$$\n",
    "\n",
    "Solving, we get:\n",
    "\n",
    "$$\\begin{bmatrix} p_0 \\\\ p_1 \\\\ p_2 \\end{bmatrix} = \\begin{bmatrix} 0 \\\\ 3 \\\\ -1 \\end{bmatrix}$$\n",
    "\n",
    "Therefore, we get $$\\mathcal{P}(x) = 3x - x^2$$\n",
    "\n",
    "2. Lagrange:\n",
    "\n",
    "The Lagrange polynomial is given by:\n",
    "\n",
    "$$\n",
    "\\mathcal{P}(x) = \\ell_0(x) \\cdot y_0 + \\ell_1(x) \\cdot y_1 + \\ell_2(x) \\cdot y_2\n",
    "$$\n",
    "\n",
    "Where: \n",
    "\n",
    "$$\\ell_0(x) = \\frac{(x - 1)(x - 2)}{(0 - 1)(0 - 2)} = \\frac{x^2 - 3x + 2}{2},$$\n",
    "\n",
    "\n",
    "$$\\ell_1(x) = \\frac{(x - 0)(x - 2)}{(1 - 0)(1 - 2)} = \\frac{x^2 - 2x}{-1}$$\n",
    "\n",
    "and \n",
    "\n",
    "$$\\ell_2(x) = \\frac{(x - 0)(x - 1)}{(2 - 0)(2 - 1)} = \\frac{x^2 - x}{2}.$$\n",
    "\n",
    "Therefore, the Lagrange polynomial is:\n",
    "\n",
    "$$\n",
    "\\mathcal{P}(x) = \\frac{x^2 - 3x + 2}{2} \\cdot 0 + \\frac{x^2 - 2x}{-1} \\cdot 2 + \\frac{x^2 - x}{2} \\cdot 2\n",
    "$$\n",
    "\n",
    "Simplifying:\n",
    "\n",
    "$$\n",
    "\\mathcal{P}(x) = 3x - x^2\n",
    "$$\n",
    "\n",
    "3. Newton:\n",
    "\n",
    "The Newton polynomial is given by:\n",
    "\n",
    "$$\n",
    "\\mathcal{P}(x) = y_0 + y_{10} \\cdot (x - x_0) + y_{210} \\cdot (x - x_0)(x - x_1)\n",
    "$$\n",
    "\n",
    "Where: \n",
    "\n",
    "$$y_{10} = \\frac{y_1 - y_0}{x_1 - x_0} = \\frac{2 - 0}{1 - 0} = 2,$$\n",
    "\n",
    "\n",
    "$$y_{21} = \\frac{y_2 - y_1}{x_2 - x_1} = \\frac{2 - 2}{2 - 1} = 0$$\n",
    "\n",
    "and \n",
    "\n",
    "$$y_{210} = \\frac{y_{21} - y_{10}}{x_2 - x_0} = \\frac{0 - 2}{2 - 0} = -1.$$\n",
    "\n",
    "Therefore, the Newton polynomial is:\n",
    "\n",
    "$$\n",
    "\\mathcal{P}(x) = 0 + 2 \\cdot (x - 0) + -1 \\cdot (x - 0)(x - 1)\n",
    "$$\n",
    "\n",
    "Simplifying:\n",
    "\n",
    "$$\n",
    "\\mathcal{P}(x) = 3x - x^2\n",
    "$$\n",
    "\n",
    "Clearly, we get the same polynomial, $\\mathcal{P}(x) = 3x - x^2$, despite using different bases."
   ]
  },
  {
   "cell_type": "markdown",
   "metadata": {
    "deletable": false,
    "editable": false,
    "nbgrader": {
     "cell_type": "markdown",
     "checksum": "694c375d9eccbf8f76f76d44f2a43edd",
     "grade": false,
     "grade_id": "cell-3903963456629954",
     "locked": true,
     "schema_version": 3,
     "solution": false
    }
   },
   "source": [
    "**(b)** Use the uniqueness of the interpolating polynomial to show that for general $N+1$ points that for a function $f(x) = c$ with $c \\in \\mathbb R$ that\n",
    "\n",
    "$$\\sum^N_{i=0} \\ell_i(x) = 1$$\n",
    "\n",
    "holds for any value of $x$.\n"
   ]
  },
  {
   "cell_type": "markdown",
   "metadata": {
    "deletable": false,
    "nbgrader": {
     "cell_type": "markdown",
     "checksum": "a45926dd69a036c2edfd6cf82189426c",
     "grade": true,
     "grade_id": "cell-5902170639545808",
     "locked": false,
     "points": 4,
     "schema_version": 3,
     "solution": true
    }
   },
   "source": [
    "Let us write $\\mathcal{P}(x)$ as the Lagrange interpolating polynomial:\n",
    "\n",
    "$$P(x) = \\sum^N_{k=0} y_k \\ell_k(x)$$\n",
    "\n",
    "Coefficients in the Lagrange basis are defined as:\n",
    "\n",
    "$$\n",
    "\\ell_i(x) = \\prod^{N}_{j=0, j \\neq i} \\frac{x - x_j}{x_i - x_j},\n",
    "$$\n",
    "\n",
    "where:\n",
    "\n",
    "$$\n",
    "    \\ell_i(x_j) = \\delta_{ij} = \\left\\{\\begin{matrix}\n",
    "            0 & i\\neq j \\\\ \n",
    "            1 & i=j\\\\\n",
    "            \\end{matrix}\\right.\n",
    "$$\n",
    "\n",
    "This property shows us that all $\\ell_i(x)$ where $x  = x_i$ and 0 everywhere where $i\\neq j$. Thus, the sum of all $\\ell_i(x)$ must be 1. In this specific case, since $f(x)$ is a constant function, we can write $P(x)$ as:\n",
    "\n",
    "$$P(x) = \\sum^N_{k=0} y_k \\ell_k(x) = y_k \\sum^N_{k=0} \\ell_k(x) = c \\sum^N_{k=0} \\ell_k(x) = c$$"
   ]
  },
  {
   "cell_type": "markdown",
   "metadata": {
    "deletable": false,
    "editable": false,
    "nbgrader": {
     "cell_type": "markdown",
     "checksum": "ac4c96d7d73e5fc2bed61803c1dfe1b6",
     "grade": false,
     "grade_id": "cell-6806070912155660",
     "locked": true,
     "schema_version": 3,
     "solution": false
    }
   },
   "source": [
    "## Question 2: Fun with Chebyshev Polynomials"
   ]
  },
  {
   "cell_type": "markdown",
   "metadata": {
    "deletable": false,
    "editable": false,
    "nbgrader": {
     "cell_type": "markdown",
     "checksum": "f72bd1c93b2a6e2539d2a9ee13696778",
     "grade": false,
     "grade_id": "cell-8344454aa3c6cd29",
     "locked": true,
     "schema_version": 3,
     "solution": false,
     "task": false
    }
   },
   "source": [
    "**(a)** The $n$th Chebyshev polynomial is characterized (up to a constant) by the identity\n",
    "\n",
    "$$T_n(\\cos \\theta) = \\cos (n \\theta)$$\n",
    "\n",
    "Use this identity to show that the Chebyshev polynomials are orthogonal on $x\\in[-1,1]$ with respect to the weight\n",
    "\n",
    "$$\\omega(x) = \\frac{1}{\\sqrt{1 - x^2}}$$\n",
    "\n",
    "To do this you must prove that\n",
    "\n",
    "$$\\int^1_{-1} \\omega(x) T_n(x) T_m(x) dx = \\left \\{ \\begin{aligned} \n",
    "a & ~ & m = n \\\\ \n",
    "0 & ~ & m \\neq n \n",
    "\\end{aligned} \\right .$$\n",
    "\n",
    "where $a$ is a finite constant (also find this coefficient).  Note that you may have multiple non-zero coefficients $a$.  Make sure to cover all these cases and list the conditions that you will find these values."
   ]
  },
  {
   "cell_type": "markdown",
   "metadata": {
    "deletable": false,
    "nbgrader": {
     "cell_type": "markdown",
     "checksum": "30fc92751374bb2710d4fe7648e32a75",
     "grade": true,
     "grade_id": "cell-8354694405440956",
     "locked": false,
     "points": 4,
     "schema_version": 3,
     "solution": true
    }
   },
   "source": [
    "In this problem we have three cases: where (i) $ m \\neq n \\neq 0,$ (ii) $m=n,$ and (iii) $m=n=0$\n",
    "$\\newline$ For all cases, we will define:\n",
    "$$\n",
    "\\mathcal{L}[T_n(x), T_m(x)] = \\int^1_{-1} \\omega(x) T_n(x) T_m(x) dx\n",
    "$$\n",
    "\n",
    "Case (i):\n",
    "\n",
    "$\\newline$ We must prove that $$\\mathcal{L}= \\int^1_{-1} \\frac{1}{\\sqrt{1 - x^2}} T_n(x) T_m(x) dx$$\n",
    "\n",
    "Using a substitution where $dx = -sin(\\theta)d\\theta$ and $x=cos(\\theta)$:\n",
    "\n",
    "$$\n",
    "\\mathcal{L}[T_n(x), T_m(x)] = \\int^\\pi_{0} \\frac{1}{\\sqrt{1 - cos^2(\\theta)}} T_n(cos(\\theta)) T_m(cos(\\theta)) sin(\\theta)d\\theta = \n",
    "\\int^\\pi_{0} T_n(cos(\\theta)) T_m(cos(\\theta)) d\\theta\n",
    "$$\n",
    "\n",
    "Using the identity given in the problem, we find:\n",
    "$$\n",
    "\\mathcal{L}[T_n(x), T_m(x)] = \\int^\\pi_{0} cos(n\\theta) cos(m\\theta)) d\\theta$$\n",
    "\n",
    "We will use the trig identity:\n",
    "$$ cos(n\\theta)cos(m\\theta)=\\frac{1}{2}[cos(m+n)+cos(m-n)]$$\n",
    "\n",
    "Integrating, we get:\n",
    "\n",
    "$$\\mathcal{L} = \\frac{1}{2}(\\left[\\frac{sin((m+n)\\theta)}{(m+n)}\\right]_0^\\pi + \\left[\\frac{sin((m-n)\\theta)}{(m-n)}\\right]_0^\\pi)$$\n",
    "\n",
    "We know that $sin((m\\pm n)\\theta) = 0$.\n",
    "\n",
    "$\\newline$ Therefore, for case (i), $$ \\mathcal{L} = \\frac{1}{2} * 0 = 0 $$\n",
    "\n",
    "Case (ii):\n",
    "\n",
    "$$\\mathcal{L}[T_n(x), T_m(x)] = \\int^\\pi_{0} cos^2(n\\theta)d\\theta$$\n",
    "\n",
    "Using the previous trig identity:\n",
    "\n",
    "$$\n",
    "= \\frac{1}{2}(\\left[\\frac{sin(2n\\theta)}{2n}\\right]_0^\\pi + \\left[\\theta \\right]_0^\\pi) = \\frac{\\pi}{2}\n",
    "$$\n",
    "\n",
    "Case (iii):\n",
    "$$\n",
    "\\mathcal{L}[T_n(x), T_m(x)] = \\pi\n",
    "$$\n",
    "Since we proved that $\\mathcal{L}$ was 0 for all $m \\neq n$, we have proved orthogonality."
   ]
  },
  {
   "cell_type": "markdown",
   "metadata": {
    "deletable": false,
    "editable": false,
    "nbgrader": {
     "cell_type": "markdown",
     "checksum": "3638d25b6e3d457ebd2f81ce33043fc8",
     "grade": false,
     "grade_id": "cell-87edfee5e38ec2f5",
     "locked": true,
     "schema_version": 3,
     "solution": false,
     "task": false
    }
   },
   "source": [
    "**(b)** Consider the  Gaussian \n",
    "$$ f(x) = e^{-x^2} $$ on the interval $x\\in[-3,3]$\n",
    "\n",
    "make a plot comparing the polynomial interpolant through $N=9$ points using \n",
    "* Evenly spaced points\n",
    "* The appropriate Chebyshev nodes (i.e. roots of $T_9$)\n",
    "\n",
    "Be sure to show both the interpolation points and a reasonably resolved interpolating polynomial $P_8(x)$, and label all lines and axes.\n",
    "\n",
    "You can use any of the routines from the notes or `numpy.polyfit` and `numpy.polyval`.  \n",
    "For fun, experiment with other functions (e.g. Runge's function $f(x) = 1/(1 + 25x^2)$)"
   ]
  },
  {
   "cell_type": "code",
   "execution_count": 21,
   "metadata": {
    "deletable": false,
    "nbgrader": {
     "cell_type": "code",
     "checksum": "c6e322d3d673dead69168eb85e948542",
     "grade": true,
     "grade_id": "cell-02c4fc987bf9ddca",
     "locked": false,
     "points": 6,
     "schema_version": 3,
     "solution": true,
     "task": false
    }
   },
   "outputs": [
    {
     "data": {
      "image/png": "[encoded data removed]",
      "text/plain": [
       "<Figure size 1152x432 with 2 Axes>"
      ]
     },
     "metadata": {
      "needs_background": "light"
     },
     "output_type": "display_data"
    }
   ],
   "source": [
    "# Gaussian Function\n",
    "def f(x):\n",
    "    return numpy.exp(-(x**2))\n",
    "\n",
    "# Parameters\n",
    "x = numpy.linspace(-3, 3, 100)\n",
    "num_points = 9\n",
    "\n",
    "# ============================================================\n",
    "#  Equidistant nodes\n",
    "equidistant_data = numpy.empty((num_points, 2))\n",
    "equidistant_data[:, 0] = numpy.linspace(-3, 3, num_points)\n",
    "equidistant_data[:, 1] = f(equidistant_data[:, 0])\n",
    "N = equidistant_data.shape[0] - 1\n",
    "\n",
    "P_lagrange = poly_interpolant(x, equidistant_data)\n",
    "\n",
    "# ============================================================\n",
    "#  Chebyshev nodes\n",
    "chebyshev_data = numpy.empty((num_points, 2))\n",
    "chebyshev_data[:, 0] = 3 * numpy.cos((2.0 * numpy.arange(1, num_points + 1) - 1.0) * numpy.pi / (2.0 * num_points))\n",
    "chebyshev_data[:, 1] = f(chebyshev_data[:, 0])\n",
    "\n",
    "P_cheby1 = poly_interpolant(x, chebyshev_data)\n",
    "    \n",
    "# Fit directly with Chebyshev polynomials\n",
    "coeff = numpy.polynomial.chebyshev.chebfit(chebyshev_data[:, 0], chebyshev_data[:, 1], N)\n",
    "P_cheby2 = numpy.polynomial.chebyshev.chebval(x, coeff)\n",
    "\n",
    "# ============================================================\n",
    "# Plot the results\n",
    "fig = plt.figure(figsize=(16,6))\n",
    "fig.subplots_adjust(hspace=.5)\n",
    "\n",
    "axes = fig.add_subplot(1, 2, 1)\n",
    "axes.plot(x, f(x), 'k', label=\"True $f(x)$\")\n",
    "axes.plot(x, P_lagrange, 'm', label=\"$P_%s(x)$\" % N)\n",
    "axes.plot(equidistant_data[:, 0], equidistant_data[:, 1], 'bo', label=\"data\")\n",
    "axes.set_title(\"Interpolation of Gaussian at Equispaced Points\")\n",
    "axes.set_xlabel(\"x\")\n",
    "axes.set_ylabel(\"y\")\n",
    "axes.legend(loc=8)\n",
    "axes.grid(linestyle='--', linewidth='0.5')\n",
    "\n",
    "\n",
    "axes = fig.add_subplot(1, 2, 2)\n",
    "axes.plot(x, f(x), 'k', label=\"True $f(x)$\")\n",
    "axes.plot(x, P_cheby1, 'm', label=\"$P_%s(x)$\" % N)\n",
    "axes.plot(chebyshev_data[:, 0], chebyshev_data[:, 1], 'bo', label=\"data\")\n",
    "          \n",
    "axes.set_title(\"Interpolation of Gaussian at Chebyshev Points\")\n",
    "axes.set_xlabel(\"x\")\n",
    "axes.set_ylabel(\"y\")\n",
    "axes.legend(loc=1)\n",
    "axes.grid(linestyle='--', linewidth='0.5')\n",
    "\n",
    "plt.show()"
   ]
  },
  {
   "cell_type": "markdown",
   "metadata": {
    "deletable": false,
    "editable": false,
    "nbgrader": {
     "cell_type": "markdown",
     "checksum": "1101a6c951ecb688a9da3fb9f845dd8d",
     "grade": false,
     "grade_id": "cell-963631730bd282f4",
     "locked": true,
     "schema_version": 3,
     "solution": false,
     "task": false
    }
   },
   "source": [
    "**(c)** define the relative error as\n",
    "        \n",
    "$$\n",
    " r = \\frac{||f(x) - P_N(x)||}{||f(x)||}\n",
    "$$\n",
    "\n",
    "where $||\\cdot||$ is an appropriate norm (length) of a vector, in python you can calculate this by\n",
    "\n",
    "```python\n",
    "x = numpy.linspace(x_min, x_max)\n",
    "P_N = numpy.polyval(p, x)\n",
    "\n",
    "err = f(x) - P_N(x)\n",
    "r = numpy.linalg.norm(err)/numpy.linalg.norm(f(x))\n",
    "```\n",
    "\n",
    "* Make a well labeled plot showing log(r) vs number of grid points $N$ for $N\\in[5,30]$ \n",
    "* Comment briefly on your results. Some questions to consider are:\n",
    "    *  does $P_N(x)\\rightarrow f(x)$ as $N\\rightarrow\\infty$?\n",
    "    *  Is one interpolant more accurate than the other?\n",
    "    * Anything else you notice"
   ]
  },
  {
   "cell_type": "code",
   "execution_count": null,
   "metadata": {
    "deletable": false,
    "nbgrader": {
     "cell_type": "code",
     "checksum": "b501a285d15a7fef6e0dbb6a2fca307e",
     "grade": true,
     "grade_id": "cell-3a61e29e4740bd7d",
     "locked": false,
     "points": 4,
     "schema_version": 3,
     "solution": true,
     "task": false
    }
   },
   "outputs": [],
   "source": [
    "x = numpy.linspace(-3, 3)\n",
    "P_N = numpy.polyval(p, x)\n",
    "\n",
    "err = f(x) - P_N(x)\n",
    "r = numpy.linalg.norm(err)/numpy.linalg.norm(f(x))"
   ]
  },
  {
   "cell_type": "markdown",
   "metadata": {
    "deletable": false,
    "nbgrader": {
     "cell_type": "markdown",
     "checksum": "e3b7bad1b549b90f5d44416f05d4d9c0",
     "grade": true,
     "grade_id": "cell-9bd361f6e06eb56c",
     "locked": false,
     "points": 2,
     "schema_version": 3,
     "solution": true,
     "task": false
    }
   },
   "source": [
    "YOUR ANSWER HERE"
   ]
  },
  {
   "cell_type": "markdown",
   "metadata": {
    "deletable": false,
    "editable": false,
    "nbgrader": {
     "cell_type": "markdown",
     "checksum": "27b49713fe8cae4dff40225f79ad92df",
     "grade": false,
     "grade_id": "cell-3224734890563854",
     "locked": true,
     "schema_version": 3,
     "solution": false
    }
   },
   "source": [
    "## Question 3\n",
    "\n",
    "We can often reformulate finite difference approximations as matrix-vector products.   \n",
    "\n",
    "Here we will construct a matrix   $D$  such that multiplying a vector of $\\mathbf{y}$ values would lead to a second order approximation of the First derivative for the given data. \n",
    "\n",
    "In other words, defining the two vectors   $\\mathbf{x}=[x_0, x_1,\\ldots,x_N]^T$ and $\\mathbf{y}=[y_0, y_1,\\ldots,y_N]^T$  such that\n",
    "\n",
    "$$\\mathbf{y} = f(\\mathbf{x})$$\n",
    "\n",
    "for some scalar function $f$,  find a matrix $D$ such that \n",
    "\n",
    "$$\n",
    "f'(\\mathbf{x}) \\approx D\\mathbf{y}\n",
    "$$"
   ]
  },
  {
   "cell_type": "markdown",
   "metadata": {
    "deletable": false,
    "editable": false,
    "nbgrader": {
     "cell_type": "markdown",
     "checksum": "5a3b33f583f1e78ee81adde20fb8fc8c",
     "grade": false,
     "grade_id": "cell-5c735e9080300d72",
     "locked": true,
     "schema_version": 3,
     "solution": false
    }
   },
   "source": [
    "**(a)** [12] Derive the forward, centered and  backward second order finite difference approximations to the first derivative using the method of your choice.\n",
    "\n",
    "I.e. given 3 equispaced points $x_i, x_{i+1}, x_{i+2}$  calculate the consistent 2nd order, *1st derivative* operator evaluated at each point.  \n",
    "\n",
    "* hint 1:  consider the interpolating polynomial $P_2(x)$ through those 3 points and calculate $P'_2(x)$ at each point.\n",
    "* hint 2:  the method of undetermined coefficients on Taylor's series can be useful here as well\n",
    "\n",
    "**Extra Credit**: Find the consistent 2nd order *2nd derivative* evaluated at each point"
   ]
  },
  {
   "cell_type": "markdown",
   "metadata": {
    "deletable": false,
    "nbgrader": {
     "cell_type": "markdown",
     "checksum": "d6f2af349c4ea7bc256f877fb09a11ef",
     "grade": true,
     "grade_id": "cell-88d2d6f7dba4237d",
     "locked": false,
     "points": 12,
     "schema_version": 3,
     "solution": true
    }
   },
   "source": [
    "Let $ h = \\Delta x$ and $f'(x_i) = \\frac{a_1f(x_i)+a_2f(x_{i+1})+a_3f(x_{i+2})}{h}$\n",
    "$\\newline$ The Taylor Series expansions of $f(x_{i+1})$ and $f(x_{i+2})$ in terms of $f(x_i)$ are:\n",
    "$$\n",
    "f(x_{i+1}) = f(x_i) + f'(x_i)h + \\frac{f''(x_i)}{2!}h^2 + \\frac{f'''(x_i)}{3!}h^3 + \\mathcal{O}(h^4)\n",
    "\\newline f(x_{i+2}) = f(x_i) + 2f'(x_i)h + 2f''(x_i)h^2 + \\frac{4}{3}f'''(x_i)h^3 + \\mathcal{O}(h^4)\n",
    "$$\n",
    "\n",
    "Substitute into $f'(x_i)$ (I):\n",
    "$$\n",
    "f'(x_i) = \\frac{a_1f(x_i)+a_2f(x_{i+1})+a_3f(x_{i+2})}{h} = (\\frac{a_1 + a_2 + a_3}{h})f(x_i) + (a_2+2a_3)f'(x_i) + (\\frac{a_2}{2}+2a_3)hf''(x_i) + (\\frac{a_2}{6}+\\frac{4a_3}{3})h^2f'''(x_i) + \\mathcal{O}(h^2)\n",
    "$$\n",
    "\n",
    "Matching coefficients:\n",
    "\n",
    "$$\\frac{a_1 + a_2 + a_3}{h} = 0\n",
    "\\newline a_2+2a_3 = 1\n",
    "\\newline (\\frac{a_2}{2}+2a_3)h = 0\n",
    "$$\n",
    "\n",
    "Solving for $a_1, a_2, a_3$, we get:\n",
    "$$ a_1 = -\\frac{3}{2}, a_2 = 2, a_3 = -\\frac{1}{2} $$\n",
    "\n",
    "Therefore, by plugging these values into the equation (I) for forward difference is (II):\n",
    "$$\n",
    "f'(x_i) = \\frac{-3f(x_i)+4f(x_{i+1})-f(x_{i+2})}{2h}\n",
    "$$\n",
    "The backward difference can similarly be found as (III):\n",
    "$$\n",
    "f'(x_i) = \\frac{3f(x_i) - 4f(x_{i+1}) + f(x_{i+2})}{2h}\n",
    "$$\n",
    "\n",
    "Subtract (III) from (II) to find the central difference:\n",
    "$$\n",
    "f'(x_i) = \\frac{f(x_{i+1}) - f(x_{i-1})}{2h}\n",
    "$$\n"
   ]
  },
  {
   "cell_type": "markdown",
   "metadata": {
    "deletable": false,
    "editable": false,
    "nbgrader": {
     "cell_type": "markdown",
     "checksum": "5b4d3625936b76ee346bf8290df0a272",
     "grade": false,
     "grade_id": "cell-7885120873385504",
     "locked": true,
     "schema_version": 3,
     "solution": false
    }
   },
   "source": [
    "**(b)** [4] Now consider an equispaced set of points  $y_i = f(x_i)$.  Can you describe the structure of a consistent 2nd order, first derivative matrix $D$,  such that \n",
    "\n",
    "$$\n",
    "    f'(\\mathbf{x}) \\approx D\\mathbf{y}\n",
    "$$\n",
    "\n",
    "returns the consistent 1st derivative at every point (including the end points)"
   ]
  },
  {
   "cell_type": "markdown",
   "metadata": {
    "deletable": false,
    "nbgrader": {
     "cell_type": "markdown",
     "checksum": "615db92a0cea0a438f8d1bcb1b304b11",
     "grade": true,
     "grade_id": "cell-2125755949784286",
     "locked": false,
     "points": 4,
     "schema_version": 3,
     "solution": true
    }
   },
   "source": [
    "The first row will reflect the forward difference equation found in (a) because there are no points to the left of the graph and the last row will reflect the backward difference because there are no included points to the right of the point of derivation. The middle rows will reflect the central difference equation to ensure that the derivative is calculated only for each individual point:\n",
    "\n",
    "$$\n",
    "\\frac{1}{2h} \n",
    "\\left[\\begin{array}{ccccccc}\n",
    "-3 & 4 & -1 & 0 & 0 & \\cdots & 0\\\\\n",
    "-1 & 0 & 1 & 0 & 0 & \\cdots & 0\\\\\n",
    "0 & -1 & 0 & 1 & 0 & \\cdots & 0\\\\\n",
    "0 & 0 & -1 & 0 & 1 & \\cdots & 0\\\\\n",
    "\\vdots & & & & & \\ddots & \\vdots\\\\\n",
    "0 & \\cdots & 0 & 0 & 1 & -4 & 3\\\\\n",
    "\\end{array}\\right]\n",
    "$$\n"
   ]
  },
  {
   "cell_type": "markdown",
   "metadata": {
    "deletable": false,
    "editable": false,
    "nbgrader": {
     "cell_type": "markdown",
     "checksum": "81a305f8a973d9be62256992de1c1149",
     "grade": false,
     "grade_id": "cell-8815784455777695",
     "locked": true,
     "schema_version": 3,
     "solution": false
    }
   },
   "source": [
    "**(c)** [4] Using the function `fdcoeffV.py` described in class (and included with this homework), write a python function that takes in a numpy array of coordinates $x$ (not necessarily evenly spaced)  and returns a matrix $D$ that calculates the consistent 2nd-order 1st derivatives at each point using 3 nearest neighbors (be careful at the edges)\n",
    "\n",
    "Given this matrix $D$, it is easy to test it for various functions and meshes"
   ]
  },
  {
   "cell_type": "code",
   "execution_count": null,
   "metadata": {
    "deletable": false,
    "nbgrader": {
     "cell_type": "code",
     "checksum": "0ccb77beb9410271354dbf3a474cb335",
     "grade": false,
     "grade_id": "cell-5516025382221234",
     "locked": false,
     "schema_version": 3,
     "solution": true
    }
   },
   "outputs": [],
   "source": [
    "from  fdcoeffV import fdcoeffV\n",
    "\n",
    "def D1(x):\n",
    "    \"\"\"\n",
    "    Write a good doc-string\n",
    "    \n",
    "    x: ndarray of coordinates\n",
    "    D: ndarray\n",
    "        Matrix (2-D ndarray ) to calculate consistent 2nd order first derivative\n",
    "    \"\"\"\n",
    "    # YOUR CODE HERE\n",
    "    raise NotImplementedError()\n",
    "    \n"
   ]
  },
  {
   "cell_type": "code",
   "execution_count": null,
   "metadata": {
    "deletable": false,
    "editable": false,
    "nbgrader": {
     "cell_type": "code",
     "checksum": "728edeeac8ee580c8b5451714396ff74",
     "grade": true,
     "grade_id": "cell-7511846809958937",
     "locked": true,
     "points": 4,
     "schema_version": 3,
     "solution": false
    }
   },
   "outputs": [],
   "source": [
    "# Let's test this using f(x) = sin(pi*x) on a uniform mesh\n",
    "N = 200\n",
    "x = numpy.linspace(-1, 1, N)\n",
    "dx = x[1]-x[0]\n",
    "\n",
    "pi = numpy.pi\n",
    "y = lambda x: numpy.sin(pi*x)\n",
    "y_prime = lambda x: pi*numpy.cos(pi*x)\n",
    "\n",
    "print(\"Uniform mesh: \",end='')\n",
    "numpy.testing.assert_allclose(numpy.dot(D1(x), y(x)), y_prime(x), rtol=1e-2)\n",
    "print(\"Success!\")\n",
    "\n",
    "# test on a randomized mesh\n",
    "x_rand = x + dx/3.*numpy.random.rand(N)\n",
    "print(\"Random mesh: \",end ='')\n",
    "numpy.testing.assert_allclose(numpy.dot(D1(x_rand), y(x_rand)), y_prime(x_rand), rtol=1e-2)\n",
    "print(\"Success!\")\n",
    "\n"
   ]
  },
  {
   "cell_type": "markdown",
   "metadata": {
    "deletable": false,
    "editable": false,
    "nbgrader": {
     "cell_type": "markdown",
     "checksum": "ae07a197d06352ba440c9a21e07f055a",
     "grade": false,
     "grade_id": "cell-894a7ec04fd0689b",
     "locked": true,
     "schema_version": 3,
     "solution": false,
     "task": false
    }
   },
   "source": [
    "**(d)** [6] make a beautiful convergence plot showing how the relative error in your finite element approximation\n",
    "\n",
    "$$ r = \\frac{||f'(\\mathbf{x}) - D\\mathbf{y}||}{||f'(\\mathbf{x})||}$$\n",
    "\n",
    " scales with mesh spacing $\\Delta x$ for $f(x) = \\sin(\\pi x)$ on the interval $x\\in[-1,1]$.  What is the expected rate of convergence?  Compare with the best fit straight line (in log space) to your error estimates."
   ]
  },
  {
   "cell_type": "code",
   "execution_count": null,
   "metadata": {
    "deletable": false,
    "nbgrader": {
     "cell_type": "code",
     "checksum": "4500eb4ea647bfe57d5b35b583a5e97c",
     "grade": true,
     "grade_id": "cell-2dac3533cd822755",
     "locked": false,
     "points": 4,
     "schema_version": 3,
     "solution": true,
     "task": false
    }
   },
   "outputs": [],
   "source": [
    "# YOUR CODE HERE\n",
    "raise NotImplementedError()"
   ]
  },
  {
   "cell_type": "markdown",
   "metadata": {
    "deletable": false,
    "nbgrader": {
     "cell_type": "markdown",
     "checksum": "26e78697e343f6e8a397e33cb9f745f8",
     "grade": true,
     "grade_id": "cell-cdbaae508b97aeab",
     "locked": false,
     "points": 2,
     "schema_version": 3,
     "solution": true,
     "task": false
    }
   },
   "source": [
    "YOUR ANSWER HERE"
   ]
  },
  {
   "cell_type": "markdown",
   "metadata": {
    "deletable": false,
    "editable": false,
    "nbgrader": {
     "cell_type": "markdown",
     "checksum": "71695abb08cc03b3423e733ae2b932fa",
     "grade": false,
     "grade_id": "cell-1283048126092389",
     "locked": true,
     "schema_version": 3,
     "solution": false
    }
   },
   "source": [
    "**(e)** [4] Suppose we knew the *first derivative* of a function $f(x)$ at a discrete set of points and wanted to solve for the discrete function itself.  i.e.  ideally given $D$ and vector $\\mathbf{y} = f'(\\mathbf{x})$,  we would like to be able to solve the linear algebra problem\n",
    "\n",
    "$$\n",
    "    D\\mathbf{f} = \\mathbf{y}\n",
    "$$\n",
    "\n",
    "for $\\mathbf{f}\\approx f(\\bf{x})$.  Discuss any issues we might have with this approach."
   ]
  },
  {
   "cell_type": "markdown",
   "metadata": {
    "deletable": false,
    "nbgrader": {
     "cell_type": "markdown",
     "checksum": "4796062ad226b5075c548c9202ba07fe",
     "grade": true,
     "grade_id": "cell-3816704844311840",
     "locked": false,
     "points": 4,
     "schema_version": 3,
     "solution": true
    }
   },
   "source": [
    "$D$ is not invertible (non-trivial kernel) which means that we cannot multiply both sides by $D^{-1}$ to find $\\mathbf{f}$. Unless we are given more information to determine whether there is a unique solution for $D\\mathbf{f} = \\mathbf{y}$, we may not assume that $D$ is invertible. "
   ]
  },
  {
   "cell_type": "markdown",
   "metadata": {
    "deletable": false,
    "editable": false,
    "nbgrader": {
     "cell_type": "markdown",
     "checksum": "113f2bd75e0bd25f0c0cf347901538be",
     "grade": false,
     "grade_id": "cell-76bb9dd43f54e78f",
     "locked": true,
     "schema_version": 3,
     "solution": false,
     "task": false
    }
   },
   "source": [
    "**(f)** **Extra Credit:**  Write a more general function (and a set of tests) to return a matrix approximating the consistent $n$th order  $k$th derivative $D_k(x,k,n)$\n"
   ]
  }
 ],
 "metadata": {
  "kernelspec": {
   "display_name": "Python 3",
   "language": "python",
   "name": "python3"
  },
  "language_info": {
   "codemirror_mode": {
    "name": "ipython",
    "version": 3
   },
   "file_extension": ".py",
   "mimetype": "text/x-python",
   "name": "python",
   "nbconvert_exporter": "python",
   "pygments_lexer": "ipython3",
   "version": "3.8.5"
  },
  "latex_envs": {
   "bibliofile": "biblio.bib",
   "cite_by": "apalike",
   "current_citInitial": 1,
   "eqLabelWithNumbers": true,
   "eqNumInitial": 0
  }
 },
 "nbformat": 4,
 "nbformat_minor": 4
}
