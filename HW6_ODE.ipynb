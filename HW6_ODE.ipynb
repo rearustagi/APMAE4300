{
 "cells": [
  {
   "cell_type": "markdown",
   "metadata": {},
   "source": [
    "Before you turn this problem in, make sure everything runs as expected. First, **restart the kernel** (in the menubar, select Kernel$\\rightarrow$Restart) and then **run all cells** (in the menubar, select Cell$\\rightarrow$Run All).\n",
    "\n",
    "Make sure you fill in any place that says `YOUR CODE HERE` or \"YOUR ANSWER HERE\", as well as your name and collaborators below:"
   ]
  },
  {
   "cell_type": "code",
   "execution_count": 81,
   "metadata": {},
   "outputs": [],
   "source": [
    "NAME = \"Rea Rustagi\"\n",
    "COLLABORATORS = \"\""
   ]
  },
  {
   "cell_type": "markdown",
   "metadata": {},
   "source": [
    "---"
   ]
  },
  {
   "cell_type": "code",
   "execution_count": 82,
   "metadata": {},
   "outputs": [],
   "source": [
    "from __future__ import print_function\n",
    "%matplotlib inline\n",
    "%precision 16\n",
    "import numpy\n",
    "import matplotlib.pyplot as plt\n",
    "from scipy.integrate import solve_ivp\n",
    "\n",
    "from stability_diagrams import plot_stability_ssms\n",
    "from stability_diagrams import plot_stability_lmm"
   ]
  },
  {
   "cell_type": "markdown",
   "metadata": {
    "deletable": false,
    "editable": false,
    "nbgrader": {
     "cell_type": "markdown",
     "checksum": "473011e3807aec080f34736a0024d6db",
     "grade": false,
     "grade_id": "cell-6282430347078978",
     "locked": true,
     "schema_version": 3,
     "solution": false
    }
   },
   "source": [
    "# HW 6:  ODE Methods - Initial Value Problems\n",
    "\n",
    "These questions will use a mixture of scipy routines and hand-rolled ODE solver methods (which you can use from the notes)"
   ]
  },
  {
   "cell_type": "markdown",
   "metadata": {
    "deletable": false,
    "editable": false,
    "nbgrader": {
     "cell_type": "markdown",
     "checksum": "a4378a0e4fd8359b91a2776e8f3c21ef",
     "grade": false,
     "grade_id": "cell-97c426ce43130f77",
     "locked": true,
     "schema_version": 3,
     "solution": false,
     "task": false
    }
   },
   "source": [
    "## Question 1 - The SIR model for Infectious diseases\n",
    "\n",
    "ODE based models are a classical approach to understanding the spread of infectious diseases.\n",
    "\n",
    "One of the pioneering models is the SIR model of [Kermack and McKendrick, (1927)](https://royalsocietypublishing.org/doi/10.1098/rspa.1927.0118) which is a mean-field theory for large populations that assumes the general population can be divided into three subgroups\n",
    "\n",
    "* $S$: the number of susceptible patients\n",
    "* $I$: the number of infected patients\n",
    "* $R$: the number of recovered (or otherwise) patients\n",
    "\n",
    "Given these definitions, the simplest dynamical systems for the three populations can be written\n",
    "\n",
    "$$\n",
    "\\begin{aligned}\n",
    "\\frac{d S}{dt} &= -\\alpha SI \\\\\n",
    "\\frac{d I}{dt} &= \\alpha SI -\\beta I\\\\\n",
    "\\frac{d R}{dt} &= \\beta I \\\\\n",
    "\\end{aligned}\n",
    "$$\n",
    "\n",
    "where $\\alpha$ is the infection rate per person, and $\\beta$ is the recovery rate (hint: check the units) \n",
    "\n",
    "This is the original Kermack and McKendrick model.  We will discuss a host of themes and variations later.  If you are interested [Siettos and Russo, (2013)](https://doi.org/10.4161/viru.24041) provides a short overview of the much larger field of epidemiology modeling (although this paper has some significant mistakes with respect to the analysis of the Kermack and McKendrick model).\n",
    "\n",
    "We will explore this problem through a combination of Analysis and Numerical methods and to use it to test different methods for ODE solvers.\n"
   ]
  },
  {
   "cell_type": "markdown",
   "metadata": {
    "deletable": false,
    "editable": false,
    "nbgrader": {
     "cell_type": "markdown",
     "checksum": "9d56e0a3dcd650ebafd65482f9f8284c",
     "grade": false,
     "grade_id": "cell-d57d5cccd5fe437a",
     "locked": true,
     "schema_version": 3,
     "solution": false,
     "task": false
    }
   },
   "source": [
    "**(a)** [4] First try to explain in words,  what this system of ODE's describes"
   ]
  },
  {
   "cell_type": "markdown",
   "metadata": {
    "deletable": false,
    "hide_input": true,
    "nbgrader": {
     "cell_type": "markdown",
     "checksum": "3a50bb5fe5e3cea6be689f0f83eba3d5",
     "grade": true,
     "grade_id": "cell-78f1cbd4419916a6",
     "locked": false,
     "points": 4,
     "schema_version": 3,
     "solution": true,
     "task": false
    }
   },
   "source": [
    "This system of ODE's is meant to describe the number of people susceptible, infected, and recovered (thus, SIR) from a contagious illness over a given timescale. It provides a simplified way to model the number of sick and recovered people in a population, making these assumptions (not a complete list):\n",
    "\n",
    "- homogenous mixing of susceptible and infected people\n",
    "- no population growth/decline in the time period\n",
    "- zero incubation time\n",
    "- lifetime immunity\n",
    "- short time period\n",
    "\n",
    "$S = S(t)$ defines the number of susceptible individuals, $I = I(t)$ defines the number of infected individuals, and $R = R(t)$ defines the number of recovered individuals at a time $t$. \n",
    "\n",
    "The susceptible and infected class sizes are dependent on how many people move from $S$ to $I$, and the size of $R$ depends on how many people move from $I$ to $R$. These are one way movements (following from the aforementioned assumptions). "
   ]
  },
  {
   "cell_type": "markdown",
   "metadata": {
    "deletable": false,
    "editable": false,
    "nbgrader": {
     "cell_type": "markdown",
     "checksum": "3e7da362e36e2899edc51b912997f7fe",
     "grade": false,
     "grade_id": "cell-c02805feb94b785b",
     "locked": true,
     "schema_version": 3,
     "solution": false,
     "task": false
    }
   },
   "source": [
    "### Some analysis.  \n",
    "\n",
    "Here we will conduct some elementary dimensional analysis to reduce the parameter space.  More detailed analysis of this system can be found  Steve Strogatz' excellent text on [dynamical systems](https://smile.amazon.com/Nonlinear-Dynamics-Chaos-Applications-Nonlinearity/dp/0813349109/ref=dp_ob_image_bk)"
   ]
  },
  {
   "cell_type": "markdown",
   "metadata": {
    "deletable": false,
    "editable": false,
    "nbgrader": {
     "cell_type": "markdown",
     "checksum": "e0ff12772c25324e8cf54b989bfe15a1",
     "grade": false,
     "grade_id": "cell-28b8298c72a5a12c",
     "locked": true,
     "schema_version": 3,
     "solution": false,
     "task": false
    }
   },
   "source": [
    "**(b)** [2] Show that the SIR equations imply that   $S + I + R = N$  where $N$ is a constant (the total population of susceptible people that can all interact)"
   ]
  },
  {
   "cell_type": "markdown",
   "metadata": {
    "deletable": false,
    "nbgrader": {
     "cell_type": "markdown",
     "checksum": "f2f763bc3313b8cace5cadf627a502d3",
     "grade": true,
     "grade_id": "cell-0faef9786658c554",
     "locked": false,
     "points": 2,
     "schema_version": 3,
     "solution": true,
     "task": false
    }
   },
   "source": [
    "The SIR system of ODE's derives all three classes with respect to time, and thus we can combine them additively:\n",
    "$$\n",
    "\\frac{d S}{dt} + \\frac{d I}{dt} + \\frac{d R}{dt} = -\\alpha SI + \\alpha SI -\\beta I + \\beta I\n",
    "$$\n",
    "We can see then that:\n",
    "$$\n",
    "\\frac{d}{dt}(S + I + R) = 0\n",
    "$$\n",
    "If the rate of change of the entire population (because the three classes encompass all people in the population) is 0, then the population itself is a constant (mathematically from integration and intuitively). We just happen to label the constant $N$. "
   ]
  },
  {
   "cell_type": "markdown",
   "metadata": {
    "deletable": false,
    "editable": false,
    "nbgrader": {
     "cell_type": "markdown",
     "checksum": "3a58cb6d7898d03ebb9587b9b4fda4b1",
     "grade": false,
     "grade_id": "cell-b89ec7cd57121b35",
     "locked": true,
     "schema_version": 3,
     "solution": false,
     "task": false
    }
   },
   "source": [
    "**(c)**  [4] Show that under  the change of variables (linear scaling of the variables)\n",
    "\n",
    "$$\n",
    "\\begin{matrix}\n",
    "    S = N s, & I = Ni, & R = Nr, & t = \\tau\\frac{1}{\\alpha N} \\\\\n",
    "\\end{matrix}\n",
    "$$\n",
    "\n",
    "The original equations can be rewritten as the scaled equations \n",
    "\n",
    "$$\n",
    "\\begin{align}\n",
    "    \\frac{d s}{d\\tau} &= -si\\\\\n",
    "    \\frac{d i}{d\\tau} &= (s - s^*)i  \\\\\n",
    "    \\frac{d r}{d\\tau} & = s^* i \\\\\n",
    "\\end{align}\n",
    "$$\n",
    "\n",
    "where \n",
    "$$\n",
    "    s^* = \\frac{\\beta}{\\alpha N}\n",
    "$$\n",
    "\n",
    "\n",
    "\n",
    "**Notes**,  \n",
    "* if we write $s = S/N$ etc. then $s$ is simply the fraction of the total population that is susceptible.  \n",
    "* Also show that $s + i + r = 1$.\n",
    "* this scaling reduces a two-parameter problem to a one parameter problem where the only variable is $s^*$\n",
    "\n"
   ]
  },
  {
   "cell_type": "markdown",
   "metadata": {
    "deletable": false,
    "nbgrader": {
     "cell_type": "markdown",
     "checksum": "8c3c68b4bd0e77099fcee9fcae1a50a3",
     "grade": true,
     "grade_id": "cell-6f14e3bb8e908989",
     "locked": false,
     "points": 4,
     "schema_version": 3,
     "solution": true,
     "task": false
    }
   },
   "source": [
    "Let us first look at the third equation of the SIR model:\n",
    "$$\\frac{d R}{dt} = \\beta I$$\n",
    "Using these substitutions:\n",
    "$$\n",
    "\\begin{matrix}\n",
    "    R = Nr, & t = \\tau\\frac{1}{\\alpha N} \\\\\n",
    "\\end{matrix}\n",
    "$$\n",
    "We get:\n",
    "$$\n",
    "\\frac{Ndr}{\\frac{1}{\\alpha N}d\\tau} = \\alpha N^2 \\frac{dr}{d\\tau}\n",
    "$$\n",
    "We also get:\n",
    "$$\n",
    "-\\alpha S I = -\\alpha N^2 s i\n",
    "$$\n",
    "$$\n",
    "\\beta I = \\beta N i\n",
    "$$\n",
    "So, rewriting the third equation we get:\n",
    "$$\n",
    "\\alpha N^2 \\frac{dr}{d\\tau} = \\beta N i \\Rightarrow \\frac{dr}{d\\tau} = \\frac{\\beta i}{\\alpha N} = s^* i\n",
    "$$\n",
    "Using the same substitutions for $S$, $I$, and $t$, we get:\n",
    "$$\n",
    "\\alpha N^2 \\frac{ds}{d\\tau} = -\\alpha N^2 s i \\Rightarrow \\frac{ds}{d\\tau} = -si\n",
    "$$\n",
    "$$\n",
    "\\alpha N^2 \\frac{di}{d\\tau} = \\alpha N^2 s i - \\beta N i \\Rightarrow \\frac{di}{d\\tau} = si - s^* i = (s-s^*)i\n",
    "$$\n",
    "Clearly, if $S+I+R = N$, using the proportional definitions, $s+i+r = 1$."
   ]
  },
  {
   "cell_type": "markdown",
   "metadata": {
    "deletable": false,
    "editable": false,
    "nbgrader": {
     "cell_type": "markdown",
     "checksum": "17cba206e05e72a92b6b537e5e13f9f4",
     "grade": false,
     "grade_id": "cell-46af647b89cac330",
     "locked": true,
     "schema_version": 3,
     "solution": false,
     "task": false
    }
   },
   "source": [
    "**(d)**  [2] Given that $s^*$ is a constant that only depends on the infection rate per capita $\\alpha$, the recovery rate $\\beta$ and the total population $N$,  interpret the equation for the change in the number of infections\n",
    "\n",
    "$$\n",
    "    \\frac{d i}{d\\tau} = (s - s^*) i\n",
    "$$\n",
    "as a function of the susceptible fraction of the population $s$."
   ]
  },
  {
   "cell_type": "markdown",
   "metadata": {
    "deletable": false,
    "nbgrader": {
     "cell_type": "markdown",
     "checksum": "ab726ca04cc86cb954bcf52e38069414",
     "grade": true,
     "grade_id": "cell-40ede972a75cd41a",
     "locked": false,
     "points": 2,
     "schema_version": 3,
     "solution": true,
     "task": false
    }
   },
   "source": [
    "We interpret $\\tau$ as time scaled to the infectivity of the disease. If $s>s^*$, then $\\frac{di}{d\\tau}$ is positive, meaning that the proportion of infected people is increasing. When $s<s^*$, then the LHS is negative, meaning that the infected proportion is decreasing (individuals moving to the recovered population). When $s=s^*$, the rate of change is 0, meaning that the peak proportion of infected individuals has been reached. "
   ]
  },
  {
   "cell_type": "markdown",
   "metadata": {
    "deletable": false,
    "editable": false,
    "nbgrader": {
     "cell_type": "markdown",
     "checksum": "f14f45e92d83b36ddd331cadf0135ee5",
     "grade": false,
     "grade_id": "cell-4ecd957efe129fa5",
     "locked": true,
     "schema_version": 3,
     "solution": false,
     "task": false
    }
   },
   "source": [
    "### Numerical Methods\n",
    "\n",
    "we will now explore the behavior of this model numerically using a range of our basic algorithms by solving the scaled dynamical system\n",
    "\n",
    "$$\n",
    "    \\frac{d\\mathbf{u}}{dt} = \\mathbf{F}(t,\\mathbf{u}, s^*),\\quad\\mathbf{u}(0)=\\mathbf{u}_0\n",
    "$$\n",
    "\n",
    "where \n",
    "$$\n",
    "    \\mathbf{u} = \\begin{bmatrix} s \\\\ i \\\\ r \\\\ \\end{bmatrix}, \\quad \n",
    "    \\mathbf{F}(t,\\mathbf{u},s^*) = \\begin{bmatrix} -si \\\\ (s - s^*)i \\\\ s^*i \\\\ \\end{bmatrix}\n",
    "$$"
   ]
  },
  {
   "cell_type": "markdown",
   "metadata": {},
   "source": [
    "**(e)** [4] Write function to return the RHS of the scaled dynamical system $\\mathbf{F}(t,\\mathbf{u},s^*)$ as a numpy array"
   ]
  },
  {
   "cell_type": "code",
   "execution_count": 73,
   "metadata": {
    "deletable": false,
    "hide_input": false,
    "nbgrader": {
     "cell_type": "code",
     "checksum": "97094ce0210c5618cf05d1e6a2782f90",
     "grade": false,
     "grade_id": "cell-262f28b1e5913ee6",
     "locked": false,
     "schema_version": 3,
     "solution": true,
     "task": false
    }
   },
   "outputs": [],
   "source": [
    "def F(t, u, s_star):\n",
    "    \"\"\" RHS of scaled SIR model of Kermack and McKendrick\n",
    "    \n",
    "    parameters\n",
    "    ----------\n",
    "        t: float\n",
    "            time (just a dummy variable here because this is an autonomous system)\n",
    "        u: numpy array\n",
    "            array of scaled [ s, i, r ] values such that sum(u) = 1 \n",
    "            (and s,i, r are fractions of the total population N)\n",
    "        s_star: float\n",
    "            scaled critical susceptible population = \\beta/(\\alpha N)\n",
    "            \n",
    "    returns:\n",
    "        F(u): numpy array\n",
    "    \"\"\"\n",
    "    rhs_array = numpy.array([-u[0] * u[1], (u[0] - s_star) * u[1], s_star * u[1]])\n",
    "    return rhs_array"
   ]
  },
  {
   "cell_type": "code",
   "execution_count": 74,
   "metadata": {
    "deletable": false,
    "editable": false,
    "hide_input": false,
    "nbgrader": {
     "cell_type": "code",
     "checksum": "12fac581407142514fda702e3b5a978b",
     "grade": true,
     "grade_id": "cell-072d933c0fd03951",
     "locked": true,
     "points": 4,
     "schema_version": 3,
     "solution": false,
     "task": false
    }
   },
   "outputs": [
    {
     "name": "stdout",
     "output_type": "stream",
     "text": [
      "success!\n"
     ]
    }
   ],
   "source": [
    "# Let's assume the critical level of immunity is 60% of the total population\n",
    "s_star = 0.6\n",
    "\n",
    "# let there initially be .01 % infected cases and no recovered\n",
    "t = 0.\n",
    "i_0 = 1.e-4\n",
    "u_0 = numpy.array([1. - i_0, i_0, 0.0])\n",
    "answer = numpy.array([-9.999000000000001e-05,  3.999000000000001e-05, 6.000000000000000e-05])\n",
    "numpy.testing.assert_allclose(F(t, u_0, s_star), answer)\n",
    "print('success!')"
   ]
  },
  {
   "cell_type": "markdown",
   "metadata": {
    "deletable": false,
    "editable": false,
    "nbgrader": {
     "cell_type": "markdown",
     "checksum": "d088d59ce9dda59ab513f2e0809e93ec",
     "grade": false,
     "grade_id": "cell-4822191656183239434",
     "locked": true,
     "schema_version": 3,
     "solution": false
    }
   },
   "source": [
    "**(f)** [10] Use scipy.integrate.solve_ivp (imported above as solve_ivp),  to solve the scaled dynamical system above with for <font color=\"red\">$s^* = 0.6$</font> and initial condition\n",
    "\n",
    "$$\n",
    "    \\mathbf{u}_0 = \\begin{bmatrix} 1 - i_0\\\\ i_0 \\\\ 0\\\\ \\end{bmatrix}\n",
    "$$\n",
    "\n",
    "where $i_0=10^{-5}$ is the initially infected proportion of the available population $N$\n",
    "\n",
    "Integrate for $t\\in[0, 50]$ and make a plot showing the evolution of $s(t)$, $i(t)$, ${r}(t)$ vs. time \n",
    "\n",
    "**For full credit your plot should show the following**\n",
    "* show the actual time-steps chosen by the adaptive solver as well as a smooth solution (use dense_output=True) \n",
    "* the total cumulative number of cases at any tie\n",
    "* the time and infection level of the peak of the infection (hint: use the `events`, feature of solve_ivp)\n",
    "* the maximum fraction of people infected\n",
    "\n",
    "Explore the behavior of the solutions as a function of $s^*$ and $i_0$ and try to \"flatten the curve\" (we will try to make that more quantitative later). Also,  explore relative and absolute tolerances to convince yourself that your solutions are well resolved."
   ]
  },
  {
   "cell_type": "code",
   "execution_count": 75,
   "metadata": {
    "deletable": false,
    "hide_input": false,
    "nbgrader": {
     "cell_type": "code",
     "checksum": "f2bf5e8f1c26302e22265c386e195c9b",
     "grade": true,
     "grade_id": "cell-2d91985a44491d34",
     "locked": false,
     "points": 10,
     "schema_version": 3,
     "solution": true,
     "task": false
    }
   },
   "outputs": [
    {
     "data": {
      "image/png": "[encoded data removed]",
      "text/plain": [
       "<Figure size 576x432 with 1 Axes>"
      ]
     },
     "metadata": {
      "needs_background": "light"
     },
     "output_type": "display_data"
    }
   ],
   "source": [
    "s_star = 0.6\n",
    "t_interval = (0., 50.)\n",
    "i_0 = 0.00001\n",
    "u_0 = numpy.array([1. - i_0, i_0, 0.])\n",
    "\n",
    "f = lambda t, u: F(t, u, s_star)\n",
    "ev = lambda t, u: (u[0] - s_star)\n",
    "output = solve_ivp(f, t_interval, u_0, method = 'RK45', dense_output = True, events = ev, \n",
    "                   rtol = 1.e-6, atol = 1.e-8)\n",
    "tpeak = output.t_events[0][0]\n",
    "upeak = output.sol(tpeak)\n",
    "ipeak = upeak[1]\n",
    "\n",
    "fig = plt.figure(figsize = (8,6))\n",
    "axes = fig.add_subplot(1,1,1)\n",
    "t = numpy.linspace(t_interval[0], t_interval[1], 100)\n",
    "\n",
    "axes.plot(output.t, output.y[0], 'mo-', label = 'Susceptible Individuals', markersize=3)\n",
    "axes.plot(output.t, output.y[1], 'co-', label = 'Infected Individuals', markersize=3)\n",
    "axes.plot(output.t, output.y[2], 'bo-', label = 'Recovered Individuals', markersize=3)\n",
    "\n",
    "axes.plot(t, u_0[0] + u_0[1] - output.sol(t)[0], 'k--', label = 'Total Cases')\n",
    "\n",
    "axes.set_ylabel('Proportion of Population', fontsize = 12)\n",
    "axes.set_xlabel('Time', fontsize = 12)\n",
    "axes.set_title('SIR Simulation\\n$s^* = {}$, $t_{{peak}}={:3.1f}$, $i_{{peak}}= {:3.2f}$, $r_{{peak}}={:3.2f}$'.format\n",
    "               (s_star, tpeak, ipeak, output.sol(t[-1])[2]), fontsize=12)\n",
    "legend = axes.legend()\n",
    "axes.grid()"
   ]
  },
  {
   "cell_type": "markdown",
   "metadata": {
    "deletable": false,
    "editable": false,
    "nbgrader": {
     "cell_type": "markdown",
     "checksum": "30d412ab682484e13aeb5dafe040b528",
     "grade": false,
     "grade_id": "cell-48221916561834547",
     "locked": true,
     "schema_version": 3,
     "solution": false
    }
   },
   "source": [
    "**(g)** [8] Write your own code to solve the same system using any constant step-size method we discussed in class that is higher than 2nd order (you can use or modify any of the example codes from the notes and make sure it works for vector valued functions.   Your code should be able to use your function $F$ defined above. Make sure to choose a method that will work for the non-linear right-hand-side. We will test it against the output from solve_ivp with N steps uniform steps in $t\\in[0,50]$.  What is the minimum number of steps does your routine take to pass the tests with a relative error of $10^{-4}$ and absolute error of $10^{-5}?.  You can control the number of steps taken with the `N=??` defined at the end of the cell.  **Extra Credit** determine the convergence rate of your method."
   ]
  },
  {
   "cell_type": "code",
   "execution_count": 76,
   "metadata": {
    "deletable": false,
    "hide_input": false,
    "nbgrader": {
     "cell_type": "code",
     "checksum": "13e09fcf965c1b3c41354c08f3f10977",
     "grade": false,
     "grade_id": "cell-918222306640123434",
     "locked": false,
     "schema_version": 3,
     "solution": true,
     "task": false
    }
   },
   "outputs": [],
   "source": [
    "def my_ode_solver(f, t_span, u0, N):\n",
    "    \"\"\" implement constant step size ODE integrator using an RK4 method\n",
    "    \n",
    "    parameters\n",
    "    ----------\n",
    "        f: calleable\n",
    "            vector valued function with interface f(t,u) where u is the state vector\n",
    "        t_span: float list or array (or tuple)\n",
    "            array holding range of times to integrate over t_span = [ t_min, t_max]\n",
    "        u0:  numpy array\n",
    "            array of initial conditions\n",
    "        N: integer\n",
    "            number of time steps to take \n",
    "            \n",
    "    returns:\n",
    "    --------\n",
    "        t: numpy array\n",
    "            array of timesteps from t_min to t_max of length N\n",
    "        u: numpy array of shape (len(u0), len(t))\n",
    "            solution array,  the solution at timestep i should be u[:,i]\n",
    "    \"\"\"\n",
    "    \n",
    "    t = numpy.linspace(t_span[0], t_span[1], N)\n",
    "    delta_t = t[1] - t[0]\n",
    "    \n",
    "    u = numpy.empty([len(u_0), len(t)])\n",
    "    u[:, 0] = u0\n",
    "    \n",
    "    for (n, t_n) in enumerate(t[1:]):\n",
    "        K_1 = delta_t * f(t_n, u[:, n])\n",
    "        K_2 = delta_t * f(t_n + delta_t/2., u[:, n] + K_1/2.)\n",
    "        K_3 = delta_t * f(t_n + delta_t/2., u[:, n] + K_2/2.)\n",
    "        K_4 = delta_t * f(t_n + delta_t, u[:, n] + K_3)\n",
    "        u[:, n+1] = u[:, n] + 1./6. * (K_1 + 2.*( K_2 + K_3) + K_4)\n",
    "        \n",
    "    return t, u\n",
    "\n",
    "# you can control the number of steps used here\n",
    "N = 100 "
   ]
  },
  {
   "cell_type": "code",
   "execution_count": 77,
   "metadata": {
    "deletable": false,
    "editable": false,
    "hide_input": false,
    "nbgrader": {
     "cell_type": "code",
     "checksum": "f7be2a6e93a825a99f752ab8e4102652",
     "grade": true,
     "grade_id": "cell-918222306640124",
     "locked": true,
     "points": 8,
     "schema_version": 3,
     "solution": false,
     "task": false
    }
   },
   "outputs": [
    {
     "name": "stdout",
     "output_type": "stream",
     "text": [
      "success!\n"
     ]
    }
   ],
   "source": [
    "s_star = 0.6\n",
    "f = lambda t, u: F(t, u, s_star)\n",
    "\n",
    "t_span = [0., 50.]\n",
    "i_0 = 1.e-5\n",
    "u_0 = numpy.array([1. - i_0, i_0, 0.0])\n",
    "\n",
    "\n",
    "t, u = my_ode_solver(f, t_span, u_0, N)\n",
    "\n",
    "# There was a hidden line here implementing sol = solve_ivp to get the \"True\" solution\n",
    "sol = solve_ivp(f, t_span, u_0, method='RK45', dense_output=True, rtol=1.e-6, atol = 1.e-8)\n",
    "\n",
    "numpy.testing.assert_allclose(u, sol.sol(t), rtol=1.e-4, atol=1.e-5)\n",
    "print('success!')"
   ]
  },
  {
   "cell_type": "markdown",
   "metadata": {
    "deletable": false,
    "editable": false,
    "nbgrader": {
     "cell_type": "markdown",
     "checksum": "206ea91d42a6ed18738f8eb5e410ac6a",
     "grade": false,
     "grade_id": "cell-72ea6dc8a2813be7",
     "locked": true,
     "schema_version": 3,
     "solution": false,
     "task": false
    }
   },
   "source": [
    "**(h)** [2] Reproduce your figure from the scipy version (without events)"
   ]
  },
  {
   "cell_type": "code",
   "execution_count": 78,
   "metadata": {
    "deletable": false,
    "hide_input": false,
    "nbgrader": {
     "cell_type": "code",
     "checksum": "c7fbad01da98f1196ea96430b8c5cf0e",
     "grade": true,
     "grade_id": "cell-9182223066423o434",
     "locked": false,
     "points": 2,
     "schema_version": 3,
     "solution": true,
     "task": false
    }
   },
   "outputs": [
    {
     "data": {
      "image/png": "[encoded data removed]",
      "text/plain": [
       "<Figure size 576x432 with 1 Axes>"
      ]
     },
     "metadata": {
      "needs_background": "light"
     },
     "output_type": "display_data"
    }
   ],
   "source": [
    "s_star = 0.6\n",
    "f = lambda t, u: F(t, u, s_star)\n",
    "\n",
    "t_interval = (0., 50.)\n",
    "i_0 = 0.00001\n",
    "u_0 = numpy.array([1. - i_0, i_0, 0.])\n",
    "t, u = my_ode_solver(f, t_interval, u_0, N)\n",
    "\n",
    "sus = u[0]\n",
    "inf = u[1]\n",
    "rec = u[2]\n",
    "\n",
    "t_mos = numpy.linspace(0, 50, N)\n",
    "\n",
    "fig = plt.figure(figsize = (8,6))\n",
    "axes = fig.add_subplot(1,1,1)\n",
    "\n",
    "axes.plot(t_mos, sus, 'mo-', label = 'Susceptible Individuals', markersize=3)\n",
    "axes.plot(t_mos, inf, 'co-', label = 'Infected Individuals', markersize=3)\n",
    "axes.plot(t_mos, rec, 'bo-', label = 'Recovered Individuals', markersize=3)\n",
    "\n",
    "axes.plot(t, u_0[0] + u_0[1] - output.sol(t)[0], 'k--', label = 'Total Cases')\n",
    "\n",
    "axes.set_ylabel('Proportion of Population', fontsize = 12)\n",
    "axes.set_xlabel('Time', fontsize = 12)\n",
    "axes.set_title('SIR Simulation\\n$s^* = {}$, $t_{{peak}}={:3.1f}$, $i_{{peak}}= {:3.2f}$, $r_{{peak}}={:3.2f}$'.format\n",
    "               (s_star, tpeak, ipeak, output.sol(t[-1])[2]), fontsize=12)\n",
    "legend = axes.legend()\n",
    "axes.grid()"
   ]
  },
  {
   "cell_type": "markdown",
   "metadata": {
    "deletable": false,
    "editable": false,
    "nbgrader": {
     "cell_type": "markdown",
     "checksum": "f628fe4acf3482778f5d969540373bbe",
     "grade": false,
     "grade_id": "cell-062d990b667d61f1",
     "locked": true,
     "schema_version": 3,
     "solution": false,
     "task": false
    }
   },
   "source": [
    "### Extra Credit (10 pts) Themes and Variations\n",
    "\n",
    "The classical Kermack and McKendric model is only one of a vast set of models used to model the spread of infection disease but assumes homogeneous mixing across the entire population.  In addition there are lots of things  to explore with even the simplest SIR model.   Try one (or more) of the following problems or come up with your own problem.  You may work in groups\n",
    "\n",
    "* Choose a fixed value of $N$ for the maximum susceptible population. Assume that maximum hospital capacity is achieved when the number of infected patients reaches $i_{max}$.  Construct a root-finding problem to find the value of $s^*$ required to keep  the peak number of infected cases $i_{peak} <= i_{max}$. \n",
    "\n",
    "* Consider the possibility of re-infection (ugh!).  One model of this assumes that recovered patients can become susceptible again at some rate $\\lambda$.  Modify the original SIR model to include this possibility and construct a new scaled set of equations.  This will now be a 2 parameter dynamical system ($s^*$ and another parameter say $\\lambda^*$.  Explore the behavior of this new problem.\n",
    "\n",
    "* There are lots of data on aggregated cases by country, state, and county.  Find some time-series data and attempt to fit the two parameters $\\alpha N$ (which controls the time scale) and $\\beta$ which controls $s*$. (A good source of data and a thorough discussion of what we know and don't know  is [Our world in Data](https://ourworldindata.org/coronavirus).\n",
    "\n",
    "* Read [Siettos and Russo, (2013)](https://doi.org/10.4161/viru.24041)  which reviews a range of epidemiology models including Stochastic SIR models. Wikipedia also has several pages on modeling epidemics ([here](https://en.wikipedia.org/wiki/Compartmental_models_in_epidemiology) , and [here](https://en.wikipedia.org/wiki/Mathematical_modelling_of_infectious_disease)) Pick another model and propose how to implement it.  Better yet, implement it\n",
    "\n",
    "* Something Numerical: Write an adaptive time stepper built around any two single-step multi-stage schemes and compare your solution to solve_ivp.\n",
    "\n",
    "* Your own best ideas!\n",
    "\n"
   ]
  },
  {
   "cell_type": "code",
   "execution_count": null,
   "metadata": {
    "deletable": false,
    "nbgrader": {
     "cell_type": "code",
     "checksum": "19cb3e30c298dc27444a334afb769956",
     "grade": true,
     "grade_id": "cell-52d744104da718a8",
     "locked": false,
     "points": 0,
     "schema_version": 3,
     "solution": true,
     "task": false
    }
   },
   "outputs": [],
   "source": []
  },
  {
   "cell_type": "markdown",
   "metadata": {
    "deletable": false,
    "editable": false,
    "nbgrader": {
     "cell_type": "markdown",
     "checksum": "f82640bdadf4ecd7d32406fba71374a3",
     "grade": false,
     "grade_id": "cell-c54586fa263cc449",
     "locked": true,
     "schema_version": 3,
     "solution": false,
     "task": false
    }
   },
   "source": [
    "## Question 2 - Absolute Stability Regions Single-Step Multi-stage schemes"
   ]
  },
  {
   "cell_type": "markdown",
   "metadata": {
    "deletable": false,
    "editable": false,
    "nbgrader": {
     "cell_type": "markdown",
     "checksum": "4c43299a2318bf213b6514e7fe8ac79a",
     "grade": false,
     "grade_id": "cell-dd9d7792263258d8",
     "locked": true,
     "schema_version": 3,
     "solution": false,
     "task": false
    }
   },
   "source": [
    "**(a)** [4 pt] Taylor Series method:\n",
    "    \n",
    "Show that $R(z)$ for a Taylor's series method of order $p$ acting on the model problem $u'=\\lambda u$ always just returns the first $p+1$ terms of the Taylor series of $e^z$."
   ]
  },
  {
   "cell_type": "markdown",
   "metadata": {
    "deletable": false,
    "nbgrader": {
     "cell_type": "markdown",
     "checksum": "f5bb5b09ab8d30954162f309886ebf0c",
     "grade": true,
     "grade_id": "cell-1ca065b824f2cbb0",
     "locked": false,
     "points": 4,
     "schema_version": 3,
     "solution": true,
     "task": false
    }
   },
   "source": [
    "Applying the stepping scheme for one step of the model problem $u'=\\lambda u$ results in the discrete approximation:\n",
    "$$\n",
    "U_{n+1} = R(z) U_n\n",
    "$$\n",
    "Using the substitution $z=\\lambda\\Delta t\\in\\mathbb{C}$, we can apply the Taylor series formula:\n",
    "$$\n",
    "T_n(x) = f(x_0) + f'(x_0)(x-x_0) + \\frac{1}{2}f''(x_0)(x-x_0)^2 +  \\ldots + \\frac{1}{p!}f^p(x_0)(x-x_0)^p\n",
    "$$\n",
    "to the model problem to get:\n",
    "$$\n",
    "U_{n+1} = U_n + \\lambda\\Delta t U_n + \\frac{1}{2} \\lambda^2 \\Delta t ^2 U_n +\\ldots + \\frac{1}{p!}\\lambda^p \\Delta t^p U_n\n",
    "$$\n",
    "Factoring $U_n$:\n",
    "$$\n",
    "U_{n+1} = U_n(1+\\lambda\\Delta t+\\frac{1}{2} \\lambda^2 \\Delta t ^2+\\ldots+\\frac{1}{p!}\\lambda^p \\Delta t^p)\n",
    "$$\n",
    "Substituting for $z$:\n",
    "$$\n",
    "U_{n+1} = U_n(1+z+\\frac{1}{2} z^2+\\ldots+\\frac{1}{p!}z^p)\n",
    "$$\n",
    "Showing that:\n",
    "$$\n",
    "R(z) = (1+z+\\frac{1}{2} z^2+\\ldots+\\frac{1}{p!}z^p)\n",
    "$$\n",
    "Which are just the first $p+1$ Taylor terms of $e^z$."
   ]
  },
  {
   "cell_type": "markdown",
   "metadata": {
    "deletable": false,
    "editable": false,
    "nbgrader": {
     "cell_type": "markdown",
     "checksum": "2d9eb1124c7bc577827b093264976e64",
     "grade": false,
     "grade_id": "cell-273021c1878d0b00",
     "locked": true,
     "schema_version": 3,
     "solution": false,
     "task": false
    }
   },
   "source": [
    "**(b)** [4 pt] Plot the regions of absolute stability for Taylor Series methods of order 2-5\n",
    "\n",
    "You can use the plotting codes given in class and included in the file stability_diagrams.py which are imported in the first cell"
   ]
  },
  {
   "cell_type": "code",
   "execution_count": 84,
   "metadata": {
    "deletable": false,
    "nbgrader": {
     "cell_type": "code",
     "checksum": "b1a3a886fcf13a05d017a97dbe14733a",
     "grade": true,
     "grade_id": "cell-9c688399c72e251a",
     "locked": false,
     "points": 4,
     "schema_version": 3,
     "solution": true,
     "task": false
    }
   },
   "outputs": [
    {
     "data": {
      "image/png": "[encoded data removed]",
      "text/plain": [
       "<Figure size 720x720 with 8 Axes>"
      ]
     },
     "metadata": {
      "needs_background": "light"
     },
     "output_type": "display_data"
    }
   ],
   "source": [
    "x = numpy.linspace(-4, 4, 100)\n",
    "y = numpy.linspace(-4, 4, 100)\n",
    "\n",
    "r_tay2 = lambda z: 1 + z + (z**2)/2\n",
    "r_tay3 = lambda z: 1 + z + (z**2)/2 + (z**3)/6\n",
    "r_tay4 = lambda z: 1 + z + (z**2)/2 + (z**3)/6 + (z**4)/24\n",
    "r_tay5 = lambda z: 1 + z + (z**2)/2 + (z**3)/6 + (z**4)/24 + (z**5)/120\n",
    "\n",
    "fig = plt.figure(figsize=(10, 10))\n",
    "axes = fig.add_subplot(2, 2, 1)\n",
    "plot_stability_ssms(r_tay2, x, y, axes = axes, title = 'Stability of 2nd Order TS')\n",
    "\n",
    "axes = fig.add_subplot(2, 2, 2)\n",
    "plot_stability_ssms(r_tay3, x, y, axes = axes, title = 'Stability of 3rd Order TS')\n",
    "\n",
    "axes = fig.add_subplot(2, 2, 3)\n",
    "plot_stability_ssms(r_tay4, x, y, axes = axes, title = 'Stability of 4th Order TS')\n",
    "\n",
    "axes = fig.add_subplot(2, 2, 4)\n",
    "plot_stability_ssms(r_tay5, x, y, axes = axes, title = 'Stability of 5th Order TS')"
   ]
  },
  {
   "cell_type": "markdown",
   "metadata": {
    "deletable": false,
    "editable": false,
    "nbgrader": {
     "cell_type": "markdown",
     "checksum": "4cd9edb39602b50c79729aed18509454",
     "grade": false,
     "grade_id": "cell-cf67bcdf6e56f88a",
     "locked": true,
     "schema_version": 3,
     "solution": false,
     "task": false
    }
   },
   "source": [
    "**(b)** [4 pt] Derive $R(z)$ for the RK2 method and show that it is equivalent to Taylor 2\n",
    "\n",
    "**Extra Credit**  show that $R(Z)$ for RK4 is identical to Taylor-4 (in general this is true for explicit RK methods)"
   ]
  },
  {
   "cell_type": "markdown",
   "metadata": {
    "deletable": false,
    "nbgrader": {
     "cell_type": "markdown",
     "checksum": "f8c04e94acf46b8f5bcda7c6529a4263",
     "grade": true,
     "grade_id": "cell-ccd05ce9cfbb3ae0",
     "locked": false,
     "points": 4,
     "schema_version": 3,
     "solution": true,
     "task": false
    }
   },
   "source": [
    "With step size $\\Delta t>0$, we define:\n",
    "$$\n",
    "U_{n+1} = U_n + \\frac{1}{6} k_1 + 0k_2\n",
    "$$\n",
    "$$\n",
    "t_{n+1} = t_n + \\Delta t\n",
    "$$\n",
    "Applying to the model problem $u'=\\lambda u$:\n",
    "$$k_1 = \\Delta t f(t_n, U_n)$$\n",
    "$$k_2 = \\Delta t f(t_n+\\frac{\\Delta t}{2}, U_n - \\frac{k_1}{2})$$\n",
    "Considering $z = \\Delta t \\lambda$:\n",
    "$$k_1 = z U_n$$\n",
    "$$k_2 = z (1-\\frac{z}{2})U_n$$\n",
    "Substituting back into the $U_{n+1}$ equation, we find:\n",
    "$$\n",
    "U_{n+1} = (1+z+\\frac{z^2}{2})U_n\n",
    "$$\n",
    "Since $U_{n+1} = R(z) U_n$:\n",
    "$$\n",
    "R(z) = 1+z+\\frac{1}{2} z^2\n",
    "$$\n",
    "Which is the same stability function as the 2nd order Taylor method."
   ]
  },
  {
   "cell_type": "markdown",
   "metadata": {
    "deletable": false,
    "editable": false,
    "nbgrader": {
     "cell_type": "markdown",
     "checksum": "2c28bcfd375e36c5a93c5e612a16554b",
     "grade": false,
     "grade_id": "cell-74f9c58c7046a7cd",
     "locked": true,
     "schema_version": 3,
     "solution": false
    }
   },
   "source": [
    "## Question 3: Linear Multi-Step Schemes - Derivation and stability"
   ]
  },
  {
   "cell_type": "markdown",
   "metadata": {
    "deletable": false,
    "editable": false,
    "nbgrader": {
     "cell_type": "markdown",
     "checksum": "47a6d4aec9010957daf12f68478fe21a",
     "grade": false,
     "grade_id": "cell-74f9c58c7a7cd",
     "locked": true,
     "schema_version": 3,
     "solution": false
    }
   },
   "source": [
    "[4] Derive the Adams-Moulton 2-step method \n",
    "$$\n",
    "    U_{n+2} = U_{n+1} + \\frac{\\Delta t}{12} (-f_{n} + 8 f_{n+1} + 5 f_{n+2}),\n",
    "$$\n",
    "\n",
    "and its error estimate using the formula for the truncation error of general multi-step schemes\n",
    "$$\n",
    "\\begin{aligned}\n",
    "    T(t, u; \\Delta t) &= \\frac{1}{\\Delta t}\\left( \\sum^r_{j=0} \\alpha_j\\right) u(t_n) + \\left(\\sum^r_{j=0} (j\\alpha_j - \\beta_j)\\right) u'(t_n) + \\Delta t \\left(\\sum^r_{j=0} \\left (\\frac{1}{2}j^2 \\alpha_j - j \\beta_j \\right) \\right) u''(t_n) \\\\\n",
    "& \\quad \\quad + \\cdots + \\Delta t^{q - 1} \\left (\\sum^r_{j=0} \\left(\\frac{1}{q!} j^q \\alpha_j - \\frac{1}{(q-1)!} j^{q-1} \\beta_j \\right) \\right) u^{(q)}(t_n) + \\cdots\n",
    "\\end{aligned}$$\n",
    "\n",
    "i.e. find $\\alpha_j$s and $\\beta_j$s that zero out terms of the truncation error out to some order.\n",
    "Some Hint's \n",
    "* This is an Adams scheme with three levels so we already know the $\\alpha$'s\n",
    "* Therefore you only have to find the three $\\beta$'s $\\beta_0$, $\\beta_1$ and $\\beta_2$\n",
    "* Use the above formula to find 3 equations for the 3 values of $\\beta$\n",
    "* The remainder term will be the order of the Truncation error"
   ]
  },
  {
   "cell_type": "markdown",
   "metadata": {
    "deletable": false,
    "nbgrader": {
     "cell_type": "markdown",
     "checksum": "326a9861def06d4f11a07ffdde556ac4",
     "grade": true,
     "grade_id": "cell-415a1f1008c1",
     "locked": false,
     "points": 4,
     "schema_version": 3,
     "solution": true
    }
   },
   "source": [
    "Sorry I am leaving these blank. This semester is really taking it out of me. Maybe not having to grade these cells will make your life a little easier! :)"
   ]
  },
  {
   "cell_type": "markdown",
   "metadata": {
    "deletable": false,
    "editable": false,
    "nbgrader": {
     "cell_type": "markdown",
     "checksum": "a5d121d00d0b95a703d5b8a6c78f261e",
     "grade": false,
     "grade_id": "cell-5fc238aba385d265",
     "locked": true,
     "schema_version": 3,
     "solution": false,
     "task": false
    }
   },
   "source": [
    "**(c)** [8] Stability polynomials and Diagrams\n",
    "\n",
    "Calculate the stability polynomial and plot the stability regions for\n",
    "1. 2-step Adams-Moulton methods.\n",
    "1. 3-step Adams-Bashforth methods\n",
    "\n",
    "which are both 3rd-order methods.  Comment on the relative size of stability regions of these two methods and Taylor-3."
   ]
  },
  {
   "cell_type": "markdown",
   "metadata": {
    "deletable": false,
    "nbgrader": {
     "cell_type": "markdown",
     "checksum": "ccd22ea267673785077f4e38f2b3db22",
     "grade": true,
     "grade_id": "cell-35754117816ff2dd",
     "locked": false,
     "points": 4,
     "schema_version": 3,
     "solution": true,
     "task": false
    }
   },
   "source": [
    "YOUR ANSWER HERE"
   ]
  },
  {
   "cell_type": "code",
   "execution_count": 87,
   "metadata": {
    "deletable": false,
    "nbgrader": {
     "cell_type": "code",
     "checksum": "dff12e08aba9ba3313d6421cd3a11cad",
     "grade": true,
     "grade_id": "cell-bb5d48ede7f2d8f4",
     "locked": false,
     "points": 4,
     "schema_version": 3,
     "solution": true,
     "task": false
    }
   },
   "outputs": [
    {
     "data": {
      "image/png": "[encoded data removed]",
      "text/plain": [
       "<Figure size 576x288 with 4 Axes>"
      ]
     },
     "metadata": {
      "needs_background": "light"
     },
     "output_type": "display_data"
    }
   ],
   "source": [
    "x = numpy.linspace(-8, 8, 100)\n",
    "y = numpy.linspace(-8, 8, 100)\n",
    "\n",
    "AM2 = lambda z: numpy.array([12 - 5*z, -(12. + 8*z), z])\n",
    "AB3 = lambda z: numpy.array([12, -(12. + 23*z), 16*z, -5*z])\n",
    "\n",
    "fig = plt.figure(figsize=(8,4))\n",
    "\n",
    "axes = fig.add_subplot(2,2,1)\n",
    "plot_stability_lmm(AM2, x, y, axes=axes, title='Stability of AM2')\n",
    "\n",
    "axes = fig.add_subplot(2,2,2)\n",
    "plot_stability_lmm(AB3, x, y, axes=axes, title='Stability of AB3')"
   ]
  },
  {
   "cell_type": "markdown",
   "metadata": {
    "deletable": false,
    "nbgrader": {
     "cell_type": "markdown",
     "checksum": "e424adc8b74c1156d0ba25ab8e2dd6dd",
     "grade": true,
     "grade_id": "cell-94b7e383d04df2bc",
     "locked": false,
     "points": 2,
     "schema_version": 3,
     "solution": true,
     "task": false
    }
   },
   "source": [
    "The Adams-Moulton 2 Method has a much larger stability region than the Adams-Bashforth 3 Meth0d. AM2 is comparable to the Taylor 3rd Order Method, though. "
   ]
  },
  {
   "cell_type": "markdown",
   "metadata": {
    "deletable": false,
    "editable": false,
    "nbgrader": {
     "cell_type": "markdown",
     "checksum": "d75f66b9bafa4438dca6cbfdef283246",
     "grade": false,
     "grade_id": "cell-0ebb7155c15aa67d",
     "locked": true,
     "schema_version": 3,
     "solution": false,
     "task": false
    }
   },
   "source": [
    "**(d)**  [6] In class we demonstrated that the Leap-frog method seemed to be unstable, at least for the examples we showed.  Use your tools for stability analysis of Linear Multi-step methods to analyze the general stability of the Leap Frog method and plot its stability diagram. In particular, comment on the case we showed in class for $\\lambda$ real and negative."
   ]
  },
  {
   "cell_type": "markdown",
   "metadata": {
    "deletable": false,
    "nbgrader": {
     "cell_type": "markdown",
     "checksum": "74fd2490f5284e224c0208d375df8b63",
     "grade": true,
     "grade_id": "cell-9b23a269401801a6",
     "locked": false,
     "points": 4,
     "schema_version": 3,
     "solution": true,
     "task": false
    }
   },
   "source": [
    "YOUR ANSWER HERE"
   ]
  },
  {
   "cell_type": "code",
   "execution_count": null,
   "metadata": {
    "deletable": false,
    "nbgrader": {
     "cell_type": "code",
     "checksum": "adbbc438ac01b509922ec90acbb94b9b",
     "grade": true,
     "grade_id": "cell-de8ac5dc46de0a80",
     "locked": false,
     "points": 2,
     "schema_version": 3,
     "solution": true,
     "task": false
    }
   },
   "outputs": [],
   "source": [
    "# YOUR CODE HERE\n",
    "raise NotImplementedError()"
   ]
  }
 ],
 "metadata": {
  "kernelspec": {
   "display_name": "Python 3",
   "language": "python",
   "name": "python3"
  },
  "language_info": {
   "codemirror_mode": {
    "name": "ipython",
    "version": 3
   },
   "file_extension": ".py",
   "mimetype": "text/x-python",
   "name": "python",
   "nbconvert_exporter": "python",
   "pygments_lexer": "ipython3",
   "version": "3.8.5"
  },
  "latex_envs": {
   "bibliofile": "biblio.bib",
   "cite_by": "apalike",
   "current_citInitial": 1,
   "eqLabelWithNumbers": true,
   "eqNumInitial": 0
  }
 },
 "nbformat": 4,
 "nbformat_minor": 4
}
