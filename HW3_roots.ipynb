{
 "cells": [
  {
   "cell_type": "markdown",
   "metadata": {},
   "source": [
    "Before you turn this problem in, make sure everything runs as expected. First, **restart the kernel** (in the menubar, select Kernel$\\rightarrow$Restart) and then **run all cells** (in the menubar, select Cell$\\rightarrow$Run All).\n",
    "\n",
    "Make sure you fill in any place that says `YOUR CODE HERE` or \"YOUR ANSWER HERE\", as well as your name and collaborators below:"
   ]
  },
  {
   "cell_type": "code",
   "execution_count": 1,
   "metadata": {},
   "outputs": [],
   "source": [
    "NAME = \"Rea Rustagi\"\n",
    "COLLABORATORS = \"\""
   ]
  },
  {
   "cell_type": "markdown",
   "metadata": {},
   "source": [
    "---"
   ]
  },
  {
   "cell_type": "code",
   "execution_count": 2,
   "metadata": {},
   "outputs": [],
   "source": [
    "from __future__ import print_function\n",
    "import numpy\n",
    "import matplotlib.pyplot as plt\n",
    "import warnings\n",
    "\n",
    "%matplotlib inline\n"
   ]
  },
  {
   "cell_type": "markdown",
   "metadata": {
    "deletable": false,
    "editable": false,
    "nbgrader": {
     "cell_type": "markdown",
     "checksum": "896aee8be036699e78bc884285e0b02f",
     "grade": false,
     "grade_id": "cell-7752050701682384",
     "locked": true,
     "schema_version": 3,
     "solution": false
    }
   },
   "source": [
    "# HW 3:  Root Finding and Optimization"
   ]
  },
  {
   "cell_type": "markdown",
   "metadata": {
    "deletable": false,
    "editable": false,
    "nbgrader": {
     "cell_type": "markdown",
     "checksum": "79deda1fff66c5437b0dc524ed7eb9a6",
     "grade": false,
     "grade_id": "cell-8382527651811313",
     "locked": true,
     "schema_version": 3,
     "solution": false
    }
   },
   "source": [
    "## Question 1 - Fun with Fixed Point iteration\n",
    "\n",
    "Let's say that we wanted to calculate $\\sqrt{M}$ given that $M \\in \\mathbb{R}$ and $M > 0$ and that we did not want to use the function `sqrt` directly.  Consider the function \n",
    "\n",
    "$$\n",
    "    f(x) = x^2 - M\n",
    "$$\n",
    "\n",
    "which has a positive root at at $x=\\sqrt{M}$.   Here we will try to solve this using  fixed point iteration\n",
    "\n",
    "$$\n",
    "    x_{k+1} = g(x_k)\n",
    "$$\n",
    "for several different iteration functions $g(x)$ (see below)\n",
    "\n",
    "For each function $g$:\n",
    "\n",
    "- Confirm analytically that $x=\\sqrt{M}$ is a fixed point of $g(x)$\n",
    "- Analyze the convergence behavior close to the fixed-point and determine the stability of the iterative scheme\n",
    "- Now set $M=3$  and $x_0 = 2$.  Make a nicely labeled convergence plot showing the log of the relative error as a function of iteration. How many iterations are required to reduce the relative error to machine precision (if it converges)?"
   ]
  },
  {
   "cell_type": "markdown",
   "metadata": {
    "deletable": false,
    "editable": false,
    "nbgrader": {
     "cell_type": "markdown",
     "checksum": "47d9ae565a714b67099b1500b01a4250",
     "grade": false,
     "grade_id": "cell-7408468548362671",
     "locked": true,
     "schema_version": 3,
     "solution": false
    }
   },
   "source": [
    "**(a)** [4] To help with the last part,  write a short python function to return N iterations of a fixed point iteration."
   ]
  },
  {
   "cell_type": "code",
   "execution_count": 3,
   "metadata": {
    "deletable": false,
    "nbgrader": {
     "cell_type": "code",
     "checksum": "ce6bb68ac251ae8857aeb9060c313a74",
     "grade": false,
     "grade_id": "cell-5217816963816529",
     "locked": false,
     "schema_version": 3,
     "solution": true
    }
   },
   "outputs": [],
   "source": [
    "def fixed_point(g, x0, N=5):\n",
    "    \"\"\"conduct N iterations of the fixed point iteration x_{k+1} = g(x_k)\n",
    "    \n",
    "    :Input:\n",
    "        - *g* (function) - The iteration function\n",
    "        - *x_0* (float) - Initial iterate\n",
    "        - *N* (int) - number of terms in iteration\n",
    "     \n",
    "    :Output:\n",
    "        xiters: numpy array (float)\n",
    "            array containing the iterations [ x0, x1, ... x_N ]\n",
    "    \"\"\"\n",
    "    \n",
    "    tol = numpy.finfo(float).eps\n",
    "    i = 0\n",
    "    e = x0\n",
    "    xiters = [e]\n",
    "    \n",
    "    while (e > tol and i < N):\n",
    "        x = g(x0)\n",
    "        e = numpy.abs(x - x0)\n",
    "        x0 = x\n",
    "        xiters.append(x0)\n",
    "        i += 1\n",
    "    \n",
    "    \n",
    "    return xiters"
   ]
  },
  {
   "cell_type": "code",
   "execution_count": 4,
   "metadata": {
    "deletable": false,
    "editable": false,
    "nbgrader": {
     "cell_type": "code",
     "checksum": "28a8e5dc391b64b8f37510159d1f3bcc",
     "grade": true,
     "grade_id": "cell-5409919424122382",
     "locked": true,
     "points": 4,
     "schema_version": 3,
     "solution": false
    }
   },
   "outputs": [
    {
     "name": "stdout",
     "output_type": "stream",
     "text": [
      "success!\n"
     ]
    }
   ],
   "source": [
    "# Testing Cell\n",
    "\n",
    "N = 5\n",
    "g = lambda x: numpy.cos(x)\n",
    "x0 = 1.\n",
    "answer = numpy.array([1., 0.54030231, 0.85755322, 0.65428979,\n",
    "                      0.79348036, 0.70136877])\n",
    "x_true = 0.7390851332153119\n",
    "\n",
    "x = fixed_point(g, x0, N )\n",
    "numpy.testing.assert_allclose(x, answer)\n",
    "x = fixed_point(g, x0, 1000)\n",
    "numpy.testing.assert_almost_equal(x[-1],x_true)\n",
    "print('success!')"
   ]
  },
  {
   "cell_type": "markdown",
   "metadata": {
    "deletable": false,
    "editable": false,
    "nbgrader": {
     "cell_type": "markdown",
     "checksum": "14b5f732f5aa0e3b5cfeac176c46d19c",
     "grade": false,
     "grade_id": "cell-2533433274902651",
     "locked": true,
     "schema_version": 3,
     "solution": false
    }
   },
   "source": [
    "**(b)** [6] analyze the problem with \n",
    "$$ g(x) = 1 + x - \\frac{x^2}{M}$$"
   ]
  },
  {
   "cell_type": "markdown",
   "metadata": {
    "deletable": false,
    "nbgrader": {
     "cell_type": "markdown",
     "checksum": "f8553ede2a496f25fd88744bab86b8fa",
     "grade": true,
     "grade_id": "cell-340019030337399",
     "locked": false,
     "points": 4,
     "schema_version": 3,
     "solution": true,
     "task": false
    }
   },
   "source": [
    "Step A: Check if $x=\\sqrt{M}$ is a fixed point of $g(x)$:\n",
    "$$\n",
    "g(\\sqrt{M}) = 1 + \\sqrt{M} - \\frac{M}{M} = 1 + \\sqrt{M} - 1 = \\sqrt{M}\n",
    "$$\n",
    "We confirm that $x=\\sqrt{M}$ is a fixed point. $\\newline$\n",
    "Step B: Analyze convergence behavior\n",
    "$$ \n",
    "|g'(x*=\\sqrt{M})| = |1 - \\frac{2*\\sqrt{M}}{M}| = |1 - \\frac{2}{\\sqrt{M}}|\n",
    "$$\n",
    "If $|1 - \\frac{2}{\\sqrt{M}}| < 1$, then the scheme will converge. The scheme will converge for all positive roots of M and diverge for all negative roots of M. "
   ]
  },
  {
   "cell_type": "code",
   "execution_count": 5,
   "metadata": {
    "deletable": false,
    "nbgrader": {
     "cell_type": "code",
     "checksum": "743a196e7f7129d5fdeb501531d96bc2",
     "grade": true,
     "grade_id": "cell-9ea67719fcf6c873",
     "locked": false,
     "points": 2,
     "schema_version": 3,
     "solution": true,
     "task": false
    }
   },
   "outputs": [
    {
     "data": {
      "text/plain": [
       "Text(0.5, 1.0, 'N (# of iterations) vs. Relative Error')"
      ]
     },
     "execution_count": 5,
     "metadata": {},
     "output_type": "execute_result"
    },
    {
     "data": {
      "image/png": "[encoded data removed]",
      "text/plain": [
       "<Figure size 432x288 with 1 Axes>"
      ]
     },
     "metadata": {
      "needs_background": "light"
     },
     "output_type": "display_data"
    }
   ],
   "source": [
    "M = 3\n",
    "x0 = 2\n",
    "g = lambda x: 1 + x - (x**2) / M\n",
    "\n",
    "x = fixed_point(g, x0, 30)\n",
    "rel = numpy.abs((numpy.sqrt(3) - x) / numpy.sqrt(3))\n",
    "\n",
    "plt.semilogy(range(len(x)), rel, '-m')\n",
    "plt.axhline(y=numpy.finfo(float).eps, color='b', linestyle='--')\n",
    "plt.grid(True)\n",
    "plt.xlabel('N')\n",
    "plt.ylabel('Relative Error')\n",
    "plt.title(\"N (# of iterations) vs. Relative Error\")"
   ]
  },
  {
   "cell_type": "markdown",
   "metadata": {
    "deletable": false,
    "editable": false,
    "nbgrader": {
     "cell_type": "markdown",
     "checksum": "631a3e4c05e43db09ece645a93dd948c",
     "grade": false,
     "grade_id": "cell-2533433274adsfadf1",
     "locked": true,
     "schema_version": 3,
     "solution": false
    }
   },
   "source": [
    " **(c)** [6] analyze the problem with \n",
    "$$ g(x) = \\frac{M}{x}$$"
   ]
  },
  {
   "cell_type": "markdown",
   "metadata": {
    "deletable": false,
    "nbgrader": {
     "cell_type": "markdown",
     "checksum": "4b9b505f2509ac5d4d21866f8f8735d0",
     "grade": true,
     "grade_id": "cell-340019030h348fqoi",
     "locked": false,
     "points": 4,
     "schema_version": 3,
     "solution": true,
     "task": false
    }
   },
   "source": [
    "Step A: Check if $x=\\sqrt{M}$ is a fixed point of $g(x)$:\n",
    "$$\n",
    "g(\\sqrt{M}) = \\frac{M}{\\sqrt{M}} = \\sqrt{M}\n",
    "$$\n",
    "We confirm that $x=\\sqrt{M}$ is a fixed point. $\\newline$\n",
    "Step B: Analyze convergence behavior\n",
    "$$ \n",
    "|g'(x*=\\sqrt{M})| = |-\\frac{M}{M}| = |-1| = 1\n",
    "$$\n",
    "The scheme will not converge because $|g'(x*=\\sqrt{M})|=1$."
   ]
  },
  {
   "cell_type": "code",
   "execution_count": 6,
   "metadata": {
    "deletable": false,
    "nbgrader": {
     "cell_type": "code",
     "checksum": "564a941d39f88c7cb280a1cc912d4b05",
     "grade": true,
     "grade_id": "cell-9ea67238r9y",
     "locked": false,
     "points": 2,
     "schema_version": 3,
     "solution": true,
     "task": false
    }
   },
   "outputs": [
    {
     "data": {
      "text/plain": [
       "Text(0.5, 1.0, 'N (# of iterations) vs. Relative Error')"
      ]
     },
     "execution_count": 6,
     "metadata": {},
     "output_type": "execute_result"
    },
    {
     "data": {
      "image/png": "[encoded data removed]",
      "text/plain": [
       "<Figure size 432x288 with 1 Axes>"
      ]
     },
     "metadata": {
      "needs_background": "light"
     },
     "output_type": "display_data"
    }
   ],
   "source": [
    "M = 3\n",
    "x0 = 2\n",
    "g = lambda x: M / x\n",
    "\n",
    "x = fixed_point(g, x0, 30)\n",
    "rel = numpy.abs((numpy.sqrt(3) - x) / numpy.sqrt(3))\n",
    "\n",
    "plt.semilogy(range(len(x)), rel, color='deeppink', linestyle='-')\n",
    "#plt.axhline(y=numpy.finfo(float).eps, color='r', linestyle='--')\n",
    "plt.grid(True)\n",
    "plt.xlabel('N')\n",
    "plt.ylabel('Relative Error')\n",
    "plt.title(\"N (# of iterations) vs. Relative Error\")"
   ]
  },
  {
   "cell_type": "markdown",
   "metadata": {
    "deletable": false,
    "editable": false,
    "nbgrader": {
     "cell_type": "markdown",
     "checksum": "521bc3485b0df7e70bafc0267d87be69",
     "grade": false,
     "grade_id": "cell-253343327982308ufu",
     "locked": true,
     "schema_version": 3,
     "solution": false
    }
   },
   "source": [
    "**(d)** [6] Newton's method\n",
    "$$ g(x) = x - \\frac{f}{f'}$$\n",
    "\n",
    "with $$ f = x^2 - M$$"
   ]
  },
  {
   "cell_type": "markdown",
   "metadata": {
    "deletable": false,
    "nbgrader": {
     "cell_type": "markdown",
     "checksum": "064fb95869cb3acd441daafd5640ee52",
     "grade": true,
     "grade_id": "cell-340019030oijq234roi",
     "locked": false,
     "points": 4,
     "schema_version": 3,
     "solution": true,
     "task": false
    }
   },
   "source": [
    "Step A: Check if $x=\\sqrt{M}$ is a fixed point of $g(x)$:\n",
    "$$\n",
    "g(\\sqrt{M}) = \\sqrt{M} - \\frac{M - M}{2*\\sqrt{M}} = \\sqrt{M}\n",
    "$$\n",
    "We confirm that $x=\\sqrt{M}$ is a fixed point. $\\newline$\n",
    "Step B: Analyze convergence behavior\n",
    "$$ \n",
    "|g'(x*=\\sqrt{M})| = 1 - \\frac{2M+2M}{4M} = 0\n",
    "$$\n",
    "The scheme will always converge because $|g'(x*=\\sqrt{M})|=0$."
   ]
  },
  {
   "cell_type": "code",
   "execution_count": 7,
   "metadata": {
    "deletable": false,
    "nbgrader": {
     "cell_type": "code",
     "checksum": "de8bb72e85c8267066928bf4faaa5e8f",
     "grade": true,
     "grade_id": "cell-9ea67719fouerouh",
     "locked": false,
     "points": 2,
     "schema_version": 3,
     "solution": true,
     "task": false
    }
   },
   "outputs": [
    {
     "data": {
      "text/plain": [
       "Text(0.5, 1.0, 'N (# of iterations) vs. Relative Error')"
      ]
     },
     "execution_count": 7,
     "metadata": {},
     "output_type": "execute_result"
    },
    {
     "data": {
      "image/png": "[encoded data removed]",
      "text/plain": [
       "<Figure size 432x288 with 1 Axes>"
      ]
     },
     "metadata": {
      "needs_background": "light"
     },
     "output_type": "display_data"
    }
   ],
   "source": [
    "M = 3\n",
    "x0 = 2\n",
    "g = lambda x: x - (x**2 - M) / (2 * x)\n",
    "\n",
    "x = fixed_point(g, x0, 30)\n",
    "rel = numpy.abs((numpy.sqrt(3) - x) / numpy.sqrt(3))\n",
    "\n",
    "plt.semilogy(range(len(x)), rel, color='darkmagenta', linestyle='-')\n",
    "plt.axhline(y=numpy.finfo(float).eps, color='b', linestyle='--')\n",
    "plt.grid(True)\n",
    "plt.xlabel('N')\n",
    "plt.ylabel('Relative Error')\n",
    "plt.title(\"N (# of iterations) vs. Relative Error\")"
   ]
  },
  {
   "cell_type": "markdown",
   "metadata": {
    "deletable": false,
    "editable": false,
    "nbgrader": {
     "cell_type": "markdown",
     "checksum": "268f820b9f5eab632cd649479bcb3072",
     "grade": false,
     "grade_id": "cell-5084202108adoiu923",
     "locked": true,
     "schema_version": 3,
     "solution": false
    }
   },
   "source": [
    "## Question 2 - Fun with Rootfinders and NewtSafe\n",
    "\n",
    "This problem will explore the behavior of a range of different rootfinding routines against  a more challenging rootfinding problem.  Feel free to use any or all  of the routines presented in class which have been included in an auxiliary python file `rootfinding_optimization_schemes.py`\n",
    "\n",
    "\n",
    "You need to have this file in the same directory with your homework for this notebook to import it."
   ]
  },
  {
   "cell_type": "code",
   "execution_count": 8,
   "metadata": {},
   "outputs": [
    {
     "name": "stdout",
     "output_type": "stream",
     "text": [
      "functions loaded correctly\n"
     ]
    }
   ],
   "source": [
    "#  Cell to import and test at least newton's method from class\n",
    "\n",
    "import rootfinding_optimization_schemes as rtfind\n",
    "\n",
    "# set test function and its derivative\n",
    "f = lambda x: numpy.cos(x) - x\n",
    "f_prime = lambda x: -numpy.sin(x) - 1.\n",
    "\n",
    "#set initial guess and call newton\n",
    "x0 = 1.\n",
    "x, x_array = rtfind.newton(f, f_prime, x0,tol=1.e-12)\n",
    "\n",
    "# run tests\n",
    "answer = 0.7390851332151606\n",
    "N = 5\n",
    "numpy.testing.assert_almost_equal(x, answer)\n",
    "numpy.testing.assert_almost_equal(N, len(x_array))\n",
    "print(\"functions loaded correctly\")"
   ]
  },
  {
   "cell_type": "markdown",
   "metadata": {
    "deletable": false,
    "editable": false,
    "nbgrader": {
     "cell_type": "markdown",
     "checksum": "a32d15febb12107bc3e15a6804e7cddd",
     "grade": false,
     "grade_id": "cell-08d7aa7aa9d9d246",
     "locked": true,
     "schema_version": 3,
     "solution": false,
     "task": false
    }
   },
   "source": [
    "Consider the function \n",
    "\n",
    "$$\n",
    "    f(x) = \\cos(x) +  N(x, A, \\alpha, \\beta))\n",
    "$$\n",
    "where\n",
    "\n",
    "$$\n",
    "    N(x, A, \\alpha, \\beta) =  A\\left[\\sin(\\alpha x) + \\sin(\\beta x)\\right]\n",
    "$$\n",
    "\n",
    "is a function that adds smooth additive \"noise\" with fixed amplitude $A = 0.05$ and varying frequencies $\\alpha$ and $\\beta$"
   ]
  },
  {
   "cell_type": "markdown",
   "metadata": {
    "deletable": false,
    "editable": false,
    "nbgrader": {
     "cell_type": "markdown",
     "checksum": "8c78c1f5acea85f0f75d23bcae09ff55",
     "grade": false,
     "grade_id": "cell-fadb86c67ee671d2",
     "locked": true,
     "schema_version": 3,
     "solution": false,
     "task": false
    }
   },
   "source": [
    "**(a)** [4] Make a nicely labeled plot to showing the behavior of this function for \n",
    "* $\\alpha = 0.$, $\\beta =0.$\n",
    "* $\\alpha = 4.$, $\\beta =5.$\n",
    "* $\\alpha = 27$, $\\beta = 50$\n",
    "\n",
    "over the domain $x\\in[-2\\pi, 2\\pi]$. Make sure you have enough points to resolve the wiggles"
   ]
  },
  {
   "cell_type": "code",
   "execution_count": 9,
   "metadata": {
    "deletable": false,
    "nbgrader": {
     "cell_type": "code",
     "checksum": "edc7c9bcc180f7f6c5e68c36a482e7ba",
     "grade": true,
     "grade_id": "cell-fadb86c67ee67848gr",
     "locked": false,
     "points": 4,
     "schema_version": 3,
     "solution": true,
     "task": false
    }
   },
   "outputs": [
    {
     "data": {
      "text/plain": [
       "<matplotlib.legend.Legend at 0x7fc0888f8d00>"
      ]
     },
     "execution_count": 9,
     "metadata": {},
     "output_type": "execute_result"
    },
    {
     "data": {
      "image/png": "[encoded data removed]",
      "text/plain": [
       "<Figure size 576x432 with 1 Axes>"
      ]
     },
     "metadata": {
      "needs_background": "light"
     },
     "output_type": "display_data"
    }
   ],
   "source": [
    "amp = 0.05\n",
    "alpha = [0., 4., 27]\n",
    "beta = [0., 5., 50]\n",
    "colors = ['#003f5c', '#bc5090', '#ffa600']\n",
    "lab = 'alpha = {}, beta = {}'\n",
    "x = numpy.linspace(-2* numpy.pi, 2*numpy.pi, 2000)\n",
    "\n",
    "fig = plt.figure(figsize=(8, 6))\n",
    "axes = fig.add_subplot(1, 1, 1)\n",
    "\n",
    "for a, b, col in zip(alpha, beta, colors):\n",
    "    axes.plot(x, numpy.cos(x) + amp * (numpy.sin(a * x)+ numpy.sin(b * x)), color = col, label=lab.format(a, b), linewidth=1)\n",
    "\n",
    "axes.grid(True)\n",
    "axes.legend()"
   ]
  },
  {
   "cell_type": "markdown",
   "metadata": {
    "deletable": false,
    "editable": false,
    "nbgrader": {
     "cell_type": "markdown",
     "checksum": "3b9302605aa4f4dedadf35490138eeea",
     "grade": false,
     "grade_id": "cell-cfeab33ec7437a33",
     "locked": true,
     "schema_version": 3,
     "solution": false,
     "task": false
    }
   },
   "source": [
    "**(b)** [4] Explore the behavior of the following rootfinding routines \n",
    "* bisection\n",
    "* newton\n",
    "* secant\n",
    "* brentq method using scipy.optimize.root_scalar\n",
    "* **EXTRA CREDIT** any other method used in root_scalar\n",
    "\n",
    "for finding a root of this function, given the bracket $x\\in[x_0, x_1]$ with $x_0 = 0.2$, $x_1 = 2.$ for each ($\\alpha, \\beta$) pair\n",
    "\n",
    "`params = [ (0., 0.), (4., 5.),  (27, 50.) ]`\n",
    "\n",
    "For each routine,  report\n",
    "* the root found $x^*$\n",
    "* the value of $f$ at the root $f(x^*$)\n",
    "* the number of iterations."
   ]
  },
  {
   "cell_type": "code",
   "execution_count": 22,
   "metadata": {
    "deletable": false,
    "nbgrader": {
     "cell_type": "code",
     "checksum": "e4da74b90e3a108cde24c50d129d4a41",
     "grade": true,
     "grade_id": "cell-3d03e0785ba74cee",
     "locked": false,
     "points": 4,
     "schema_version": 3,
     "solution": true,
     "task": false
    }
   },
   "outputs": [
    {
     "name": "stdout",
     "output_type": "stream",
     "text": [
      "BISECTION\n",
      "[a, b] = (0.0, 0.0) | root at x = 1.570796775817871, f(x*) = -4.490229742968679e-07, in 20 steps\n",
      "[a, b] = (4.0, 5.0) | root at x = 1.6304405212402344, f(x*) = 1.9620940002601506e-07, in 18 steps\n",
      "[a, b] = (27, 50.0) | root at x = 1.5567201137542725, f(x*) = -3.49143903736332e-08, in 22 steps\n",
      "\n",
      "NEWTON\n",
      "[a, b] = (0.0, 0.0) | root at x = 4.71238898038469, f(x*) = -1.8369701987210297e-16, in 5 steps\n",
      "[a, b] = (4.0, 5.0) | root at x = -14.096326236971352, f(x*) = 6.931560738582254e-08, in 5 steps\n",
      "[a, b] = (27, 50.0) | root at x = 1.556720103515459, f(x*) = -3.413055948975341e-11, in 138 steps\n",
      "\n",
      "SECANT\n",
      "[a, b] = (0.0, 0.0) | root at x = 1.5707963267998242, f(x*) = -4.927552640156338e-12, in 6 steps\n",
      "[a, b] = (4.0, 5.0) | root at x = 1.6304406749277849, f(x*) = 6.13728728740548e-08, in 7 steps\n",
      "[a, b] = (27, 50.0) | root at x = 1.5567201023472799, f(x*) = 3.9454700583030355e-09, in 9 steps\n",
      "\n",
      "BRENTQ\n",
      "[a, b] = (0.0, 0.0) | root at x = 1.2746447281532984, f(x*) = 0.2918415091408924, in 19 steps\n",
      "[a, b] = (4.0, 5.0) | root at x = 1.2746447281532984, f(x*) = 0.25001980118385736, in 19 steps\n",
      "[a, b] = (27, 50.0) | root at x = 1.2746447281532984, f(x*) = 0.3381014496215561, in 19 steps\n",
      "\n",
      "RIDDER\n",
      "[a, b] = (0.0, 0.0) | root at x = 1.4514428760775018, f(x*) = 0.11907028260096042, in 13 steps\n",
      "[a, b] = (4.0, 5.0) | root at x = 1.4514428760775018, f(x*) = 0.13745393034736378, in 13 steps\n",
      "[a, b] = (27, 50.0) | root at x = 1.4514428760775018, f(x*) = 0.15339134881400826, in 13 steps\n"
     ]
    }
   ],
   "source": [
    "from scipy import optimize\n",
    "\n",
    "amp = 0.05\n",
    "params = [ (0., 0.), (4., 5.),  (27, 50.) ]\n",
    "tol = numpy.finfo(float).eps\n",
    "\n",
    "# Bisection Method\n",
    "print('BISECTION')\n",
    "for pair in params:\n",
    "    fn = lambda x: numpy.cos(x) + amp * (numpy.sin(pair[0] * x) + numpy.sin(pair[1] * x))\n",
    "    x0 = 0.2\n",
    "    x1 = 2.\n",
    "    xstar, xarray = rtfind.bisection(fn, x0, x1)\n",
    "    print('[a, b] = {} | root at x = {}, f(x*) = {}, in {} steps'.format(pair, xstar, fn(xstar), len(xarray)))\n",
    "\n",
    "print(\"\")\n",
    "print('NEWTON')\n",
    "for pair in params:\n",
    "    fn = lambda x: numpy.cos(x) + amp * (numpy.sin(pair[0] * x) + numpy.sin(pair[1] * x))\n",
    "    fn_prime = lambda x: -numpy.sin(x) + amp * (pair[0] * numpy.cos(pair[0] * x) + pair[1] * numpy.cos(pair[1] * x))\n",
    "    x0 = 0.2\n",
    "    xstar, xarray = rtfind.newton(fn, fn_prime, x0)\n",
    "    print('[a, b] = {} | root at x = {}, f(x*) = {}, in {} steps'.format(pair, xstar, fn(xstar), len(xarray)))\n",
    "\n",
    "print(\"\")\n",
    "print('SECANT')\n",
    "for pair in params:\n",
    "    fn = lambda x: numpy.cos(x) + amp * (numpy.sin(pair[0] * x) + numpy.sin(pair[1] * x))\n",
    "    x0 = 0.2\n",
    "    x1 = 2.\n",
    "    xstar, xarray = rtfind.secant(fn, x0, x1)\n",
    "    print('[a, b] = {} | root at x = {}, f(x*) = {}, in {} steps'.format(pair, xstar, fn(xstar), len(xarray)))    \n",
    "\n",
    "print(\"\")\n",
    "print('BRENTQ')\n",
    "for pair in params:\n",
    "    fn = lambda x: numpy.cos(x) + amp * (numpy.sin(pair[0] * x) + numpy.sin(pair[1] * x))\n",
    "    x0 = 0.2\n",
    "    x1 = 2.\n",
    "    xstar, rootres = optimize.brentq(f, x0, x1, full_output = True)\n",
    "    print('[a, b] = {} | root at x = {}, f(x*) = {}, in {} steps'.format(pair, xstar, fn(xstar), rootres.iterations))\n",
    "    \n",
    "print(\"\")\n",
    "print('RIDDER')\n",
    "for pair in params:\n",
    "    fn = lambda x: numpy.cos(x) + amp * (numpy.sin(pair[0] * x) + numpy.sin(pair[1] * x))\n",
    "    x0 = 0.2\n",
    "    x1 = 2.\n",
    "    rootres = optimize.root_scalar(f, bracket = [x0, x1], method = 'ridder')\n",
    "    print('[a, b] = {} | root at x = {}, f(x*) = {}, in {} steps'.format(pair, rootres.root, fn(rootres.root), rootres.iterations))"
   ]
  },
  {
   "cell_type": "markdown",
   "metadata": {
    "deletable": false,
    "editable": false,
    "nbgrader": {
     "cell_type": "markdown",
     "checksum": "60affd12658a1d118a9a3ac3ade5a703",
     "grade": false,
     "grade_id": "cell-d6c0204318b16a38",
     "locked": true,
     "schema_version": 3,
     "solution": false,
     "task": false
    }
   },
   "source": [
    "**(c)** [4] Make a convergence plot showing the relative error at each step for Newton's method for the same three parameter pairs and initial guess $x_0 = 0.2$."
   ]
  },
  {
   "cell_type": "code",
   "execution_count": 12,
   "metadata": {
    "deletable": false,
    "nbgrader": {
     "cell_type": "code",
     "checksum": "712e8203de014a4d1bff6c5d3589f974",
     "grade": true,
     "grade_id": "cell-03e97ced4d02bc89",
     "locked": false,
     "points": 4,
     "schema_version": 3,
     "solution": true,
     "task": false
    }
   },
   "outputs": [
    {
     "data": {
      "text/plain": [
       "Text(0.5, 1.0, 'N vs. Relative Error for a = 0., b = 0.')"
      ]
     },
     "execution_count": 12,
     "metadata": {},
     "output_type": "execute_result"
    },
    {
     "data": {
      "image/png": "[encoded data removed]",
      "text/plain": [
       "<Figure size 432x288 with 1 Axes>"
      ]
     },
     "metadata": {
      "needs_background": "light"
     },
     "output_type": "display_data"
    }
   ],
   "source": [
    "import math\n",
    "\n",
    "all_xarrays = [None] * 3\n",
    "for pair, i in zip(params, range(3)):\n",
    "    fn = lambda x: numpy.cos(x) + amp * (numpy.sin(pair[0] * x) + numpy.sin(pair[1] * x))\n",
    "    fn_prime = lambda x: -numpy.sin(x) + amp * (pair[0] * numpy.cos(pair[0] * x) + pair[1] * numpy.cos(pair[1] * x))\n",
    "    x0 = 0.2\n",
    "    xstar, xarray = rtfind.newton(fn, fn_prime, x0)\n",
    "    all_xarrays[i] = xarray.tolist()\n",
    "    \n",
    "# Each set of parameters produces a different root of the function, so I will graph the rel error closest\n",
    "# to the real mathematical root of the Newton root\n",
    "\n",
    "# [0, 0] params closest math root = (3/2)*pi\n",
    "\n",
    "rel_error1 = [ abs((1.5 * math.pi - x)/(1.5 * math.pi)) for x in all_xarrays[0]]\n",
    "x = list(range(len(all_xarrays[0])))\n",
    "\n",
    "plt.plot(x, rel_error1, color='darkmagenta', linestyle='-')\n",
    "plt.xticks(numpy.arange(0, 5, 1.0))\n",
    "plt.grid(True)\n",
    "plt.xlabel('N')\n",
    "plt.ylabel('Relative Error')\n",
    "plt.title('N vs. Relative Error for a = 0., b = 0.')"
   ]
  },
  {
   "cell_type": "code",
   "execution_count": 13,
   "metadata": {},
   "outputs": [
    {
     "data": {
      "text/plain": [
       "Text(0.5, 1.0, 'N vs. Relative Error for a = 4., b = 5.')"
      ]
     },
     "execution_count": 13,
     "metadata": {},
     "output_type": "execute_result"
    },
    {
     "data": {
      "image/png": "[encoded data removed]",
      "text/plain": [
       "<Figure size 432x288 with 1 Axes>"
      ]
     },
     "metadata": {
      "needs_background": "light"
     },
     "output_type": "display_data"
    }
   ],
   "source": [
    "# [4., 5.] params closest math root = (-9/2)*pi\n",
    "\n",
    "rel_error2 = [ abs((-4.5 * math.pi - x)/(-4.5 * math.pi)) for x in all_xarrays[1]]\n",
    "x = list(range(len(all_xarrays[1])))\n",
    "\n",
    "plt.plot(x, rel_error2, color='deeppink', linestyle='-')\n",
    "plt.xticks(numpy.arange(0, 5, 1.0))\n",
    "plt.grid(True)\n",
    "plt.xlabel('N')\n",
    "plt.ylabel('Relative Error')\n",
    "plt.title('N vs. Relative Error for a = 4., b = 5.')"
   ]
  },
  {
   "cell_type": "code",
   "execution_count": 14,
   "metadata": {},
   "outputs": [
    {
     "data": {
      "text/plain": [
       "Text(0.5, 1.0, 'N vs. Relative Error for a = 27, b = 50')"
      ]
     },
     "execution_count": 14,
     "metadata": {},
     "output_type": "execute_result"
    },
    {
     "data": {
      "image/png": "[encoded data removed]",
      "text/plain": [
       "<Figure size 432x288 with 1 Axes>"
      ]
     },
     "metadata": {
      "needs_background": "light"
     },
     "output_type": "display_data"
    }
   ],
   "source": [
    "# [27, 50] params closest math root = (1/2)*pi\n",
    "\n",
    "rel_error3 = [ abs((0.5 * math.pi - x)/(0.5 * math.pi)) for x in all_xarrays[2]]\n",
    "x = list(range(len(all_xarrays[2])))\n",
    "\n",
    "plt.plot(x, rel_error3, color='orchid', linestyle='-')\n",
    "plt.xticks(numpy.arange(0, 138, 15))\n",
    "plt.grid(True)\n",
    "plt.xlabel('N')\n",
    "plt.ylabel('Relative Error')\n",
    "plt.title('N vs. Relative Error for a = 27, b = 50')"
   ]
  },
  {
   "cell_type": "markdown",
   "metadata": {
    "deletable": false,
    "editable": false,
    "nbgrader": {
     "cell_type": "markdown",
     "checksum": "2df03ce3234624a2a1c2d6b521634126",
     "grade": false,
     "grade_id": "cell-688d9772c0ee0353",
     "locked": true,
     "schema_version": 3,
     "solution": false,
     "task": false
    }
   },
   "source": [
    "**(d)** [4] Briefly explain your results so far for all the methods.  Feel free to play with other initial parameters or to make additional plots.  "
   ]
  },
  {
   "cell_type": "markdown",
   "metadata": {
    "deletable": false,
    "nbgrader": {
     "cell_type": "markdown",
     "checksum": "2fd45f3d0ef415e1263944f18cb82175",
     "grade": true,
     "grade_id": "cell-0d30efbc8418cd82",
     "locked": false,
     "points": 4,
     "schema_version": 3,
     "solution": true,
     "task": false
    }
   },
   "source": [
    "All of the methods except for the Newton method return a root close to $\\frac{\\pi}{2}$, which makes sense because they are fed both an x0 and x1. In the Newton method, for the first two pairs of parameters the method converges quickly, but in the last pair where $\\alpha = 27$ and $\\beta = 50$, which is the noisiest, the method takes much longer to converge and the relative error is all over the place before about step 20. All methods tested find roots within a reasonable number of steps, although it is unclear why with these inputs the Newton method does not always find the same root as the others. "
   ]
  },
  {
   "cell_type": "markdown",
   "metadata": {
    "deletable": false,
    "editable": false,
    "nbgrader": {
     "cell_type": "markdown",
     "checksum": "db197de596ae1a5191790bc36a15b67c",
     "grade": false,
     "grade_id": "cell-b46861a6140bb51d",
     "locked": true,
     "schema_version": 3,
     "solution": false,
     "task": false
    }
   },
   "source": [
    "**(e)** [6] Write a controlled Newton routine `NewtSafe`,  that finds a root with an initial bracket by combining newton steps with a bisection routine.  The basic algorithm is to first try Newton from the midpoint of the bracket.  If Newton predicts a solution outside of the bracket, ignore it and take a bisection step instead.  You can use and modify any of the rootfinding routines I presented in class, but write a decent docstring and raise appropriate exceptions as necessary. \n",
    "\n",
    "The routine should return the best estimate of the root and number of Newton Steps and the number of bisection steps\n",
    "\n",
    "`x, N_newt, N_bisection = newtsafe(f, f_prime, a, b)`"
   ]
  },
  {
   "cell_type": "code",
   "execution_count": 15,
   "metadata": {
    "deletable": false,
    "nbgrader": {
     "cell_type": "code",
     "checksum": "18a5e5a4d442acee0549a0f20462d3de",
     "grade": false,
     "grade_id": "cell-a20f6d1abec7c19d",
     "locked": false,
     "schema_version": 3,
     "solution": true,
     "task": false
    }
   },
   "outputs": [],
   "source": [
    "def newtsafe(f, f_prime, a, b, tol = 1.e-6, max_steps=1000):\n",
    "    \"\"\" uses a combination of Newton and Bisection methods to return a root within a bracket [a,b]\n",
    "        \n",
    "    \n",
    "    Parameters:\n",
    "    -----------\n",
    "    \n",
    "    f: function (float)\n",
    "        function giving f(x)\n",
    "    f_prime:  function (float)\n",
    "        function giving derivative of f with respect to x\n",
    "    a: float\n",
    "        left bracket a < x\n",
    "    b: float\n",
    "        right bracket x < b\n",
    "        \n",
    "        Note:  the signs of f(a) and f(b) must be different to insure a bracket\n",
    "    tol: float\n",
    "        tolerance.  Returns when |f(x)| < tol\n",
    "    max_steps: int\n",
    "        maximum number of iteration steps\n",
    "        \n",
    "    Returns:\n",
    "    --------\n",
    "    x: float\n",
    "        midpoint of final bracket\n",
    "    n_newt:  number of newton steps for successful newton iteration\n",
    "    n_bisection: number of bisection steps\n",
    "        \n",
    "    Raises:\n",
    "    -------\n",
    "    ValueError:  \n",
    "        if initial bracket is invalid \n",
    "    Warning: \n",
    "        if number of iterations exceed MAX_STEPS\n",
    "    Prints warning if Newton exceeds the bracket\n",
    "    \n",
    "    \"\"\"\n",
    "\n",
    "    MAX_STEPS = max_steps\n",
    "    \n",
    "    f_a = f(a)\n",
    "    f_b = f(b)\n",
    "    \n",
    "    n_newt, n_bisection = 0, 0\n",
    "    \n",
    "    # check bracket\n",
    "    if (numpy.sign(f_a) == numpy.sign(f_b)):\n",
    "        raise ValueError('Notice f(a) and f(b) are of the same sign. Try a new bracket.')\n",
    "    \n",
    "    for k in range(1, MAX_STEPS + 1):\n",
    "        \n",
    "        c = (a + b) / 2\n",
    "        test = c - (f(c) / f_prime(c))\n",
    "        \n",
    "        if (test > a and test < b): # Newton\n",
    "            x = test\n",
    "            n_newt += 1\n",
    "        else:                       # Bisection if guess is outside brackets\n",
    "            x = (a + b) / 2\n",
    "            n_bisection += 1\n",
    "            \n",
    "        if numpy.abs(f(x)) < tol:\n",
    "            break\n",
    "            \n",
    "        if f(a)*f(x) < 0: # if f(a) and f(x) are of opposite signs, bring b closer\n",
    "            b = x\n",
    "        else:\n",
    "            a = x         # if f(a) and f(x) are of the same signs, bring a closer\n",
    "        \n",
    "    if k == MAX_STEPS:\n",
    "        warnings.warn('Maximum number of steps exceeded')\n",
    "    \n",
    "    return x, n_newt, n_bisection"
   ]
  },
  {
   "cell_type": "code",
   "execution_count": 16,
   "metadata": {
    "deletable": false,
    "editable": false,
    "nbgrader": {
     "cell_type": "code",
     "checksum": "a0fc4358c1096461564e6e35cea822ab",
     "grade": true,
     "grade_id": "cell-7cdbdbda9ca86f82",
     "locked": true,
     "points": 6,
     "schema_version": 3,
     "solution": false,
     "task": false
    }
   },
   "outputs": [
    {
     "name": "stdout",
     "output_type": "stream",
     "text": [
      "Bracket  = [-0.68309670780092, 2.642524050776319]\n",
      "Newton   = 1.27194847295657,    N   = 3\n",
      "NewtSafe = 1.2719484652642392,    N_n = 5, N_b = 4\n",
      "brentq   = 1.2719484732512498,    N   = 9\n",
      "\n",
      "Bracket  = [-0.7104536143852529, 3.8152626763086603]\n",
      "Newton   = -23.8662065317763,    N   = 7\n",
      "NewtSafe = 1.0884988437570216,    N_n = 9, N_b = 11\n",
      "brentq   = 1.088499013515958,    N   = 13\n",
      "\n",
      "Bracket  = [-0.5236057894835726, 3.9067882124238986]\n",
      "Newton   = -10.863477689404652,    N   = 11\n",
      "NewtSafe = 1.1106139446690784,    N_n = 10, N_b = 9\n",
      "brentq   = 1.1106142646873127,    N   = 11\n",
      "\n",
      "Bracket  = [-0.5275356434135271, 2.4988039593212776]\n",
      "Newton   = 1.3248590962279085,    N   = 3\n",
      "NewtSafe = 1.3248590967936258,    N_n = 6, N_b = 5\n",
      "brentq   = 1.3248590968150393,    N   = 9\n",
      "\n",
      "Bracket  = [-0.3534683303763972, 3.9130408021252014]\n",
      "Newton   = 1.1473182519095415,    N   = 10\n",
      "NewtSafe = 1.147317576688644,    N_n = 9, N_b = 9\n",
      "brentq   = 1.1473182519138232,    N   = 9\n",
      "\n",
      "Notice f(a) and f(b) are of the same sign. Try a new bracket.\n",
      "success!\n"
     ]
    }
   ],
   "source": [
    "# Testing Cell\n",
    "from  rootfinding_optimization_schemes import newton\n",
    "from scipy.optimize import root_scalar\n",
    "\n",
    "a = 27\n",
    "b = 50\n",
    "A = 0.3\n",
    "f = lambda x: numpy.cos(x) + A*(numpy.sin(a * x) + numpy.sin(b * x))\n",
    "f_prime = lambda x: -numpy.sin(x) + A*(a*numpy.cos(a * x) + b*numpy.cos(b * x))\n",
    "\n",
    "pi = numpy.pi\n",
    "\n",
    "brackets = [ \n",
    "            (-0.68309670780092, 2.642524050776319),\n",
    "            (-0.7104536143852529, 3.8152626763086603),\n",
    "            (-0.5236057894835726, 3.9067882124238986),\n",
    "            (-0.5275356434135271, 2.4988039593212776),\n",
    "            (-0.3534683303763972, 3.9130408021252014)\n",
    "           ]\n",
    "\n",
    "for bracket in brackets:\n",
    "    #a = numpy.random.uniform(low=-pi/4, high=pi/4)\n",
    "    #b = numpy.random.uniform(low=3*pi/4, high=5*pi/4)\n",
    "    a = bracket[0]\n",
    "    b = bracket[1]\n",
    "    x_n, x_array = newton(f, f_prime, (a + b)/2.)\n",
    "    x_ns, N_n, N_b = newtsafe(f, f_prime, a, b)\n",
    "    sol = root_scalar(f, bracket=(a, b),method='brentq')\n",
    "    print('Bracket  = [{}, {}]'.format(a, b))\n",
    "    print('Newton   = {},    N   = {}'.format(x_n, len(x_array)-1))\n",
    "    print('NewtSafe = {},    N_n = {}, N_b = {}'.format(x_ns, N_n, N_b))\n",
    "    print('brentq   = {},    N   = {}'.format(sol.root, sol.iterations))\n",
    "    print()\n",
    "    numpy.testing.assert_almost_equal(x_ns, sol.root,decimal=5)\n",
    "    \n",
    "try:\n",
    "    x_ns, N_n, N_b = newtsafe(f, f_prime, 1.6, 2.0)\n",
    "except ValueError as err:\n",
    "    print(err)\n",
    "    pass\n",
    "\n",
    "print('success!')\n"
   ]
  },
  {
   "cell_type": "markdown",
   "metadata": {
    "deletable": false,
    "editable": false,
    "nbgrader": {
     "cell_type": "markdown",
     "checksum": "6ff9cfc557769fb0e0cd3151689d9310",
     "grade": false,
     "grade_id": "cell-508420840igovo948yh23",
     "locked": true,
     "schema_version": 3,
     "solution": false
    }
   },
   "source": [
    "## Question 3 - Solve a \"real\" rootfinding problem\n",
    "\n",
    "In Homework 2, I asked you to *estimate* the number of terms in the taylor expansion of $e^x$ such that the relative error was less than $\\epsilon_{mach}$.  This was essentially a non-linear problem in the number of steps $n$.  Here we will use a rootfinder to get this number more precisely."
   ]
  },
  {
   "cell_type": "markdown",
   "metadata": {
    "deletable": false,
    "editable": false,
    "nbgrader": {
     "cell_type": "markdown",
     "checksum": "0c5da29bd8798f54998030d92df5ac1d",
     "grade": false,
     "grade_id": "cell-3f4f0535e4abc84f",
     "locked": true,
     "schema_version": 3,
     "solution": false,
     "task": false
    }
   },
   "source": [
    "**(a)** [8] provide a numerical solution for the number of terms $n$ in the Taylor polynomial expansion of exp(x) (i.e. $T_N(x))$ such that the relative error is\n",
    "\n",
    "$$\n",
    "    r = \\left| \\frac{x^{n+1}}{(n + 1)!} \\right| \\approx \\epsilon_{mach}\n",
    "$$ \n",
    "\n",
    "Give solutions for x = 0.1, 1., 10. ,100. , 709., 1000. and compare your numerical solution to the approximate solution given in last homework \n",
    "\n",
    "$$\n",
    "    n > e*x\n",
    "$$\n",
    "\n",
    "by calculating the relative error between the your numerical solution and your simpler estimate.\n",
    "\n",
    "Note: To make this problem easier, just use Stirling’s approximation $\\log(n!) \\approx n \\log n − n$. which will work quite well.  However, for a little bit of extra credit solve this for the full problem and compare solutions.\n"
   ]
  },
  {
   "cell_type": "markdown",
   "metadata": {
    "deletable": false,
    "nbgrader": {
     "cell_type": "markdown",
     "checksum": "b68b95d0b33a72562c80bc1c8831d3ac",
     "grade": true,
     "grade_id": "cell-8fc4ebbf43da6dff",
     "locked": false,
     "points": 4,
     "schema_version": 3,
     "solution": true,
     "task": false
    }
   },
   "source": [
    "Using Stirling's approximation and taking the log of both sides, we can write the relative error relation as:\n",
    "$$\n",
    "(n+1)[log(x)-log(n+1)+1] = log(\\epsilon)\n",
    "$$\n",
    "We can then further simplify algebraically to get:\n",
    "$$\n",
    "\\frac{n+1}{\\epsilon^{n+1}} = e*x (ii)\n",
    "$$\n",
    "For the purposes of writing a function, we can write the first relation as\n",
    "$$\n",
    "f(x,n) = (n+1)[log(x)-log(n+1)+1] - log(\\epsilon)\n",
    "$$\n",
    "We will optimize this function to find n for each input. I chose to use the BRENTQ function from scipy.optimize."
   ]
  },
  {
   "cell_type": "code",
   "execution_count": 17,
   "metadata": {
    "deletable": false,
    "nbgrader": {
     "cell_type": "code",
     "checksum": "11099c9f28135df32eed257aca68662a",
     "grade": true,
     "grade_id": "cell-963aac8426927a48",
     "locked": false,
     "points": 4,
     "schema_version": 3,
     "solution": true,
     "task": false
    }
   },
   "outputs": [
    {
     "name": "stdout",
     "output_type": "stream",
     "text": [
      "      x |   N (Stirling) |     N (e*x) |   Relative Error\n",
      "--------+----------------+-------------+------------------\n",
      "    0.1 |        8.99825 |    0.271828 |        0.969791\n",
      "    1   |       17.6933  |    2.71828  |        0.846366\n",
      "   10   |       52.392   |   27.1828   |        0.481165\n",
      "  100   |      304.829   |  271.828    |        0.10826\n",
      "  709   |     1961.98    | 1927.26     |        0.0176938\n",
      " 1000   |     2753.09    | 2718.28     |        0.0126435\n"
     ]
    }
   ],
   "source": [
    "from tabulate import tabulate\n",
    "\n",
    "inputs = [0.1, 1., 10., 100., 709., 1000.]\n",
    "eps = numpy.finfo(float).eps\n",
    "f_stirl = lambda n, x: (n + 1) * (numpy.log(x) - numpy.log(n + 1) + 1) - numpy.log(eps)\n",
    "\n",
    "results = [[],[],[],[],[],[]]\n",
    "\n",
    "for i, j in zip(inputs, range(6)):\n",
    "    est = i * numpy.exp(1)\n",
    "    b = est + 50\n",
    "    \n",
    "    n_stirl, rootres = optimize.brentq(f_stirl, 1, b, full_output=True, args = i)\n",
    "    rel_err = abs((n_stirl - est) / (n_stirl))\n",
    "    \n",
    "    results[j].append(i)\n",
    "    results[j].append(n_stirl)\n",
    "    results[j].append(numpy.exp(1) * i)\n",
    "    results[j].append(rel_err)\n",
    "\n",
    "print(tabulate(results, headers=['x', 'N (Stirling)', 'N (e*x)', 'Relative Error'], tablefmt=\"presto\"))"
   ]
  },
  {
   "cell_type": "markdown",
   "metadata": {},
   "source": [
    "The estimation $e*x$ is actually quite effective in determining the minimum steps necessary to achieve $\\epsilon_{mach}$ precision. We can see that for increasing values of x, the relative error between the Stirling approximation and the $e*x$ approximation approaches 0. "
   ]
  },
  {
   "cell_type": "code",
   "execution_count": null,
   "metadata": {},
   "outputs": [],
   "source": []
  }
 ],
 "metadata": {
  "kernelspec": {
   "display_name": "Python 3",
   "language": "python",
   "name": "python3"
  },
  "language_info": {
   "codemirror_mode": {
    "name": "ipython",
    "version": 3
   },
   "file_extension": ".py",
   "mimetype": "text/x-python",
   "name": "python",
   "nbconvert_exporter": "python",
   "pygments_lexer": "ipython3",
   "version": "3.8.5"
  }
 },
 "nbformat": 4,
 "nbformat_minor": 4
}
