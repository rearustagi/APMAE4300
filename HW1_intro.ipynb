{
 "cells": [
  {
   "cell_type": "markdown",
   "metadata": {},
   "source": [
    "Before you turn this problem in, make sure everything runs as expected. First, **restart the kernel** (in the menubar, select Kernel$\\rightarrow$Restart) and then **run all cells** (in the menubar, select Cell$\\rightarrow$Run All).\n",
    "\n",
    "Make sure you fill in any place that says `YOUR CODE HERE` or \"YOUR ANSWER HERE\", as well as your name and collaborators below:"
   ]
  },
  {
   "cell_type": "code",
   "execution_count": 3,
   "metadata": {},
   "outputs": [],
   "source": [
    "NAME = \"Rea Rustagi\"\n",
    "COLLABORATORS = \"\""
   ]
  },
  {
   "cell_type": "markdown",
   "metadata": {},
   "source": [
    "---"
   ]
  },
  {
   "cell_type": "code",
   "execution_count": 7,
   "metadata": {},
   "outputs": [],
   "source": [
    "from __future__ import print_function\n",
    "%matplotlib inline\n",
    "%precision 16\n",
    "import numpy\n",
    "import matplotlib.pyplot as plt"
   ]
  },
  {
   "cell_type": "markdown",
   "metadata": {
    "deletable": false,
    "editable": false,
    "nbgrader": {
     "cell_type": "markdown",
     "checksum": "5da3d6ae4a6d37e87ea88a8408508475",
     "grade": false,
     "grade_id": "cell8438889984008151",
     "locked": true,
     "schema_version": 3,
     "solution": false
    }
   },
   "source": [
    "# Homework 1:  Introduction"
   ]
  },
  {
   "cell_type": "markdown",
   "metadata": {
    "deletable": false,
    "editable": false,
    "nbgrader": {
     "cell_type": "markdown",
     "checksum": "c667879bcea53a67911245e81e8ecc09",
     "grade": false,
     "grade_id": "cell6823144658916374",
     "locked": true,
     "schema_version": 3,
     "solution": false
    }
   },
   "source": [
    "## Question 1 - Basic Linear Algebra\n",
    "\n",
    "Write out the solution (by-hand) to the following sets of equations.  **FULLY** justify your solution (do not just write the answer).\n",
    "\n",
    "If you want to review some of these concepts check out Strang's [Linear Algebra](https://clio.columbia.edu/catalog/10612929) text or for only the fundamentals check out Strang's [The Fundamental Theorem of Linear Algebra](http://www.jstor.org/stable/2324660?seq=1#page_scan_tab_contents)"
   ]
  },
  {
   "cell_type": "markdown",
   "metadata": {
    "deletable": false,
    "editable": false,
    "nbgrader": {
     "cell_type": "markdown",
     "checksum": "2ae27fff6a03b7de5ff2e2dc3b70cedc",
     "grade": false,
     "grade_id": "cell2016497183447183",
     "locked": true,
     "schema_version": 3,
     "solution": false
    }
   },
   "source": [
    "**(a)** (5) Solve $A x = \\mathbf{b}$ where\n",
    "$$\n",
    "    A = \\begin{bmatrix}\n",
    "        2 & 1 \\\\\n",
    "        1 & 3\n",
    "    \\end{bmatrix} ~~~~ \n",
    "    \\mathbf{b} = \\begin{bmatrix}\n",
    "        1 \\\\\n",
    "        -2\n",
    "    \\end{bmatrix}\n",
    "$$"
   ]
  },
  {
   "cell_type": "markdown",
   "metadata": {},
   "source": [
    "First we must verify that the matrix A is invertible. By inspection, we can see that the columns\n",
    "are linearly independent, affirming that A is invertible. We can use the 2x2 matrix inversion formula now."
   ]
  },
  {
   "cell_type": "markdown",
   "metadata": {
    "deletable": false,
    "nbgrader": {
     "cell_type": "markdown",
     "checksum": "f74ae27d7e7de90898de4a3c30ba2e83",
     "grade": true,
     "grade_id": "cell1448053803160613",
     "locked": false,
     "points": 5,
     "schema_version": 3,
     "solution": true
    }
   },
   "source": [
    "$$\n",
    "A^{-1}=\n",
    "\\begin{bmatrix}\n",
    "          a_{11} & a_{12} \\\\ \n",
    "          a_{21} & a_{22}\n",
    "       \\end{bmatrix}^{-1}\n",
    "       =\n",
    "\\frac{1}{\\lvert A\\rvert}\n",
    "       \\begin{bmatrix}\n",
    "           a_{22} & -a_{12} \\\\ \n",
    "          -a_{21} &  a_{11}\n",
    "       \\end{bmatrix}\n",
    "$$"
   ]
  },
  {
   "cell_type": "markdown",
   "metadata": {},
   "source": [
    "Applying this to matrix A:"
   ]
  },
  {
   "cell_type": "markdown",
   "metadata": {},
   "source": [
    "$$\n",
    "A^{-1}=\n",
    "\\frac{1}{(2*3)-(1*1)}\n",
    "\\begin{bmatrix}\n",
    "        3 & -1 \\\\ \n",
    "        -1 &  2\n",
    "\\end{bmatrix}\n",
    "=\\frac{1}{5}\n",
    "\\begin{bmatrix}\n",
    "        3 & -1 \\\\ \n",
    "        -1 &  2\n",
    "\\end{bmatrix}\n",
    "$$"
   ]
  },
  {
   "cell_type": "markdown",
   "metadata": {},
   "source": [
    "Rearranging \n",
    "$A x = \\mathbf{b}$ as $ x = \\mathbf{b} A^{-1} $,\n",
    "We find that the solution is:\n",
    "$$\n",
    "x = \\frac{1}{5}\n",
    "\\begin{bmatrix}\n",
    "        1 \\\\\n",
    "        -2\n",
    "    \\end{bmatrix} \n",
    "\\begin{bmatrix}\n",
    "        3 & -1 \\\\ \n",
    "        -1 &  2\n",
    "\\end{bmatrix}\n",
    "= \\begin{bmatrix}\n",
    "        1 \\\\\n",
    "        -1\n",
    "  \\end{bmatrix}\n",
    "$$"
   ]
  },
  {
   "cell_type": "markdown",
   "metadata": {
    "deletable": false,
    "editable": false,
    "nbgrader": {
     "cell_type": "markdown",
     "checksum": "04c1d84d159c07e51b85b05584426d9d",
     "grade": false,
     "grade_id": "cell5967828987159757",
     "locked": true,
     "schema_version": 3,
     "solution": false
    }
   },
   "source": [
    "**(b)** (5) Solve the system of equations:\n",
    "\\begin{align}\n",
    "    2x + 3y &= 1 \\\\\n",
    "    6x + 9y &= 3\n",
    "\\end{align}"
   ]
  },
  {
   "cell_type": "markdown",
   "metadata": {
    "deletable": false,
    "nbgrader": {
     "cell_type": "markdown",
     "checksum": "92141e837c28779faa0eacf9efc4bbdc",
     "grade": true,
     "grade_id": "cell9290127908697658",
     "locked": false,
     "points": 5,
     "schema_version": 3,
     "solution": true
    }
   },
   "source": [
    "We can rewrite this system in matrix form as:\n",
    "$$\n",
    "\\begin{bmatrix}\n",
    "        2 & 3 & 1 \\\\ \n",
    "        6 & 9 & 3 \n",
    "\\end{bmatrix}\n",
    "$$\n",
    "Divide Row I by 2:\n",
    "$$\n",
    "\\begin{bmatrix}\n",
    "        1 & \\frac{3}{2} & \\frac{1}{2} \\\\ \n",
    "        6 & 9 & 3 \n",
    "\\end{bmatrix}\n",
    "$$\n",
    "Subtract Row I * 6 from Row II:\n",
    "$$\n",
    "\\begin{bmatrix}\n",
    "        1 & \\frac{3}{2} & \\frac{1}{2} \\\\ \n",
    "        0 & 0 & 0 \n",
    "\\end{bmatrix}\n",
    "$$\n",
    "We can see that this is a system of infinite solutions, where the pair $(x,y) = ( x , \\frac{1}{3} - \\frac{2}{3}x )$\n",
    "for any x will provide a solution."
   ]
  },
  {
   "cell_type": "markdown",
   "metadata": {
    "deletable": false,
    "editable": false,
    "nbgrader": {
     "cell_type": "markdown",
     "checksum": "ee19d98d1a1ab52817c1ce46315b8672",
     "grade": false,
     "grade_id": "cell5933027027760471",
     "locked": true,
     "schema_version": 3,
     "solution": false
    }
   },
   "source": [
    "**(c)** (5) Why will I not be able to solve $A\\mathbf{x}=\\mathbf{b}$ for\n",
    "\n",
    "$$\n",
    "    A = \\begin{bmatrix}\n",
    "        2 & 1 \\\\\n",
    "        1 & 3 \\\\\n",
    "        0 & 4\n",
    "    \\end{bmatrix} ~~~~ \n",
    "    \\mathbf{b} = \\begin{bmatrix}\n",
    "        2 \\\\\n",
    "        0 \\\\\n",
    "        1\n",
    "    \\end{bmatrix}?\n",
    "$$\n",
    "\n",
    "Explain why this is a problem in terms of the four fundamental subspace of the matrix  $A$ and how that relates to the vector $\\mathbf{b}$."
   ]
  },
  {
   "cell_type": "markdown",
   "metadata": {
    "deletable": false,
    "nbgrader": {
     "cell_type": "markdown",
     "checksum": "a96870b6270e88853f17d3ff502d8cbf",
     "grade": true,
     "grade_id": "cell2638454345631698",
     "locked": false,
     "points": 5,
     "schema_version": 3,
     "solution": true
    }
   },
   "source": [
    "The subspace of any matrix is composed of all linear combinations of its columns. For there to be a solution to $A\\mathbf{x}=\\mathbf{b}$, $\\mathbf{b}$ would have to be within the subspace of A. However, we can see by inspection that $\\mathbf{b}$ cannot be made by any linear combination of A's columns; therefore, there is no solution. "
   ]
  },
  {
   "cell_type": "markdown",
   "metadata": {
    "deletable": false,
    "editable": false,
    "nbgrader": {
     "cell_type": "markdown",
     "checksum": "17ff1e94ffc3803fe3856995b1b80c71",
     "grade": false,
     "grade_id": "cell4384914739699754",
     "locked": true,
     "schema_version": 3,
     "solution": false
    }
   },
   "source": [
    "## Question 2 -- a simple python function"
   ]
  },
  {
   "cell_type": "markdown",
   "metadata": {
    "deletable": false,
    "editable": false,
    "nbgrader": {
     "cell_type": "markdown",
     "checksum": "2de59fe0fd0922246918db4c152f21ba",
     "grade": false,
     "grade_id": "cell1244223495354736",
     "locked": true,
     "schema_version": 3,
     "solution": false
    }
   },
   "source": [
    "**(a)** (10) Write a function that computes\n",
    "$$\n",
    "    \\sum^\\infty_{n=1} \\frac{a^n}{b^{n-1}}\n",
    "$$\n",
    "until the difference between subsequent partial sums is less than the given tolerance $T$.  Return the computed sum.  Make sure to include a way for the function to exit if the partial sums do not satisfy the above criteria (the sum may not be convergent for instance). Remember to raise an exception if the sum does not converge.\n",
    "\n",
    "Also, please,  remove the `# YOUR CODE HERE` and `raise NotImplementedError` lines in your final code. (Hopefully you did implement it and the exception is not needed)."
   ]
  },
  {
   "cell_type": "code",
   "execution_count": 8,
   "metadata": {
    "deletable": false,
    "nbgrader": {
     "cell_type": "code",
     "checksum": "20ae2dcfdc7388f9ee886485609f51fb",
     "grade": false,
     "grade_id": "cell3621925556728684",
     "locked": false,
     "schema_version": 3,
     "solution": true
    }
   },
   "outputs": [],
   "source": [
    "def compute_sum(a, b, tolerance=1e-5):\n",
    "    \"\"\"Compute the sum $\\sum^\\infty_{n=1} a^n / b^{n-1} until the partial sums are less than *tolerance*.\n",
    "    \n",
    "    Returns the computed sum and raises a *ValueError* if the sum appears to be diverging.\n",
    "    \"\"\"\n",
    "    # By using properties of exponents, we can see that if a/b >= 1, the sum will explode. Therefore,\n",
    "    # we will raise an error for this condition\n",
    "    \n",
    "    if abs(a / b) >= 1:\n",
    "        raise ValueError()\n",
    "        \n",
    "    n = 1\n",
    "    last_sum = 0\n",
    "    computed_sum = 0\n",
    "    \n",
    "    while True:\n",
    "        term = (a**n) / (b**(n - 1))\n",
    "        computed_sum += term\n",
    "        \n",
    "        if abs(computed_sum - last_sum) < tolerance:\n",
    "            return computed_sum\n",
    "        \n",
    "        last_sum = computed_sum\n",
    "        n += 1"
   ]
  },
  {
   "cell_type": "code",
   "execution_count": 9,
   "metadata": {
    "deletable": false,
    "editable": false,
    "nbgrader": {
     "cell_type": "code",
     "checksum": "9cdfbbb5ffc21daf532fe139133be6af",
     "grade": true,
     "grade_id": "cell5655123106444739",
     "locked": true,
     "points": 10,
     "schema_version": 3,
     "solution": false
    }
   },
   "outputs": [],
   "source": [
    "numpy.testing.assert_allclose(compute_sum(-2.0, 3.0, 1e-16), -1.2)\n",
    "numpy.testing.assert_allclose(compute_sum(1.0, 2.0, 1e-16), 2.0)\n",
    "try:\n",
    "    compute_sum(2.0, 1.0, 1e-16)\n",
    "except ValueError:\n",
    "    pass\n",
    "else:\n",
    "    assert False"
   ]
  },
  {
   "cell_type": "markdown",
   "metadata": {
    "deletable": false,
    "editable": false,
    "nbgrader": {
     "cell_type": "markdown",
     "checksum": "c5e9d9ec8736a130ec1ba46c24660ee9",
     "grade": false,
     "grade_id": "cell6074787325159711",
     "locked": true,
     "schema_version": 3,
     "solution": false
    }
   },
   "source": [
    "**(b)** (5) Explore different tolerances for your function above for $a=-2$ and $b=3$.  Plot the value of the absolute error\n",
    "$$\n",
    "    e = \\left| ~ \\sum^\\infty_{n=1} \\frac{a^n}{b^{n-1}} - (-1.2) ~\\right |\n",
    "$$\n",
    "as a function of the tolerance.  The plotting command `loglog` may be useful to effectively visualize the problem.  What do you observe?\n",
    "\n",
    "Hint:  Try using tolerances in the range $T \\in [10^{-30}, 10^{-2}]$.  Use the functions `logspace` to generate well spaced points and `loglog` to plot the data."
   ]
  },
  {
   "cell_type": "code",
   "execution_count": 10,
   "metadata": {
    "deletable": false,
    "nbgrader": {
     "cell_type": "code",
     "checksum": "7bf34706375e686c04187e6c7ca7b8e3",
     "grade": true,
     "grade_id": "cell5235988218415515",
     "locked": false,
     "points": 4,
     "schema_version": 3,
     "solution": true
    }
   },
   "outputs": [
    {
     "data": {
      "image/png": "[encoded data removed]",
      "text/plain": [
       "<Figure size 432x288 with 1 Axes>"
      ]
     },
     "metadata": {
      "needs_background": "light"
     },
     "output_type": "display_data"
    }
   ],
   "source": [
    "test_tol = numpy.logspace(-30,-2, 100).tolist()\n",
    "error_vals = []\n",
    "for t in test_tol:\n",
    "    error_vals.append(abs(compute_sum(-2, 3, t) - (-1.2)))\n",
    "\n",
    "plt.loglog(test_tol, error_vals, 'b-', linewidth=1)\n",
    "plt.ylabel('Error')\n",
    "plt.xlabel('Tolerance')\n",
    "plt.title(\"Error vs. Tolerance (Log Scale)\")\n",
    "plt.grid()\n",
    "plt.show()"
   ]
  },
  {
   "cell_type": "markdown",
   "metadata": {
    "deletable": false,
    "nbgrader": {
     "cell_type": "markdown",
     "checksum": "20cd990f272495dc908b1210c6e7e0c0",
     "grade": true,
     "grade_id": "cell9513987934167870",
     "locked": false,
     "points": 1,
     "schema_version": 3,
     "solution": true
    }
   },
   "source": [
    "We can observe that for tolerances below approximately $10^{-16}$, error is about the same. Beyond approximately $10^{-15}$, there is a log-linear relationship between tolerance and error. "
   ]
  },
  {
   "cell_type": "markdown",
   "metadata": {
    "deletable": false,
    "editable": false,
    "nbgrader": {
     "cell_type": "markdown",
     "checksum": "3e85921a321fc81df2ab4b835e92f357",
     "grade": false,
     "grade_id": "cell4028669518644633",
     "locked": true,
     "schema_version": 3,
     "solution": false
    }
   },
   "source": [
    "## Question 3 - Taylor Series"
   ]
  },
  {
   "cell_type": "markdown",
   "metadata": {
    "deletable": false,
    "editable": false,
    "nbgrader": {
     "cell_type": "markdown",
     "checksum": "f5a8c5f6625d3b78563c9304bc8a2814",
     "grade": false,
     "grade_id": "cell8219538542602342",
     "locked": true,
     "schema_version": 3,
     "solution": false
    }
   },
   "source": [
    "(7) Compute the first 3 terms of the Taylor series of the function\n",
    "$$\n",
    "    f(x) = e^{-x^2} \\sin( x - \\pi)\n",
    "$$\n",
    "centered at $x_0 = \\pi$. Hint: check using `Sympy`"
   ]
  },
  {
   "cell_type": "markdown",
   "metadata": {
    "deletable": false,
    "nbgrader": {
     "cell_type": "markdown",
     "checksum": "584c9440793a332c83dbe65cd02c80d7",
     "grade": true,
     "grade_id": "cell5045118735142062",
     "locked": false,
     "points": 7,
     "schema_version": 3,
     "solution": true
    }
   },
   "source": [
    "First term: \n",
    "$$0$$\n",
    "Second term:\n",
    "$$\n",
    "e^{-\\pi^2}(x-\\pi)\n",
    "$$\n",
    "Third term:\n",
    "$$\n",
    "-\\frac{4\\pi}{2e^{\\pi^2}}(x-\\pi)^2\n",
    "$$"
   ]
  },
  {
   "cell_type": "markdown",
   "metadata": {
    "deletable": false,
    "editable": false,
    "nbgrader": {
     "cell_type": "markdown",
     "checksum": "22723c187775d8904032761e1d3a8c0f",
     "grade": false,
     "grade_id": "cell4028669518647563",
     "locked": true,
     "schema_version": 3,
     "solution": false
    }
   },
   "source": [
    "## Question 4 - Basic ODE's"
   ]
  },
  {
   "cell_type": "markdown",
   "metadata": {
    "deletable": false,
    "editable": false,
    "nbgrader": {
     "cell_type": "markdown",
     "checksum": "9781daf09b159a25a2a01a1de506ea55",
     "grade": false,
     "grade_id": "cell7388927421453205",
     "locked": true,
     "schema_version": 3,
     "solution": false
    }
   },
   "source": [
    "(8) Solve the constant coefficient ODE (analytically)\n",
    "$$\n",
    "    u'' + u' + \\frac{5}{4} u = 0\n",
    "$$\n",
    "with initial conditions $u(0) = 3$ and $u'(0) = 1$.  Comment on its behavior as $t \\rightarrow \\infty$."
   ]
  },
  {
   "cell_type": "markdown",
   "metadata": {
    "deletable": false,
    "nbgrader": {
     "cell_type": "markdown",
     "checksum": "67ee6d23eaf50a4d0631f602af13612d",
     "grade": true,
     "grade_id": "cell8510568627368116",
     "locked": false,
     "points": 6,
     "schema_version": 3,
     "solution": true
    }
   },
   "source": [
    "We find that the roots of the characteristic equation, $r^2+r+\\frac{5}{4} = 0$, are $r=-\\frac{1}{2}\\pm i$.\n",
    "This means that the general solution is of the form:\n",
    "$$\n",
    "u = e^{-\\frac{1}{2}t} (c_{1}cos(t)+c_{2}sin(t))\n",
    "$$\n",
    "Using the initial conditions, we find that the particular solution is:\n",
    "$$\n",
    "u = e^{-\\frac{1}{2}t} (3cos(t)+\\frac{5}{2}sin(t))\n",
    "$$"
   ]
  },
  {
   "cell_type": "markdown",
   "metadata": {
    "deletable": false,
    "editable": false,
    "nbgrader": {
     "cell_type": "markdown",
     "checksum": "e663752a161361fc627e39b35f0a2bd5",
     "grade": false,
     "grade_id": "cell-1b99ca0e971047fb",
     "locked": true,
     "schema_version": 3,
     "solution": false,
     "task": false
    }
   },
   "source": [
    "Plot the solution $u(t)$"
   ]
  },
  {
   "cell_type": "code",
   "execution_count": 13,
   "metadata": {
    "deletable": false,
    "nbgrader": {
     "cell_type": "code",
     "checksum": "c902aa23f1da8b332819e93ae85008a7",
     "grade": true,
     "grade_id": "cell9191289374012808",
     "locked": false,
     "points": 2,
     "schema_version": 3,
     "solution": true
    }
   },
   "outputs": [
    {
     "data": {
      "text/plain": [
       "[<matplotlib.lines.Line2D at 0x7fa85e37efd0>]"
      ]
     },
     "execution_count": 13,
     "metadata": {},
     "output_type": "execute_result"
    },
    {
     "data": {
      "image/png": "[encoded data removed]",
      "text/plain": [
       "<Figure size 432x288 with 1 Axes>"
      ]
     },
     "metadata": {
      "needs_background": "light"
     },
     "output_type": "display_data"
    }
   ],
   "source": [
    "t = numpy.array(range(100))\n",
    "u = numpy.exp(-0.5*t) * (3*numpy.cos(t) + 2.5*numpy.sin(t))\n",
    "\n",
    "# Create the plot\n",
    "plt.title(\"Particular Solution of u'' + u' + 5/4u = 0\")\n",
    "plt.ylabel('u(t)')\n",
    "plt.xlabel('t')\n",
    "plt.grid()\n",
    "plt.plot(t,u,'m')"
   ]
  },
  {
   "cell_type": "markdown",
   "metadata": {
    "deletable": false,
    "editable": false,
    "nbgrader": {
     "cell_type": "markdown",
     "checksum": "521ec6f40b3c9e3f90dddf9b3a6d0299",
     "grade": false,
     "grade_id": "cell3807292108265957",
     "locked": true,
     "schema_version": 3,
     "solution": false
    }
   },
   "source": [
    "## Question 5 - using matplotlib\n",
    "\n",
    "(5) Plot something \"fun\" making sure to label the axes and colorbar if appropriate.  Use the [matplotlib gallery](http://matplotlib.org/gallery.html) for inspiration."
   ]
  },
  {
   "cell_type": "code",
   "execution_count": 15,
   "metadata": {
    "deletable": false,
    "nbgrader": {
     "cell_type": "code",
     "checksum": "704de1896d27c6af92c761d1ece041e8",
     "grade": true,
     "grade_id": "cell2439477339694822",
     "locked": false,
     "points": 5,
     "schema_version": 3,
     "solution": true
    }
   },
   "outputs": [
    {
     "data": {
      "image/png": "[encoded data removed]",
      "text/plain": [
       "<Figure size 432x288 with 1 Axes>"
      ]
     },
     "metadata": {
      "needs_background": "light"
     },
     "output_type": "display_data"
    }
   ],
   "source": [
    "import matplotlib.cm as cm\n",
    "from cycler import cycler\n",
    "\n",
    "theta = numpy.linspace(0, 2*numpy.pi, 100)\n",
    "\n",
    "x = 5*( numpy.sin(theta)**3 )\n",
    "y = 10*numpy.cos(theta) - 5*numpy.cos(2*theta) - 2*numpy.cos(3*theta) - numpy.cos(4*theta)\n",
    "\n",
    "sizes = numpy.linspace(1,5,8)\n",
    "colors = plt.cm.hsv(numpy.linspace(0,1,8))\n",
    "plt.gca().set_prop_cycle(cycler('color', colors))\n",
    "\n",
    "for s in sizes:\n",
    "    plt.plot(s*x, y)\n",
    "\n",
    "plt.title('Heart Shapes')\n",
    "plt.axis('off')\n",
    "plt.show()"
   ]
  },
  {
   "cell_type": "markdown",
   "metadata": {
    "deletable": false,
    "editable": false,
    "nbgrader": {
     "cell_type": "markdown",
     "checksum": "daa4b0633461223033e43917361d37f5",
     "grade": false,
     "grade_id": "cell-ade3b6426b1ed3ab",
     "locked": true,
     "schema_version": 3,
     "solution": false
    }
   },
   "source": [
    "## Question 6 - The Trouble with Tribbles\n",
    "\n",
    "**The Problem**\n",
    "The number of tribbles (furry animals from Star Trek) is modeled by Spock to be exponential.  Spock predicts that in a 3 day period that the tribbles will go from an initial population number of $N_0 = 1$ to $N(3) = 1,771,561$ tribbles.  The assumptions that Spock made are the following:\n",
    " - The tribbles reproduce every 12 hours.\n",
    " - Tribbles reproduce asexually so that 1 tribble will produce 10 more tribbles leading to a total of 11 tribbles.\n",
    "\n",
    "**(a)** (2) Write a function that confirms Spock's estimate"
   ]
  },
  {
   "cell_type": "code",
   "execution_count": 16,
   "metadata": {
    "deletable": false,
    "nbgrader": {
     "cell_type": "code",
     "checksum": "250009673351f7b4fa6f3f48f0a1cd92",
     "grade": false,
     "grade_id": "cell-ced77d94995c3603",
     "locked": false,
     "schema_version": 3,
     "solution": true,
     "task": false
    }
   },
   "outputs": [],
   "source": [
    "import math\n",
    "def N(t):\n",
    "    \"\"\" return the number of tribbles at time t (in days) given that 1 tribble will reproduce \n",
    "        asexually every 12 hours to produce 10 more tribbles.  N can be a real number\n",
    "    \"\"\"\n",
    "    \n",
    "    # Using a*e^(kt) model for growth. Found k (growth rate) using simple math.\n",
    "    n_zero = 1\n",
    "    k = 2*numpy.log(11)\n",
    "    \n",
    "    return round(n_zero*(math.exp(k*t)))"
   ]
  },
  {
   "cell_type": "code",
   "execution_count": 17,
   "metadata": {
    "deletable": false,
    "editable": false,
    "nbgrader": {
     "cell_type": "code",
     "checksum": "e7eda9b8f5be58396fba8a84f8c265ad",
     "grade": true,
     "grade_id": "cell-65deef82d8b7ce70",
     "locked": true,
     "points": 2,
     "schema_version": 3,
     "solution": false,
     "task": false
    }
   },
   "outputs": [],
   "source": [
    "assert(N(3) == 1771561)"
   ]
  },
  {
   "cell_type": "markdown",
   "metadata": {
    "deletable": false,
    "editable": false,
    "nbgrader": {
     "cell_type": "markdown",
     "checksum": "e5472c893d2dab0a969c1a7d1f47cb36",
     "grade": false,
     "grade_id": "cell-96c90a8b85fc8d48",
     "locked": true,
     "schema_version": 3,
     "solution": false,
     "task": false
    }
   },
   "source": [
    "**(b)** (3) Make a plot of N(t) for t=3 days (assuming it is a continous function), using the appropriate plot types making sure to adding labels, units, and titles.  Also refer to the [matplotlib gallery](http://matplotlib.org/gallery.html) to figure out how to plot some of what is asked."
   ]
  },
  {
   "cell_type": "code",
   "execution_count": 21,
   "metadata": {
    "deletable": false,
    "nbgrader": {
     "cell_type": "code",
     "checksum": "76ec33761ac54a988e1ce8908aa620de",
     "grade": true,
     "grade_id": "cell-ced77d94995c3605",
     "locked": false,
     "points": 4,
     "schema_version": 3,
     "solution": true
    }
   },
   "outputs": [
    {
     "data": {
      "image/png": "[encoded data removed]",
      "text/plain": [
       "<Figure size 432x288 with 1 Axes>"
      ]
     },
     "metadata": {
      "needs_background": "light"
     },
     "output_type": "display_data"
    }
   ],
   "source": [
    "x = numpy.arange(0, 3.5, 0.5).tolist()\n",
    "y = []\n",
    "for t in x:\n",
    "    y.append(N(t))\n",
    "    \n",
    "axes = plt.gca()\n",
    "plt.plot(x, y,'r--')\n",
    "plt.title(\"Tribble Population Growth\")\n",
    "plt.xlabel(\"Days\")\n",
    "plt.ylabel(\"Tribble Population\")\n",
    "plt.grid()\n",
    "plt.show()"
   ]
  },
  {
   "cell_type": "markdown",
   "metadata": {
    "deletable": false,
    "editable": false,
    "nbgrader": {
     "cell_type": "markdown",
     "checksum": "920883a9b3fbf121fd6f04e92e1bf8a5",
     "grade": false,
     "grade_id": "cell-7564389d26c906c0",
     "locked": true,
     "schema_version": 3,
     "solution": false
    }
   },
   "source": [
    "**(c)** [5] Assuming that tribbles cannot stack themselves on top of each other perfectly we also would like to model and plot the spread of tribbles throughout our space ship.  Assume our space ship is a square use the following function to plot the population on our space ship of tribbles:\n",
    "$$\n",
    "    N(x, y) = N_0 e^{-r^2/\\sigma^2}\n",
    "$$\n",
    "where $N_0 = 1000$, $\\sigma = 0.1$ and $r$ is the distance from the middle of our space ship."
   ]
  },
  {
   "cell_type": "code",
   "execution_count": 23,
   "metadata": {
    "deletable": false,
    "nbgrader": {
     "cell_type": "code",
     "checksum": "fb6e8455cfcb141a659058fd1efd1ce5",
     "grade": true,
     "grade_id": "cell-57fc8ae3b01fafa8",
     "locked": false,
     "points": 5,
     "schema_version": 3,
     "solution": true
    }
   },
   "outputs": [
    {
     "data": {
      "image/png": "[encoded data removed]",
      "text/plain": [
       "<Figure size 432x288 with 2 Axes>"
      ]
     },
     "metadata": {
      "needs_background": "light"
     },
     "output_type": "display_data"
    }
   ],
   "source": [
    "x = numpy.linspace(-0.2, 0.2, 100)\n",
    "y = numpy.linspace(-0.2, 0.2, 100)\n",
    "xx, yy = numpy.meshgrid(x, y)\n",
    "\n",
    "N_zero = 1000\n",
    "sigma = 0.1\n",
    "\n",
    "fig = plt.figure()\n",
    "ax = plt.gca()\n",
    "\n",
    "z = N_zero * numpy.exp(-(numpy.square(xx)+numpy.square(yy)) / sigma**2)\n",
    "h = plt.contourf(x,y,z, cmap = cm.BuPu)\n",
    "plt.grid()\n",
    "plt.colorbar(label=\"Number of Tribbles\")\n",
    "plt.title('Spread of Tribbles')\n",
    "\n",
    "ax.spines['left'].set_position('zero')\n",
    "ax.spines['right'].set_color('none')\n",
    "ax.spines['bottom'].set_position('zero')\n",
    "ax.spines['top'].set_color('none')\n",
    "\n",
    "plt.xticks(fontsize=8, rotation=0)\n",
    "plt.yticks(fontsize=8, rotation=0)\n",
    "\n",
    "plt.show()"
   ]
  }
 ],
 "metadata": {
  "kernelspec": {
   "display_name": "Python 3",
   "language": "python",
   "name": "python3"
  },
  "language_info": {
   "codemirror_mode": {
    "name": "ipython",
    "version": 3
   },
   "file_extension": ".py",
   "mimetype": "text/x-python",
   "name": "python",
   "nbconvert_exporter": "python",
   "pygments_lexer": "ipython3",
   "version": "3.8.5"
  }
 },
 "nbformat": 4,
 "nbformat_minor": 4
}
