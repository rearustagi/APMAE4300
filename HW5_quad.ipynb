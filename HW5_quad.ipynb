{
 "cells": [
  {
   "cell_type": "markdown",
   "metadata": {},
   "source": [
    "Before you turn this problem in, make sure everything runs as expected. First, **restart the kernel** (in the menubar, select Kernel$\\rightarrow$Restart) and then **run all cells** (in the menubar, select Cell$\\rightarrow$Run All).\n",
    "\n",
    "Make sure you fill in any place that says `YOUR CODE HERE` or \"YOUR ANSWER HERE\", as well as your name and collaborators below:"
   ]
  },
  {
   "cell_type": "code",
   "execution_count": 66,
   "metadata": {},
   "outputs": [],
   "source": [
    "NAME = \"Rea Rustagi\"\n",
    "COLLABORATORS = \"\""
   ]
  },
  {
   "cell_type": "markdown",
   "metadata": {},
   "source": [
    "---"
   ]
  },
  {
   "cell_type": "code",
   "execution_count": 67,
   "metadata": {},
   "outputs": [],
   "source": [
    "%matplotlib inline\n",
    "%precision 16\n",
    "import numpy\n",
    "from scipy.special import erf, fresnel\n",
    "import matplotlib.pyplot as plt"
   ]
  },
  {
   "cell_type": "markdown",
   "metadata": {
    "deletable": false,
    "editable": false,
    "nbgrader": {
     "cell_type": "markdown",
     "checksum": "501a1c819b64d93a63daffcf5dd3d042",
     "grade": false,
     "grade_id": "cell-3336298175051145",
     "locked": true,
     "schema_version": 3,
     "solution": false
    }
   },
   "source": [
    "Before you turn this problem in, make sure everything runs as expected. First, restart the kernel (in the menubar, select Kernel $\\rightarrow$ Restart) and then run all cells (in the menubar, select Cell $\\rightarrow$ Run All).\n",
    "\n",
    "Make sure you fill in any place that says YOUR CODE HERE or \"YOUR ANSWER HERE\", as well as your name and collaborators below:"
   ]
  },
  {
   "cell_type": "markdown",
   "metadata": {
    "deletable": false,
    "editable": false,
    "nbgrader": {
     "cell_type": "markdown",
     "checksum": "0f48417da46c71b01d9269d7a32a68a7",
     "grade": false,
     "grade_id": "cell-8922434501433849",
     "locked": true,
     "schema_version": 3,
     "solution": false
    }
   },
   "source": [
    "# HW 5:  Numerical  Quadrature (hw4++)"
   ]
  },
  {
   "cell_type": "markdown",
   "metadata": {
    "deletable": false,
    "editable": false,
    "nbgrader": {
     "cell_type": "markdown",
     "checksum": "11c4dc7f495597dcf17512a1d25527ed",
     "grade": false,
     "grade_id": "cell-6862f9ce9923e1fc",
     "locked": true,
     "schema_version": 3,
     "solution": false,
     "task": false
    }
   },
   "source": [
    "## Question 1 - Basic  Quadrature Rules\n",
    "\n",
    "The Error Function $\\mathrm{erf}(x)$ is defined by the definite integral\n",
    "\n",
    "$$\n",
    "    \\mathrm{erf}(x) = \\frac{2}{\\pi}\\int_0^x e^{-t^2}dt\n",
    "$$ \n",
    "\n",
    "We will use this function to test and understand the different errors associated with a range of both single interval and extended quadrature rules.  \n",
    "\n",
    "Use the function definitions below to write a set of functions for approximating \n",
    "$$\n",
    " I[f] =  \\int_a^b f(x) dx\n",
    "$$ \n",
    "which we will use for testing against $\\mathrm{erf}(x)$"
   ]
  },
  {
   "cell_type": "markdown",
   "metadata": {
    "deletable": false,
    "editable": false,
    "nbgrader": {
     "cell_type": "markdown",
     "checksum": "7bbd4f1522583961de8457201d6b5b51",
     "grade": false,
     "grade_id": "cell-7394d01b84f7ad21",
     "locked": true,
     "schema_version": 3,
     "solution": false,
     "task": false
    }
   },
   "source": [
    "**(a)** [8] Single step quadrature rules\n",
    "\n",
    "Write short python functions for calculating $I[f]$ for the following newton-Cotes  quadrature rules on a single interval\n",
    "\n",
    "* Left-Rectangle rule\n",
    "* Mid-point rule\n",
    "* Trapezoidal rule\n",
    "* Simpson's Rule"
   ]
  },
  {
   "cell_type": "code",
   "execution_count": 68,
   "metadata": {
    "deletable": false,
    "nbgrader": {
     "cell_type": "code",
     "checksum": "9d83aaabf33a18b7fb3ebdc876ac8b3b",
     "grade": false,
     "grade_id": "cell-656f8ecff157e21f",
     "locked": false,
     "schema_version": 3,
     "solution": true,
     "task": false
    }
   },
   "outputs": [],
   "source": [
    "def I_left(f, a, b):\n",
    "    \"\"\" Left rectangle rule\"\"\"\n",
    "    \n",
    "    h = b - a\n",
    "    I = f(a) * h\n",
    "    \n",
    "    return I\n",
    "    \n",
    "def I_midpoint(f, a, b):\n",
    "    \"\"\" Newton-Cotes Midpoint rule\"\"\"\n",
    "    \n",
    "    h = b - a\n",
    "    I = f(a + (h/2.)) * h\n",
    "    \n",
    "    return I\n",
    "    \n",
    "def I_trapezoid(f, a, b):\n",
    "    \"\"\" Newton-Cotes Midpoint rule\"\"\"\n",
    "    \n",
    "    h = b - a\n",
    "    I = (f(a) + f(b)) * (h/2.)\n",
    "    \n",
    "    return I\n",
    "    \n",
    "def I_simpson(f, a, b):\n",
    "    \"\"\" Newton-Cotes Simpsons rule\"\"\"\n",
    "\n",
    "    # 2 subintervals\n",
    "    h = b - a\n",
    "    dx = h / 2.\n",
    "    x = numpy.linspace(a, b, 3)\n",
    "    y = f(x)\n",
    "    I = (dx/3) * numpy.sum(y[0:-1:2] + 4*y[1::2] + y[2::2])\n",
    "    return I\n",
    "\n"
   ]
  },
  {
   "cell_type": "code",
   "execution_count": 69,
   "metadata": {
    "deletable": false,
    "editable": false,
    "nbgrader": {
     "cell_type": "code",
     "checksum": "805dea44cc0dd5b7acaba0f93a994a72",
     "grade": true,
     "grade_id": "cell-c9c5d610957c6e0d",
     "locked": true,
     "points": 8,
     "schema_version": 3,
     "solution": false,
     "task": false
    }
   },
   "outputs": [
    {
     "name": "stdout",
     "output_type": "stream",
     "text": [
      "x = 1.0, erf(x) = 0.8427007929497148\n",
      "\n",
      "success!\n"
     ]
    }
   ],
   "source": [
    "# test against erf(1.)\n",
    "\n",
    "x = 1.0\n",
    "I_true = erf(x)\n",
    "print('x = {}, erf(x) = {}\\n'.format(x,I_true))\n",
    "f = lambda x : 2./numpy.sqrt(numpy.pi) * numpy.exp(-x*x)\n",
    "\n",
    "I = numpy.zeros(4)\n",
    "I[0] = I_left(f, 0., x)\n",
    "I[1] = I_midpoint(f, 0., x)\n",
    "I[2] = I_trapezoid(f, 0., x)\n",
    "I[3] = I_simpson(f, 0., x)\n",
    "\n",
    "err = numpy.abs( I - I_true)/numpy.abs(I_true)\n",
    "answer = numpy.array([0.339003328982087,  0.0428168411464673,\n",
    "          0.084202437312641, 0.0004770816600977])\n",
    "numpy.testing.assert_allclose(err, answer)\n",
    "print('success!')"
   ]
  },
  {
   "cell_type": "markdown",
   "metadata": {
    "deletable": false,
    "editable": false,
    "nbgrader": {
     "cell_type": "markdown",
     "checksum": "713031b2a8b6bad3c6dee15b9e7569ae",
     "grade": false,
     "grade_id": "cell-9eb665d0310b8e47",
     "locked": true,
     "schema_version": 3,
     "solution": false,
     "task": false
    }
   },
   "source": [
    "**(b)** [8] Repeat the exercise for  3 point Gauss-Legendre Quadrature\n",
    "\n",
    "* First:  calculates the weights $w_i$, using the method of undetermined coefficients such that the quadrature rule exactly integrates the monomials $1, x, x^2$ over the interval $x\\in[-1,1]$.\n",
    "(hint:  the 3 quadrature points $x_i$ are the roots of \n",
    "\n",
    "$$\n",
    "    P_3(x) = (5x^3 - 3x)/2\n",
    "$$\n",
    "and this rule will exactly integrate polynomials up to order 5)."
   ]
  },
  {
   "cell_type": "markdown",
   "metadata": {
    "deletable": false,
    "nbgrader": {
     "cell_type": "markdown",
     "checksum": "7d826c95d35f6e9677e9e61b584dc3e8",
     "grade": true,
     "grade_id": "cell-07d167d661aa6223",
     "locked": false,
     "points": 4,
     "schema_version": 3,
     "solution": true,
     "task": false
    }
   },
   "source": [
    "To find the roots of $P_3(x)$, we will first set it equal to 0:\n",
    "$$\n",
    "\\frac{5x^3 - 3x}{2} = 0\n",
    "\\newline 5x^3 - 3x = 0 \\rightarrow x = 0 \\text{ is a root}\n",
    "\\newline 5x^3 = 3x\n",
    "\\newline x^2 = \\frac{3}{5}\n",
    "\\newline x = \\pm \\sqrt{\\frac{3}{5}}\n",
    "$$\n",
    "Thus, the roots are:\n",
    "$$\n",
    "x_{0,1,2} = 0, \\sqrt{\\frac{3}{5}}, -\\sqrt{\\frac{3}{5}}\n",
    "$$\n",
    "Next, we will find the weights, $w_i$:\n",
    "$\\newline$ Assume: \n",
    "$$\n",
    "    I_3[f] = w_0 f(x_0) + w_1 f(x_1) + w_2 f(x_2)\n",
    "$$\n",
    "$$\\begin{aligned}\n",
    "    &\\text{if}~f = 1:  &I[f] =  \\int^{1}_{-1} 1 dx = 2 & & I_2[1] &= w_0 + w_1 + w_2\\\\\n",
    "    &\\text{if}~f = x:  &I[f] =  \\int^{1}_{-1} x dx = 0 & & I_2[x] &= w_0 x_0 + w_1 x_1 + w_2 x_2\\\\\n",
    "    &\\text{if}~f = x^2:  &I[f] =  \\int^{1}_{-1} x^2 dx = \\frac{2}{3} & & I_2[x^2] &= w_0 x_0^2 + w_1 x_1^2 + w_2 x_2^2\\\\\n",
    "\\end{aligned}$$\n",
    "\n",
    "$$\\begin{aligned}\n",
    "    &w_0 + w_1 + w_2 = 2\\\\\n",
    "    &w_0 x_0 + w_1 x_1 + w_2 x_2 = 0\\\\\n",
    "    &w_0 x_0^2 + w_1 x_1^2 + w_2 x_2^2 = \\frac{2}{3}\\\\\n",
    "\\end{aligned}$$\n",
    "\n",
    "From solving the system of equations we find that:\n",
    "$$\n",
    "x_0 = 0, w_0 = \\frac{8}{9}\n",
    "\\newline x_1 = \\sqrt{\\frac{3}{5}}, w_1 = \\frac{5}{9}\n",
    "\\newline x_2 = -\\sqrt{\\frac{3}{5}}, w_2 = \\frac{5}{9}\n",
    "$$"
   ]
  },
  {
   "cell_type": "markdown",
   "metadata": {
    "deletable": false,
    "editable": false,
    "nbgrader": {
     "cell_type": "markdown",
     "checksum": "f10979ca436557f45b2e46aab652d6f6",
     "grade": false,
     "grade_id": "cell-001440f37a3e160d",
     "locked": true,
     "schema_version": 3,
     "solution": false,
     "task": false
    }
   },
   "source": [
    "Next, implement your 3-point GL quadrature scheme to approximate \n",
    "\n",
    "$$\n",
    "    \\int_a^b f(x) dx\n",
    "$$\n",
    "for an arbitrary interval $x\\in [a,b]$ (remember the affine mapping). "
   ]
  },
  {
   "cell_type": "code",
   "execution_count": 70,
   "metadata": {
    "deletable": false,
    "nbgrader": {
     "cell_type": "code",
     "checksum": "608e6af5b3a81218a4e96ba9b244f979",
     "grade": false,
     "grade_id": "cell-094691d93b475d66",
     "locked": false,
     "schema_version": 3,
     "solution": true,
     "task": false
    }
   },
   "outputs": [],
   "source": [
    "def I_GL3(f, a, b):\n",
    "    \"\"\" 3 point Gauss-Legendre Quadrature rule\"\"\"\n",
    "    \n",
    "    h = b - a\n",
    "    wi = numpy.array([8./9., 5./9., 5./9.])\n",
    "    rts = numpy.array([0., numpy.sqrt(3./5.), -numpy.sqrt(3./5.)])\n",
    "    x = lambda rts: h / 2. * rts + (b + a) / 2.\n",
    "    I = h / 2. * numpy.sum(wi * f(x(rts)))\n",
    "    \n",
    "    return I"
   ]
  },
  {
   "cell_type": "code",
   "execution_count": 71,
   "metadata": {
    "deletable": false,
    "editable": false,
    "nbgrader": {
     "cell_type": "code",
     "checksum": "384646a064e7155b9ae1947f77fee12f",
     "grade": true,
     "grade_id": "cell-0a4061efa277bd8e",
     "locked": true,
     "points": 4,
     "schema_version": 3,
     "solution": false,
     "task": false
    }
   },
   "outputs": [
    {
     "name": "stdout",
     "output_type": "stream",
     "text": [
      "x = 1.0, erf(x) = 0.8427007929497148\n",
      "       I_GL3(x) = 0.8426900184845107, err=1.2785635535382798e-05\n",
      "\n",
      "success!\n"
     ]
    }
   ],
   "source": [
    "x = 1.0\n",
    "I_true = erf(x)\n",
    "f = lambda x : 2./numpy.sqrt(numpy.pi) * numpy.exp(-x*x)\n",
    "\n",
    "I = I_GL3(f, 0., x)\n",
    "err = numpy.abs( I - I_true)/numpy.abs(I_true)\n",
    "print('x = {}, erf(x) = {}'.format(x,I_true))\n",
    "print('       I_GL3(x) = {}, err={}\\n'.format(I,err))\n",
    "\n",
    "answer = 1.2785635535382798e-05\n",
    "numpy.testing.assert_allclose(err, answer)\n",
    "print('success!')"
   ]
  },
  {
   "cell_type": "markdown",
   "metadata": {},
   "source": [
    "**(c)** [8] Extended Quadrature rules. \n",
    "\n",
    "All of the above rules approximate the integral for a single \"panel\" over the interval $[a,b]$, but can be extended to calculate the quadrature of $N$ panels that subdivide the interval.  \n",
    "\n",
    "Write a function that computes\n",
    "\n",
    "$$\n",
    "    I_N[f] = \\int_a^b f(x) dx = \\sum_{n=1}^N I_{method}[f]_n\n",
    "$$\n",
    "\n",
    "\n",
    "where $I_{method}[f]_n$ is one of the quadrature methods used above. \n",
    "\n",
    "Note, this won't be the most efficient way to implement many of these methods,  but that's not really the issue here."
   ]
  },
  {
   "cell_type": "code",
   "execution_count": 72,
   "metadata": {
    "deletable": false,
    "nbgrader": {
     "cell_type": "code",
     "checksum": "3caa4c079bd69f6e6e15f2c59ea1ffb4",
     "grade": false,
     "grade_id": "cell-2773e3774b718b85",
     "locked": false,
     "schema_version": 3,
     "solution": true,
     "task": false
    }
   },
   "outputs": [],
   "source": [
    "def quadN(f, a, b, N, method=I_midpoint):\n",
    "    \"\"\" \n",
    "    integrate a function f over the interval x in [a,b] using \n",
    "    an extended quadrature rule that implements a single interval\n",
    "    quadrature rule over N panels of width (a - b)/N \n",
    "        \n",
    "    Parameters:\n",
    "    -----------\n",
    "        \n",
    "    f:  function f(x) (type real)\n",
    "    a: real\n",
    "        left boundary of interval\n",
    "    b: real\n",
    "        right boundary of interval\n",
    "    N: integer\n",
    "        number of panels to subdivide [a,b]\n",
    "    method:  quadrature function with interface I(f, x0, x1) (real)\n",
    "        returns quadrature approximation for subinterval [x0, x1]\n",
    "        defaults to a midpoint rule\n",
    "            \n",
    "    Returns:\n",
    "    --------\n",
    "    I_N:  extended quadrature approximation of \\int_a^b f(x) dx\n",
    "        \n",
    "    \"\"\"\n",
    "    \n",
    "    I_N = 0\n",
    "    p = numpy.linspace(a, b, N + 1)\n",
    "    for n in range(N):\n",
    "        I_N += method(f, p[n], p[n + 1])\n",
    "    \n",
    "    return I_N"
   ]
  },
  {
   "cell_type": "code",
   "execution_count": 73,
   "metadata": {
    "deletable": false,
    "editable": false,
    "nbgrader": {
     "cell_type": "code",
     "checksum": "b13dd600ef7de18144333d8ac0a0c098",
     "grade": true,
     "grade_id": "cell-1f6027bc9e4241f3",
     "locked": true,
     "points": 4,
     "schema_version": 3,
     "solution": false,
     "task": false
    }
   },
   "outputs": [
    {
     "name": "stdout",
     "output_type": "stream",
     "text": [
      "N = 1, I = 0.8787825789354448, err = 0.042816841146467305\n",
      "N = 2, I = 0.8514725992856609, err = 0.010409158754012854\n",
      "N = 4, I = 0.844870665048331, err = 0.00257490216785125\n",
      "N = 8, I = 0.843241789735697, err = 0.0006419796806984446\n",
      "N = 16, I = 0.8428359498722815, err = 0.00016038542232009014\n",
      "success!\n"
     ]
    }
   ],
   "source": [
    "# Let's test against erf(1)\n",
    "\n",
    "x = 1.\n",
    "I_true = erf(x)\n",
    "f = lambda x : 2./numpy.sqrt(numpy.pi) * numpy.exp(-x*x)\n",
    "\n",
    "# set the number of panels in a list\n",
    "N = [ 2**n for n in range (5)]\n",
    "\n",
    "# integrate using the extended mid-point scheme and calculate relative errors for each N\n",
    "err = numpy.zeros(len(N))\n",
    "for i,n in enumerate(N):\n",
    "    I = quadN(f, 0., x, n, method=I_midpoint)\n",
    "    err[i] = numpy.abs(I - I_true)/numpy.abs(I_true)\n",
    "    print('N = {}, I = {}, err = {}'.format(n, I, err[i]) )\n",
    "    \n",
    "answer = numpy.array([0.0428168411464673, 0.0104091587540129,\n",
    "                      0.0025749021678512, 0.0006419796806984,\n",
    "                      0.0001603854223201])\n",
    "numpy.testing.assert_allclose(answer,err)\n",
    "print('success!')\n",
    "                    "
   ]
  },
  {
   "cell_type": "markdown",
   "metadata": {},
   "source": [
    "**(d)** [10] Now *write a function* to make a plot that  compares the convergence behavior of all of the above methods (if you make it a function, you will be able to reuse it in the next  problem).\n",
    "\n",
    "This function should  make a beautiful log-log plot showing the convergence behavior of the *relative error* with respect to \n",
    "\n",
    "$$\n",
    "    I_{true} = \\mathrm{erf}(1) = 0.8427007929497148\n",
    "$$\n",
    "\n",
    "for all the different quadrature rules for \n",
    "\n",
    "$$\n",
    "    N = 2^n \\quad \\text{panels}\\quad \\text{for}\\, n=0,1,\\ldots,10\n",
    "$$\n",
    "\n",
    "remember to label all the curves with the methods.\n",
    "\n",
    "Hint 1: there are some nice python tricks for doing this relatively efficiently, e.g. you can loop over a list of methods and extract the name with \n",
    "\n",
    "`name = method.__name__`\n",
    "\n",
    "\n",
    "**Extra Credit** the rate of convergence of any scheme can be written as\n",
    "\n",
    "$$\n",
    "    |e| = C\\Delta x^p\n",
    "$$\n",
    "\n",
    "For each method calculate $C$ and $p$ and plot the best fit straight-line in $\\log(\\Delta x)-\\log(e)$ space (hint: `numpy.polyfit` is your friend). "
   ]
  },
  {
   "cell_type": "code",
   "execution_count": 74,
   "metadata": {
    "deletable": false,
    "nbgrader": {
     "cell_type": "code",
     "checksum": "7c671abfa500fc1dacee7f86cc6553c1",
     "grade": false,
     "grade_id": "cell-4660d6ac4039cdea",
     "locked": false,
     "schema_version": 3,
     "solution": true,
     "task": false
    }
   },
   "outputs": [],
   "source": [
    "import matplotlib.cm as cm\n",
    "from cycler import cycler\n",
    "\n",
    "def plot_quad_convergence(f, a, b, N, I_true, title = None):\n",
    "    \"\"\" create a convergence log-log plot that plots relative error of \n",
    "    various extended quadrature schemes vs panel spacing dx\n",
    "    \n",
    "    If really fancy, also calculates the best fit straight line in log-log space to estimate convergence\n",
    "    parameters\n",
    "    \n",
    "    Parameters:\n",
    "    -----------\n",
    "        \n",
    "    f:  function f(x) (type real)\n",
    "    a: real\n",
    "        left boundary of interval\n",
    "    b: real\n",
    "        right boundary of interval\n",
    "    N: List of integers \n",
    "        number of panels to subdivide [a,b]\n",
    "    I_true:  real\n",
    "        True solution to compute errors\n",
    "    title:  string\n",
    "        title of plot (if not None)\n",
    "            \n",
    "    Returns:\n",
    "    --------\n",
    "    Nothing but generates a pretty log-log plot all properly labeled\n",
    "    \n",
    "    \"\"\"\n",
    "    h = (b - a) / numpy.array(N)\n",
    "    error = numpy.zeros(h.shape)\n",
    "    \n",
    "    fig = plt.figure(figsize = (7, 5))\n",
    "    axes = fig.add_subplot(1, 1, 1)\n",
    "    \n",
    "    colors = plt.cm.plasma(numpy.linspace(0,1,6))\n",
    "    plt.gca().set_prop_cycle(cycler('color', colors))\n",
    "    \n",
    "    methods = [I_left, I_midpoint, I_trapezoid, I_simpson, I_GL3]\n",
    "    \n",
    "    for m, meth in enumerate(methods):\n",
    "        name = meth.__name__\n",
    "        \n",
    "        for i, n in enumerate(N):\n",
    "            I = quadN(f, 0., x, n, method = meth)\n",
    "            error[i] = numpy.abs((I - I_true) / I_true)\n",
    "            \n",
    "            max_n = len(N)\n",
    "            \n",
    "        p = numpy.polyfit(numpy.log(h[:max_n]), numpy.log(error[:max_n]), 1)\n",
    "        fit_error = numpy.exp(p[1]) * (h ** p[0])\n",
    "        \n",
    "        axes.loglog(h, error, '*', label = '{}, p = {:.2f}'.format(name, p[0]), color = colors[m])\n",
    "        axes.loglog(h, fit_error, '--', color = colors[m])\n",
    "        \n",
    "    axes.set_xlabel('$\\Delta x$')\n",
    "    axes.set_ylabel('Relative Error')\n",
    "    axes.legend()\n",
    "    axes.grid()\n",
    "    axes.set_title(title)\n",
    "    \n",
    "    plt.show()"
   ]
  },
  {
   "cell_type": "code",
   "execution_count": 75,
   "metadata": {
    "deletable": false,
    "editable": false,
    "nbgrader": {
     "cell_type": "code",
     "checksum": "fcf225a54de7ce5c4d5c480d050c14e9",
     "grade": true,
     "grade_id": "cell-4660d6ac40234983",
     "locked": true,
     "points": 10,
     "schema_version": 3,
     "solution": false,
     "task": false
    }
   },
   "outputs": [
    {
     "data": {
      "image/png": "[encoded data removed]",
      "text/plain": [
       "<Figure size 504x360 with 1 Axes>"
      ]
     },
     "metadata": {
      "needs_background": "light"
     },
     "output_type": "display_data"
    }
   ],
   "source": [
    "#Let's test with erf(1) and a lot of points\n",
    "\n",
    "x = 1.\n",
    "I_true = erf(x)\n",
    "f = lambda x : 2./numpy.sqrt(numpy.pi) * numpy.exp(-x*x)    \n",
    "\n",
    "N = [ 2**n for n in range (11)]\n",
    "\n",
    "plot_quad_convergence(f, 0., 1., N, I_true, 'erf(1.)')"
   ]
  },
  {
   "cell_type": "markdown",
   "metadata": {
    "deletable": false,
    "editable": false,
    "nbgrader": {
     "cell_type": "markdown",
     "checksum": "7f29373a9532025bf4d3caa2d3650f7f",
     "grade": false,
     "grade_id": "cell-afe493064c8d3820",
     "locked": true,
     "schema_version": 3,
     "solution": false,
     "task": false
    }
   },
   "source": [
    "**(e)** [3] Estimate the number of function evaluations required to get a relative error $e \\approx 10^{-7}$ i.e. about 7 digits of precision for the schemes\n",
    "\n",
    "* Mid-point\n",
    "* Simpson's\n",
    "* 3-Pt GL quadrature\n"
   ]
  },
  {
   "cell_type": "markdown",
   "metadata": {
    "deletable": false,
    "nbgrader": {
     "cell_type": "markdown",
     "checksum": "6ac87dd21ab641341de4d3787e28ad44",
     "grade": true,
     "grade_id": "cell-8625e6a922cd3352",
     "locked": false,
     "points": 3,
     "schema_version": 3,
     "solution": true,
     "task": false
    }
   },
   "source": [
    "Mid-point scheme: From the graph, I am estimating that $e \\approx 10^{-7}$ is reached at $\\Delta x \\approx 10^{-2.9}$, which is about 800-900 function evaluations.\n",
    "$\\newline$ Simpson's scheme: From the graph, I am estimating that $e \\approx 10^{-7}$ is reached at $\\Delta x \\approx 10^{-0.95}$, which is about 8-10 function evaluations.\n",
    "$\\newline$ 3-Point GL scheme: From the graph, I am estimating that $e \\approx 10^{-7}$ is reached at $\\Delta x \\approx 10^{-0.3}$, which is about 2-3 function evaluations."
   ]
  },
  {
   "cell_type": "markdown",
   "metadata": {
    "deletable": false,
    "editable": false,
    "nbgrader": {
     "cell_type": "markdown",
     "checksum": "873062154e7804823aa04f2506934094",
     "grade": false,
     "grade_id": "cell-7913098871853593",
     "locked": true,
     "schema_version": 3,
     "solution": false
    }
   },
   "source": [
    "## Question 2\n",
    "\n",
    "Let's repeat the problem with a harder integral.\n",
    "\n",
    "Consider the scaled Fresnel integrals\n",
    "\n",
    "$$I_c = \\int^1_0 \\frac{\\cos x}{\\sqrt{x}} dx~~~~\\text{and}~~~~I_s = \\int^1_0 \\frac{\\sin x}{\\sqrt{x}} dx$$\n",
    "\n",
    "which have values\n",
    "\n",
    "$$I_c = \\sqrt{2 \\pi} \\cdot C\\left(\\sqrt{\\frac{2}{\\pi}}\\right) \\approx 1.8090484758005438$$\n",
    "\n",
    "$$I_s = \\sqrt{2 \\pi} \\cdot S\\left(\\sqrt{\\frac{2}{\\pi}}\\right) \\approx 0.62053660344676231$$\n",
    "\n",
    "where the functions $C(x)$ and $S(x)$ can be evaluated by `scipy.special.fresnel`.\n"
   ]
  },
  {
   "cell_type": "markdown",
   "metadata": {
    "deletable": false,
    "editable": false,
    "nbgrader": {
     "cell_type": "markdown",
     "checksum": "222f7d5236736b8a0776cb02ca1df5b4",
     "grade": false,
     "grade_id": "cell-8ebcf647bbb397eb",
     "locked": true,
     "schema_version": 3,
     "solution": false
    }
   },
   "source": [
    "**(a)** [2] Where do you imagine the problematic points of the integrals will be?"
   ]
  },
  {
   "cell_type": "markdown",
   "metadata": {
    "deletable": false,
    "nbgrader": {
     "cell_type": "markdown",
     "checksum": "43f6c40a1d1510407671a7fd52b23b89",
     "grade": true,
     "grade_id": "cell-52b455a70eeda752",
     "locked": false,
     "points": 2,
     "schema_version": 3,
     "solution": true
    }
   },
   "source": [
    "I imagine that the problematic points will be at $ x = 0 $, where the integrals are discontinuous."
   ]
  },
  {
   "cell_type": "markdown",
   "metadata": {
    "deletable": false,
    "editable": false,
    "nbgrader": {
     "cell_type": "markdown",
     "checksum": "90b26b9a2d890e91ad20980c2f8d454d",
     "grade": false,
     "grade_id": "cell-1280863455188854",
     "locked": true,
     "schema_version": 3,
     "solution": false
    }
   },
   "source": [
    "**(b)** [4] Use your convergence plotting routine to make  2 plots showing convergence behavior for all the extended quadrature rules for $I_c$ and $I_s$ "
   ]
  },
  {
   "cell_type": "code",
   "execution_count": 76,
   "metadata": {
    "deletable": false,
    "editable": false,
    "nbgrader": {
     "cell_type": "code",
     "checksum": "7ebf34615245a87bea24a1c1ba31976d",
     "grade": false,
     "grade_id": "cell-b8c9ff40cd5c59c5",
     "locked": true,
     "schema_version": 3,
     "solution": false,
     "task": false
    }
   },
   "outputs": [],
   "source": [
    "# Set the True solutions for reference\n",
    "Is_true, Ic_true = fresnel(numpy.sqrt(2.0 / numpy.pi))\n",
    "Is_true *= numpy.sqrt(2.0 * numpy.pi)\n",
    "Ic_true *= numpy.sqrt(2.0 * numpy.pi)"
   ]
  },
  {
   "cell_type": "code",
   "execution_count": 77,
   "metadata": {
    "deletable": false,
    "nbgrader": {
     "cell_type": "code",
     "checksum": "e0d01a567f26eec13643ac678addf4b8",
     "grade": true,
     "grade_id": "cell-4769111180699037",
     "locked": false,
     "points": 4,
     "schema_version": 3,
     "solution": true,
     "task": false
    }
   },
   "outputs": [
    {
     "name": "stderr",
     "output_type": "stream",
     "text": [
      "<ipython-input-77-48a01792b322>:1: RuntimeWarning: divide by zero encountered in double_scalars\n",
      "  I_c = lambda x: numpy.cos(x)/numpy.sqrt(x)\n",
      "<ipython-input-77-48a01792b322>:1: RuntimeWarning: divide by zero encountered in double_scalars\n",
      "  I_c = lambda x: numpy.cos(x)/numpy.sqrt(x)\n",
      "<ipython-input-77-48a01792b322>:1: RuntimeWarning: divide by zero encountered in true_divide\n",
      "  I_c = lambda x: numpy.cos(x)/numpy.sqrt(x)\n"
     ]
    },
    {
     "data": {
      "image/png": "[encoded data removed]",
      "text/plain": [
       "<Figure size 504x360 with 1 Axes>"
      ]
     },
     "metadata": {
      "needs_background": "light"
     },
     "output_type": "display_data"
    },
    {
     "name": "stderr",
     "output_type": "stream",
     "text": [
      "<ipython-input-77-48a01792b322>:2: RuntimeWarning: invalid value encountered in double_scalars\n",
      "  I_s = lambda x: numpy.sin(x)/numpy.sqrt(x)\n",
      "<ipython-input-77-48a01792b322>:2: RuntimeWarning: invalid value encountered in double_scalars\n",
      "  I_s = lambda x: numpy.sin(x)/numpy.sqrt(x)\n",
      "<ipython-input-77-48a01792b322>:2: RuntimeWarning: invalid value encountered in true_divide\n",
      "  I_s = lambda x: numpy.sin(x)/numpy.sqrt(x)\n"
     ]
    },
    {
     "data": {
      "image/png": "[encoded data removed]",
      "text/plain": [
       "<Figure size 504x360 with 1 Axes>"
      ]
     },
     "metadata": {
      "needs_background": "light"
     },
     "output_type": "display_data"
    }
   ],
   "source": [
    "I_c = lambda x: numpy.cos(x)/numpy.sqrt(x)\n",
    "I_s = lambda x: numpy.sin(x)/numpy.sqrt(x)\n",
    "\n",
    "N = [2**n for n in range (11)]\n",
    "plot_quad_convergence(I_c, 0., 1., N, Ic_true, '$I_c$')\n",
    "plot_quad_convergence(I_s, 0., 1., N, Is_true, '$I_s$')"
   ]
  },
  {
   "cell_type": "markdown",
   "metadata": {
    "deletable": false,
    "editable": false,
    "nbgrader": {
     "cell_type": "markdown",
     "checksum": "8f2038ab50a4c886d293dedb1a869c07",
     "grade": false,
     "grade_id": "cell-9da6810b250515c1",
     "locked": true,
     "schema_version": 3,
     "solution": false,
     "task": false
    }
   },
   "source": [
    "**(c)**  [4] Explain the results of your plots"
   ]
  },
  {
   "cell_type": "markdown",
   "metadata": {
    "deletable": false,
    "nbgrader": {
     "cell_type": "markdown",
     "checksum": "a757dade2565bc279dd29509dc7f7175",
     "grade": true,
     "grade_id": "cell-63c5719c37c551a7",
     "locked": false,
     "points": 4,
     "schema_version": 3,
     "solution": true,
     "task": false
    }
   },
   "source": [
    "Of the methods we defined, only the midpoint and 3-point GL methods are able to approximate the Fresnel integrals. These two methods use the midpoint of each panel to calculate an approximation, so they do not encounter a divide by 0 error at the singularity $ x = 0 $. These two methods approximate $I_c$ better than $I_s$. "
   ]
  },
  {
   "cell_type": "markdown",
   "metadata": {
    "deletable": false,
    "editable": false,
    "nbgrader": {
     "cell_type": "markdown",
     "checksum": "f34fc6440d2bf6c705a7f05f1851b890",
     "grade": false,
     "grade_id": "cell-4978686228436492",
     "locked": true,
     "schema_version": 3,
     "solution": false
    }
   },
   "source": [
    "**(d)** [4] show that the convergence and the quadrature schemes can be dramatically improved simply by tranforming the variable $x$ with $x=t^2$\n",
    "\n",
    "1. Show analytically what the transformed integral should be\n",
    "2. produce two more plots demonstrating convergence behaviour\n",
    "3. comment on the results"
   ]
  },
  {
   "cell_type": "markdown",
   "metadata": {
    "deletable": false,
    "nbgrader": {
     "cell_type": "markdown",
     "checksum": "35864666b5625c7e749afeac806160eb",
     "grade": true,
     "grade_id": "cell-497868628436492",
     "locked": false,
     "points": 4,
     "schema_version": 3,
     "solution": true
    }
   },
   "source": [
    "$$I_c = \\int^1_0 \\frac{\\cos x}{\\sqrt{x}} dx$$\n",
    "\n",
    "Transforming with $x = t^2$:\n",
    "\n",
    "$$I_c = \\int^1_0 \\frac{\\cos t^2}{\\sqrt{t^2}} dt^2 = \\int^1_0 \\frac{\\cos t^2}{t} dt^2$$\n",
    "\n",
    "Since $dt^2 = 2tdt$, \n",
    "\n",
    "$$I_c = 2 \\int^1_0 \\cos t^2 dt$$\n",
    "\n",
    "Using the same substitutions:\n",
    "$$I_s = 2 \\int^1_0 \\sin t^2 dt$$"
   ]
  },
  {
   "cell_type": "code",
   "execution_count": 78,
   "metadata": {
    "deletable": false,
    "nbgrader": {
     "cell_type": "code",
     "checksum": "a8dbac5be031598051fa0c34127ecd6f",
     "grade": true,
     "grade_id": "cell-eb376330eaf94f20",
     "locked": false,
     "points": 2,
     "schema_version": 3,
     "solution": true,
     "task": false
    }
   },
   "outputs": [
    {
     "name": "stderr",
     "output_type": "stream",
     "text": [
      "<ipython-input-74-897c5fe506c3>:51: RuntimeWarning: divide by zero encountered in log\n",
      "  p = numpy.polyfit(numpy.log(h[:max_n]), numpy.log(error[:max_n]), 1)\n"
     ]
    },
    {
     "data": {
      "image/png": "[encoded data removed]",
      "text/plain": [
       "<Figure size 504x360 with 1 Axes>"
      ]
     },
     "metadata": {
      "needs_background": "light"
     },
     "output_type": "display_data"
    },
    {
     "data": {
      "image/png": "[encoded data removed]",
      "text/plain": [
       "<Figure size 504x360 with 1 Axes>"
      ]
     },
     "metadata": {
      "needs_background": "light"
     },
     "output_type": "display_data"
    }
   ],
   "source": [
    "# Setting the True solutions for reference\n",
    "Is_true, Ic_true = fresnel(numpy.sqrt(2.0 / numpy.pi))\n",
    "Is_true *= numpy.sqrt(2.0 * numpy.pi)\n",
    "Ic_true *= numpy.sqrt(2.0 * numpy.pi)\n",
    "\n",
    "I_c = lambda t: 2 * numpy.cos(t ** 2)\n",
    "I_s = lambda t: 2 * numpy.sin(t ** 2)\n",
    "\n",
    "N = [2**n for n in range (11)]\n",
    "plot_quad_convergence(I_c, 0., 1., N, Ic_true, '$I_c$')\n",
    "plot_quad_convergence(I_s, 0., 1., N, Is_true, '$I_s$')"
   ]
  },
  {
   "cell_type": "markdown",
   "metadata": {
    "deletable": false,
    "nbgrader": {
     "cell_type": "markdown",
     "checksum": "6ce23a474c27cd96722f8c415b9bc5d4",
     "grade": true,
     "grade_id": "cell-7860584774817940",
     "locked": false,
     "points": 2,
     "schema_version": 3,
     "solution": true
    }
   },
   "source": [
    "Now, all five methods can approximate the Fresnel integrals because the singularity at $ x = 0 $ has been eliminated with the transformation. In both graphs, we can see that the 3-point GL scheme works best. $I_c$ is still better approximated. "
   ]
  },
  {
   "cell_type": "code",
   "execution_count": null,
   "metadata": {},
   "outputs": [],
   "source": []
  }
 ],
 "metadata": {
  "kernelspec": {
   "display_name": "Python 3",
   "language": "python",
   "name": "python3"
  },
  "language_info": {
   "codemirror_mode": {
    "name": "ipython",
    "version": 3
   },
   "file_extension": ".py",
   "mimetype": "text/x-python",
   "name": "python",
   "nbconvert_exporter": "python",
   "pygments_lexer": "ipython3",
   "version": "3.8.5"
  }
 },
 "nbformat": 4,
 "nbformat_minor": 4
}
